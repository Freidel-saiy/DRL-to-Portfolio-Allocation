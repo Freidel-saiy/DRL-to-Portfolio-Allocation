{
 "cells": [
  {
   "cell_type": "code",
   "execution_count": 1,
   "metadata": {},
   "outputs": [],
   "source": [
    "%load_ext autoreload\n",
    "%autoreload 2"
   ]
  },
  {
   "cell_type": "code",
   "execution_count": 2,
   "metadata": {},
   "outputs": [],
   "source": [
    "import pandas as pd\n",
    "import numpy as np\n",
    "import matplotlib.pyplot as plt\n",
    "plt.style.use(\"dark_background\")\n",
    "import os\n",
    "import glob\n",
    "import imageio\n",
    "%matplotlib inline\n",
    "\n",
    "from IPython.display import clear_output\n",
    "from sklearn.preprocessing import QuantileTransformer\n",
    "from tensorflow.keras.optimizers import Adam\n",
    "from stable_baselines3 import PPO, A2C"
   ]
  },
  {
   "cell_type": "code",
   "execution_count": 3,
   "metadata": {},
   "outputs": [],
   "source": [
    "import sys\n",
    "sys.path.append(r\"C:\\Users\\fidel\\OneDrive\\Documentos\\Mestrado\\code\")\n",
    "from SL_evaluations import get_model, pnl_metric, sharpe_metric, pnl_curve\n",
    "from RL_trading_envs import MommyHouse, MommyHouseWithWind"
   ]
  },
  {
   "cell_type": "code",
   "execution_count": 4,
   "metadata": {},
   "outputs": [],
   "source": [
    "path_save = r'C:\\Users\\fidel\\OneDrive\\Documentos\\Mestrado\\code\\log_files'"
   ]
  },
  {
   "cell_type": "code",
   "execution_count": 7,
   "metadata": {},
   "outputs": [],
   "source": [
    "def get_actions_by_grid(model, env, positions, wind = 0):\n",
    "    list_actions = []\n",
    "    for position in positions:\n",
    "        state = env.features_to_state(position, wind)\n",
    "        action, _ = model.predict(state, deterministic = True)\n",
    "        list_actions.append(action.item())\n",
    "    return list_actions"
   ]
  },
  {
   "cell_type": "code",
   "execution_count": 11,
   "metadata": {},
   "outputs": [
    {
     "name": "stdout",
     "output_type": "stream",
     "text": [
      "Wall time: 16min 50s\n"
     ]
    }
   ],
   "source": [
    "%%time\n",
    "# agent_parameters = dict(learning_rate=0.0003,\n",
    "#                         n_steps=2048,\n",
    "#                         batch_size=64,\n",
    "#                         n_epochs=10)\n",
    "# agent_parameters = dict(learning_rate=0.0003,\n",
    "#                         n_steps=2048,\n",
    "#                         batch_size=2048,\n",
    "#                         n_epochs=1)\n",
    "agent_parameters = {}\n",
    "# env   = MommyHouse()\n",
    "env   = MommyHouseWithWind()\n",
    "model = A2C('MlpPolicy', env, verbose=0, **agent_parameters)\n",
    "positions = np.linspace(-15, 15, 100)\n",
    "for i in range(100):\n",
    "    clear_output(wait=True)\n",
    "    model.learn(total_timesteps=1e4)\n",
    "    list_actions = get_actions_by_grid(model, env, positions, wind = 0)\n",
    "    plt.figure()\n",
    "    plt.scatter(positions, list_actions)\n",
    "    plt.grid()\n",
    "    plt.title(i)\n",
    "    plt.savefig(os.path.join(path_save, f'image_{i}.jpeg'))"
   ]
  },
  {
   "cell_type": "code",
   "execution_count": 12,
   "metadata": {},
   "outputs": [
    {
     "name": "stderr",
     "output_type": "stream",
     "text": [
      "<ipython-input-12-4b221678cccb>:4: DeprecationWarning: Starting with ImageIO v3 the behavior of this function will switch to that of iio.v3.imread. To keep the current behavior (and make this warning dissapear) use `import imageio.v2 as imageio` or call `imageio.v2.imread` directly.\n",
      "  images.append(imageio.imread(filename))\n"
     ]
    }
   ],
   "source": [
    "filenames = glob.glob(os.path.join(path_save, 'image_*'))     \n",
    "images = []\n",
    "for filename in filenames:\n",
    "    images.append(imageio.imread(filename))\n",
    "imageio.mimsave(os.path.join(path_save, 'gifs', 'movie.gif'), images, duration = 1)"
   ]
  },
  {
   "cell_type": "code",
   "execution_count": 13,
   "metadata": {},
   "outputs": [
    {
     "name": "stderr",
     "output_type": "stream",
     "text": [
      "<ipython-input-13-703282fb7633>:4: DeprecationWarning: Starting with ImageIO v3 the behavior of this function will switch to that of iio.v3.imread. To keep the current behavior (and make this warning dissapear) use `import imageio.v2 as imageio` or call `imageio.v2.imread` directly.\n",
      "  writer.append_data(imageio.imread(filename))\n"
     ]
    }
   ],
   "source": [
    "writer = imageio.get_writer(os.path.join(path_save, 'gifs', 'test.mp4'), fps=1)\n",
    "filenames = glob.glob(os.path.join(path_save, 'image_*'))     \n",
    "for filename in filenames:\n",
    "    writer.append_data(imageio.imread(filename))\n",
    "writer.close()\n"
   ]
  },
  {
   "cell_type": "code",
   "execution_count": 5,
   "metadata": {},
   "outputs": [],
   "source": [
    "env   = MommyHouseWithWind()"
   ]
  },
  {
   "cell_type": "code",
   "execution_count": 29,
   "metadata": {},
   "outputs": [],
   "source": [
    "positions = np.linspace(-30, 30, 100)\n",
    "list_actions = get_actions_by_grid(positions = positions, wind = 1)"
   ]
  },
  {
   "cell_type": "code",
   "execution_count": 30,
   "metadata": {},
   "outputs": [
    {
     "data": {
      "image/png": "[encoded data removed]",
      "text/plain": [
       "<Figure size 432x288 with 1 Axes>"
      ]
     },
     "metadata": {
      "needs_background": "dark"
     },
     "output_type": "display_data"
    }
   ],
   "source": [
    "%matplotlib inline\n",
    "plt.scatter(positions, list_actions)\n",
    "plt.grid()"
   ]
  },
  {
   "cell_type": "code",
   "execution_count": 28,
   "metadata": {},
   "outputs": [
    {
     "data": {
      "text/plain": [
       "[1.0]"
      ]
     },
     "execution_count": 28,
     "metadata": {},
     "output_type": "execute_result"
    }
   ],
   "source": [
    "get_actions_by_grid(positions = [-1], wind = 3)"
   ]
  },
  {
   "cell_type": "code",
   "execution_count": null,
   "metadata": {},
   "outputs": [],
   "source": [
    "def evaluate_agent(agent, env, initial_state = None):\n",
    "    terminal = False\n",
    "    cummulative_reward = 0\n",
    "    env.reset()\n",
    "    if initial_state is not None:\n",
    "        env.state = initial_state\n",
    "    while not terminal:\n",
    "        action, _ = model.predict(env.state, deterministic = True)\n",
    "        state, reward, terminal, _ = env.step(action)\n",
    "        cummulative_reward += reward\n",
    "    return cummulative_reward"
   ]
  },
  {
   "cell_type": "code",
   "execution_count": 50,
   "metadata": {},
   "outputs": [
    {
     "data": {
      "text/plain": [
       "array([-1.], dtype=float32)"
      ]
     },
     "execution_count": 50,
     "metadata": {},
     "output_type": "execute_result"
    }
   ],
   "source": [
    "state = env.features_to_state(position = -0.5, wind = 10)\n",
    "action, _ = model.predict(state, deterministic = True)\n",
    "action"
   ]
  },
  {
   "cell_type": "code",
   "execution_count": 30,
   "metadata": {},
   "outputs": [],
   "source": [
    "env.state = env.features_to_state(position = -5, wind = 0)"
   ]
  },
  {
   "cell_type": "code",
   "execution_count": 31,
   "metadata": {},
   "outputs": [
    {
     "data": {
      "text/plain": [
       "{'position': -5.0, 'wind': 0.0}"
      ]
     },
     "execution_count": 31,
     "metadata": {},
     "output_type": "execute_result"
    }
   ],
   "source": [
    "env.state_to_features(as_dictionary = True)"
   ]
  },
  {
   "cell_type": "code",
   "execution_count": 16,
   "metadata": {},
   "outputs": [
    {
     "ename": "NameError",
     "evalue": "name 'StockEnvTrainOnePerTime' is not defined",
     "output_type": "error",
     "traceback": [
      "\u001b[1;31m---------------------------------------------------------------------------\u001b[0m",
      "\u001b[1;31mNameError\u001b[0m                                 Traceback (most recent call last)",
      "\u001b[1;32m<timed exec>\u001b[0m in \u001b[0;36m<module>\u001b[1;34m\u001b[0m\n",
      "\u001b[1;31mNameError\u001b[0m: name 'StockEnvTrainOnePerTime' is not defined"
     ]
    }
   ],
   "source": [
    "%%time\n",
    "agent_parameters = dict(learning_rate=0.0003,\n",
    "                        n_steps=2048,\n",
    "                        batch_size=64,\n",
    "                        n_epochs=10)\n",
    "# agent_parameters = dict(learning_rate=0.0003,\n",
    "#                         n_steps=2048,\n",
    "#                         batch_size=2048,\n",
    "#                         n_epochs=1)\n",
    "env   = StockEnvTrainOnePerTime(df, list_features)\n",
    "model = A2C('MlpPolicy', env, verbose=0)\n",
    "list_results = []\n",
    "for _ in range(1600):\n",
    "    clear_output(wait=True)\n",
    "    model.learn(total_timesteps=1e4)\n",
    "    yhat = get_actions(df, list_features, model).reshape(-1)\n",
    "    list_results.append(pnl_metric(y, yhat)/0.15844)\n",
    "    plt.plot(list_results)\n",
    "    plt.show()"
   ]
  },
  {
   "cell_type": "code",
   "execution_count": null,
   "metadata": {},
   "outputs": [],
   "source": [
    "plt.hist(yhat)"
   ]
  },
  {
   "cell_type": "code",
   "execution_count": null,
   "metadata": {},
   "outputs": [],
   "source": []
  }
 ],
 "metadata": {
  "kernelspec": {
   "display_name": "Python 3",
   "language": "python",
   "name": "python3"
  },
  "language_info": {
   "codemirror_mode": {
    "name": "ipython",
    "version": 3
   },
   "file_extension": ".py",
   "mimetype": "text/x-python",
   "name": "python",
   "nbconvert_exporter": "python",
   "pygments_lexer": "ipython3",
   "version": "3.8.5"
  }
 },
 "nbformat": 4,
 "nbformat_minor": 4
}
