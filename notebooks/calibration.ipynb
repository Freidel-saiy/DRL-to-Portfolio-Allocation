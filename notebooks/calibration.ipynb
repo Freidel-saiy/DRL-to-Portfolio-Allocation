{
 "cells": [
  {
   "cell_type": "code",
   "execution_count": 1,
   "metadata": {},
   "outputs": [],
   "source": [
    "import pandas as pd\n",
    "import numpy as np\n",
    "import matplotlib.pyplot as plt"
   ]
  },
  {
   "cell_type": "code",
   "execution_count": 2,
   "metadata": {},
   "outputs": [],
   "source": [
    "from sklearn.isotonic import IsotonicRegression"
   ]
  },
  {
   "cell_type": "code",
   "execution_count": 3,
   "metadata": {},
   "outputs": [],
   "source": [
    "plt.style.use('dark_background')"
   ]
  },
  {
   "cell_type": "markdown",
   "metadata": {},
   "source": [
    "### Compute risk metrics"
   ]
  },
  {
   "cell_type": "code",
   "execution_count": 4,
   "metadata": {},
   "outputs": [],
   "source": [
    "risk_window_size = 60"
   ]
  },
  {
   "cell_type": "code",
   "execution_count": 5,
   "metadata": {},
   "outputs": [],
   "source": [
    "df_pred = pd.read_pickle(r'D:\\Datasets\\TwoSigmaDataSetBr_2022_03_04\\Papertrade_br\\models\\MlpVarianceSwap\\trained_model\\model_MlpVarianceSwap_2022-03-03\\df_test_mestrado.pkl')\n",
    "df_pred = df_pred[['asset_identifier', 'date', 'yhat', 'target']]"
   ]
  },
  {
   "cell_type": "code",
   "execution_count": 6,
   "metadata": {},
   "outputs": [],
   "source": [
    "df_prices = pd.read_pickle(r\"D:\\Datasets\\TwoSigmaDataSetBr_2022_03_04\\Papertrade_br\\models\\MlpVarianceSwap\\trained_model\\model_MlpVarianceSwap_2022-03-03\\full_market_data_final.pkl\")\n",
    "df_prices = df_prices[['asset_identifier', 'ric', 'date', 'close', 'universe']].copy()\n",
    "df_prices.loc[:, 'ret'] = df_prices.groupby('asset_identifier')['close'].pct_change()\n",
    "df_prices.loc[:, 'vol'] = df_prices.groupby('asset_identifier')['ret'].apply(lambda x: x.rolling(risk_window_size).std())\n",
    "df_prices.dropna(inplace = True)"
   ]
  },
  {
   "cell_type": "code",
   "execution_count": 7,
   "metadata": {},
   "outputs": [],
   "source": [
    "df_ibov = pd.read_csv(r\"D:\\Datasets\\TwoSigmaDataSetBr_2022_03_04\\Papertrade_br\\models\\MlpVarianceSwap\\trained_model\\model_MlpVarianceSwap_2022-03-03\\^BVSP.csv\")\n",
    "df_ibov.dropna(inplace = True)\n",
    "df_ibov.rename(columns = {\"Date\": 'date', 'Close': 'ibov_close'}, inplace = True)\n",
    "df_ibov = df_ibov[['date', 'ibov_close']]\n",
    "df_ibov.loc[:, 'date'] = pd.to_datetime(df_ibov['date'])\n",
    "df_ibov.loc[:, 'ibov_ret'] = df_ibov['ibov_close'].pct_change()\n",
    "df_ibov.loc[:, 'ibov_vol'] = df_ibov['ibov_ret'].rolling(risk_window_size).std()"
   ]
  },
  {
   "cell_type": "code",
   "execution_count": 8,
   "metadata": {},
   "outputs": [],
   "source": [
    "df_full = df_prices.merge(df_pred, on = ['asset_identifier', 'date'], how = 'left')\n",
    "df_full = df_full.merge(df_ibov, on = ['date'], how = 'inner')\n",
    "start_date = df_pred['date'].min()\n",
    "end_date = df_pred['date'].max()\n",
    "df_full.query(\"date >= @start_date & date <= @end_date\", inplace = True)\n",
    "\n",
    "df_full.loc[:, 'asset_identifier'] = df_full['asset_identifier'].astype(str)\n",
    "df_full.sort_values(['asset_identifier', 'date'], inplace = True)"
   ]
  },
  {
   "cell_type": "code",
   "execution_count": 9,
   "metadata": {},
   "outputs": [],
   "source": [
    "def rolling_corr(data):\n",
    "    col1, col2 = data.columns\n",
    "    if len(data) > risk_window_size:\n",
    "        rolling_covariances = data.rolling(risk_window_size, min_periods = 2).corr().fillna(0)\n",
    "        rolling_covariances.reset_index(level = 0, drop = True, inplace = True)\n",
    "        rolling_covariances = rolling_covariances.loc[col1, col2]\n",
    "        rolling_covariances[(rolling_covariances == np.Inf) | (rolling_covariances == -np.Inf)] = 0\n",
    "        return rolling_covariances\n",
    "    else:\n",
    "        return pd.Series([0]  * len(data))"
   ]
  },
  {
   "cell_type": "code",
   "execution_count": 10,
   "metadata": {},
   "outputs": [],
   "source": [
    "list_df = []\n",
    "for asset, data in df_full.groupby('asset_identifier'):\n",
    "    data.loc[:, 'ibov_correlation'] = rolling_corr(data[['ret', 'ibov_ret']]).values\n",
    "    data.eval(\"ibov_beta = ibov_correlation * vol/ibov_vol\", inplace = True)\n",
    "    list_df.append(data)\n",
    "df_full = pd.concat(list_df)"
   ]
  },
  {
   "cell_type": "code",
   "execution_count": 11,
   "metadata": {},
   "outputs": [
    {
     "data": {
      "image/png": "[encoded data removed]",
      "text/plain": [
       "<Figure size 432x288 with 1 Axes>"
      ]
     },
     "metadata": {},
     "output_type": "display_data"
    }
   ],
   "source": [
    "df_full.query(\"universe\").eval('ibov_beta').hist(bins = 30);"
   ]
  },
  {
   "cell_type": "code",
   "execution_count": 12,
   "metadata": {},
   "outputs": [
    {
     "data": {
      "text/plain": [
       "<AxesSubplot:>"
      ]
     },
     "execution_count": 12,
     "metadata": {},
     "output_type": "execute_result"
    },
    {
     "data": {
      "image/png": "[encoded data removed]",
      "text/plain": [
       "<Figure size 432x288 with 1 Axes>"
      ]
     },
     "metadata": {},
     "output_type": "display_data"
    }
   ],
   "source": [
    "df_full.query(\"universe\").eval('ibov_beta').hist()"
   ]
  },
  {
   "cell_type": "markdown",
   "metadata": {},
   "source": [
    "### Calibrate"
   ]
  },
  {
   "cell_type": "code",
   "execution_count": 13,
   "metadata": {},
   "outputs": [],
   "source": [
    "split_date = '2016-01-01'"
   ]
  },
  {
   "cell_type": "code",
   "execution_count": 14,
   "metadata": {},
   "outputs": [],
   "source": [
    "df_train = df_full.query(\"universe & date < @split_date\").dropna().copy()\n",
    "df_test = df_full.query(\"date > @split_date\").copy()"
   ]
  },
  {
   "cell_type": "code",
   "execution_count": 15,
   "metadata": {},
   "outputs": [
    {
     "data": {
      "text/plain": [
       "IsotonicRegression()"
      ]
     },
     "execution_count": 15,
     "metadata": {},
     "output_type": "execute_result"
    }
   ],
   "source": [
    "calibrator = IsotonicRegression()\n",
    "calibrator.fit(df_train['yhat'], df_train['target'])"
   ]
  },
  {
   "cell_type": "code",
   "execution_count": 16,
   "metadata": {},
   "outputs": [],
   "source": [
    "df_train.loc[:, 'calibrated_yhat'] = calibrator.predict(df_train['yhat'])\n",
    "df_test.loc[:, 'calibrated_yhat'] = calibrator.predict(df_test['yhat'].fillna(0))"
   ]
  },
  {
   "cell_type": "code",
   "execution_count": 17,
   "metadata": {},
   "outputs": [
    {
     "data": {
      "text/html": [
       "<div>\n",
       "<style scoped>\n",
       "    .dataframe tbody tr th:only-of-type {\n",
       "        vertical-align: middle;\n",
       "    }\n",
       "\n",
       "    .dataframe tbody tr th {\n",
       "        vertical-align: top;\n",
       "    }\n",
       "\n",
       "    .dataframe thead th {\n",
       "        text-align: right;\n",
       "    }\n",
       "</style>\n",
       "<table border=\"1\" class=\"dataframe\">\n",
       "  <thead>\n",
       "    <tr style=\"text-align: right;\">\n",
       "      <th></th>\n",
       "      <th>calibrated_yhat</th>\n",
       "      <th>target</th>\n",
       "    </tr>\n",
       "  </thead>\n",
       "  <tbody>\n",
       "    <tr>\n",
       "      <th>calibrated_yhat</th>\n",
       "      <td>1.00000</td>\n",
       "      <td>0.00657</td>\n",
       "    </tr>\n",
       "    <tr>\n",
       "      <th>target</th>\n",
       "      <td>0.00657</td>\n",
       "      <td>1.00000</td>\n",
       "    </tr>\n",
       "  </tbody>\n",
       "</table>\n",
       "</div>"
      ],
      "text/plain": [
       "                 calibrated_yhat   target\n",
       "calibrated_yhat          1.00000  0.00657\n",
       "target                   0.00657  1.00000"
      ]
     },
     "execution_count": 17,
     "metadata": {},
     "output_type": "execute_result"
    }
   ],
   "source": [
    "df_test[['calibrated_yhat', 'target']].corr()"
   ]
  },
  {
   "cell_type": "code",
   "execution_count": 18,
   "metadata": {},
   "outputs": [
    {
     "data": {
      "text/html": [
       "<div>\n",
       "<style scoped>\n",
       "    .dataframe tbody tr th:only-of-type {\n",
       "        vertical-align: middle;\n",
       "    }\n",
       "\n",
       "    .dataframe tbody tr th {\n",
       "        vertical-align: top;\n",
       "    }\n",
       "\n",
       "    .dataframe thead th {\n",
       "        text-align: right;\n",
       "    }\n",
       "</style>\n",
       "<table border=\"1\" class=\"dataframe\">\n",
       "  <thead>\n",
       "    <tr style=\"text-align: right;\">\n",
       "      <th></th>\n",
       "      <th>calibrated_yhat</th>\n",
       "      <th>target</th>\n",
       "    </tr>\n",
       "  </thead>\n",
       "  <tbody>\n",
       "    <tr>\n",
       "      <th>calibrated_yhat</th>\n",
       "      <td>1.000000</td>\n",
       "      <td>0.060586</td>\n",
       "    </tr>\n",
       "    <tr>\n",
       "      <th>target</th>\n",
       "      <td>0.060586</td>\n",
       "      <td>1.000000</td>\n",
       "    </tr>\n",
       "  </tbody>\n",
       "</table>\n",
       "</div>"
      ],
      "text/plain": [
       "                 calibrated_yhat    target\n",
       "calibrated_yhat         1.000000  0.060586\n",
       "target                  0.060586  1.000000"
      ]
     },
     "execution_count": 18,
     "metadata": {},
     "output_type": "execute_result"
    }
   ],
   "source": [
    "df_train[['calibrated_yhat', 'target']].corr()"
   ]
  },
  {
   "cell_type": "code",
   "execution_count": 19,
   "metadata": {},
   "outputs": [
    {
     "data": {
      "text/html": [
       "<div>\n",
       "<style scoped>\n",
       "    .dataframe tbody tr th:only-of-type {\n",
       "        vertical-align: middle;\n",
       "    }\n",
       "\n",
       "    .dataframe tbody tr th {\n",
       "        vertical-align: top;\n",
       "    }\n",
       "\n",
       "    .dataframe thead th {\n",
       "        text-align: right;\n",
       "    }\n",
       "</style>\n",
       "<table border=\"1\" class=\"dataframe\">\n",
       "  <thead>\n",
       "    <tr style=\"text-align: right;\">\n",
       "      <th></th>\n",
       "      <th>ibov_beta</th>\n",
       "      <th>target</th>\n",
       "    </tr>\n",
       "  </thead>\n",
       "  <tbody>\n",
       "    <tr>\n",
       "      <th>ibov_beta</th>\n",
       "      <td>1.000000</td>\n",
       "      <td>-0.004491</td>\n",
       "    </tr>\n",
       "    <tr>\n",
       "      <th>target</th>\n",
       "      <td>-0.004491</td>\n",
       "      <td>1.000000</td>\n",
       "    </tr>\n",
       "  </tbody>\n",
       "</table>\n",
       "</div>"
      ],
      "text/plain": [
       "           ibov_beta    target\n",
       "ibov_beta   1.000000 -0.004491\n",
       "target     -0.004491  1.000000"
      ]
     },
     "execution_count": 19,
     "metadata": {},
     "output_type": "execute_result"
    }
   ],
   "source": [
    "df_train[['ibov_beta', 'target']].corr()"
   ]
  },
  {
   "cell_type": "code",
   "execution_count": 20,
   "metadata": {},
   "outputs": [
    {
     "data": {
      "text/html": [
       "<div>\n",
       "<style scoped>\n",
       "    .dataframe tbody tr th:only-of-type {\n",
       "        vertical-align: middle;\n",
       "    }\n",
       "\n",
       "    .dataframe tbody tr th {\n",
       "        vertical-align: top;\n",
       "    }\n",
       "\n",
       "    .dataframe thead th {\n",
       "        text-align: right;\n",
       "    }\n",
       "</style>\n",
       "<table border=\"1\" class=\"dataframe\">\n",
       "  <thead>\n",
       "    <tr style=\"text-align: right;\">\n",
       "      <th></th>\n",
       "      <th>vol</th>\n",
       "      <th>target</th>\n",
       "    </tr>\n",
       "  </thead>\n",
       "  <tbody>\n",
       "    <tr>\n",
       "      <th>vol</th>\n",
       "      <td>1.000000</td>\n",
       "      <td>0.000524</td>\n",
       "    </tr>\n",
       "    <tr>\n",
       "      <th>target</th>\n",
       "      <td>0.000524</td>\n",
       "      <td>1.000000</td>\n",
       "    </tr>\n",
       "  </tbody>\n",
       "</table>\n",
       "</div>"
      ],
      "text/plain": [
       "             vol    target\n",
       "vol     1.000000  0.000524\n",
       "target  0.000524  1.000000"
      ]
     },
     "execution_count": 20,
     "metadata": {},
     "output_type": "execute_result"
    }
   ],
   "source": [
    "df_train[['vol', 'target']].corr()"
   ]
  },
  {
   "cell_type": "code",
   "execution_count": 21,
   "metadata": {},
   "outputs": [
    {
     "data": {
      "text/plain": [
       "Timestamp('2008-01-02 00:00:00')"
      ]
     },
     "execution_count": 21,
     "metadata": {},
     "output_type": "execute_result"
    }
   ],
   "source": [
    "df_train.date.min()"
   ]
  },
  {
   "cell_type": "code",
   "execution_count": 22,
   "metadata": {},
   "outputs": [],
   "source": [
    "data = (df_train, df_test)\n",
    "pd.to_pickle(data, r'D:\\Datasets\\TwoSigmaDataSetBr_2022_03_04\\Papertrade_br\\models\\MlpVarianceSwap\\trained_model\\model_MlpVarianceSwap_2022-03-03\\data_mestrado.pkl')"
   ]
  },
  {
   "cell_type": "code",
   "execution_count": null,
   "metadata": {},
   "outputs": [],
   "source": []
  }
 ],
 "metadata": {
  "kernelspec": {
   "display_name": "Python 3 (ipykernel)",
   "language": "python",
   "name": "python3"
  },
  "language_info": {
   "codemirror_mode": {
    "name": "ipython",
    "version": 3
   },
   "file_extension": ".py",
   "mimetype": "text/x-python",
   "name": "python",
   "nbconvert_exporter": "python",
   "pygments_lexer": "ipython3",
   "version": "3.9.7"
  }
 },
 "nbformat": 4,
 "nbformat_minor": 4
}
