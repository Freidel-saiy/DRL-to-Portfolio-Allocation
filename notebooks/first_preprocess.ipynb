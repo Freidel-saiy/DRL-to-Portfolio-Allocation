{
 "cells": [
  {
   "cell_type": "code",
   "execution_count": 1,
   "metadata": {},
   "outputs": [],
   "source": [
    "import pandas as pd\n",
    "import numpy as np"
   ]
  },
  {
   "cell_type": "code",
   "execution_count": 19,
   "metadata": {},
   "outputs": [],
   "source": [
    "df_prices = pd.read_pickle('../data/data_spx_raw.pkl')\n",
    "df_prices.query(\"ric != 'GOOGL.O'\", inplace = True)"
   ]
  },
  {
   "cell_type": "code",
   "execution_count": 20,
   "metadata": {},
   "outputs": [],
   "source": [
    "df_prices.loc[:, 'market_cap_rank'] = df_prices.groupby(\"date\")['market_cap'].rank(ascending = False, pct = False)"
   ]
  },
  {
   "cell_type": "code",
   "execution_count": 21,
   "metadata": {},
   "outputs": [],
   "source": [
    "df_day = df_prices.query(\"date == '2015-12-31' & market_cap_rank < 10\")"
   ]
  },
  {
   "cell_type": "code",
   "execution_count": 22,
   "metadata": {},
   "outputs": [],
   "source": [
    "df_latex = df_day[['ric', 'market_cap']].eval(\"market_cap = market_cap/1e9\").sort_values('market_cap', ascending = False)"
   ]
  },
  {
   "cell_type": "code",
   "execution_count": 23,
   "metadata": {},
   "outputs": [],
   "source": [
    "df_latex.loc[:, 'Stock'] = df_latex['ric'].str.split('.', expand = True).iloc[:, 0]\n",
    "df_latex.loc[:, 'Market Capitalization (bi USD)'] = df_latex['market_cap'].astype(int)"
   ]
  },
  {
   "cell_type": "code",
   "execution_count": 24,
   "metadata": {},
   "outputs": [
    {
     "name": "stdout",
     "output_type": "stream",
     "text": [
      "\\begin{tabular}{lr}\n",
      "\\toprule\n",
      "Stock &  Market Capitalization (bi USD) \\\\\n",
      "\\midrule\n",
      " AAPL &                             583 \\\\\n",
      " GOOG &                             528 \\\\\n",
      " MSFT &                             443 \\\\\n",
      " BRKb &                             325 \\\\\n",
      "  XOM &                             324 \\\\\n",
      " AMZN &                             316 \\\\\n",
      "   GE &                             314 \\\\\n",
      "   FB &                             295 \\\\\n",
      "  JNJ &                             284 \\\\\n",
      "\\bottomrule\n",
      "\\end{tabular}\n",
      "\n"
     ]
    }
   ],
   "source": [
    "print(df_latex[['Stock', 'Market Capitalization (bi USD)']].to_latex(index = False))"
   ]
  },
  {
   "cell_type": "code",
   "execution_count": 25,
   "metadata": {},
   "outputs": [],
   "source": [
    "list_assets = df_day['asset_identifier'].to_list()"
   ]
  },
  {
   "cell_type": "code",
   "execution_count": 26,
   "metadata": {},
   "outputs": [],
   "source": [
    "df_prices.query(\"asset_identifier.isin(@list_assets)\", inplace = True)"
   ]
  },
  {
   "cell_type": "code",
   "execution_count": 27,
   "metadata": {},
   "outputs": [
    {
     "data": {
      "text/plain": [
       "<AxesSubplot:xlabel='date'>"
      ]
     },
     "execution_count": 27,
     "metadata": {},
     "output_type": "execute_result"
    },
    {
     "data": {
      "image/png": "[encoded data removed]",
      "text/plain": [
       "<Figure size 432x288 with 1 Axes>"
      ]
     },
     "metadata": {
      "needs_background": "light"
     },
     "output_type": "display_data"
    }
   ],
   "source": [
    "df_prices.groupby('date')['asset_identifier'].count().plot()"
   ]
  },
  {
   "cell_type": "code",
   "execution_count": 28,
   "metadata": {},
   "outputs": [],
   "source": [
    "df_prices = df_prices[['asset_identifier', 'date', 'close']].sort_values([\"asset_identifier\", 'date']).reset_index(drop = True)"
   ]
  },
  {
   "cell_type": "code",
   "execution_count": 29,
   "metadata": {},
   "outputs": [],
   "source": [
    "df_prices.to_pickle(r\"C:\\Users\\fidel\\OneDrive\\Documentos\\Mestrado\\code_refactory\\data\\data_10\\data_spx_10.pkl\")"
   ]
  },
  {
   "cell_type": "code",
   "execution_count": null,
   "metadata": {},
   "outputs": [],
   "source": []
  }
 ],
 "metadata": {
  "kernelspec": {
   "display_name": "Python 3.8.5 64-bit",
   "language": "python",
   "name": "python3"
  },
  "language_info": {
   "codemirror_mode": {
    "name": "ipython",
    "version": 3
   },
   "file_extension": ".py",
   "mimetype": "text/x-python",
   "name": "python",
   "nbconvert_exporter": "python",
   "pygments_lexer": "ipython3",
   "version": "3.8.5"
  },
  "vscode": {
   "interpreter": {
    "hash": "a668d24d349dddfd59531143b4236f238f725b923e807592a17582afb4bbacc8"
   }
  }
 },
 "nbformat": 4,
 "nbformat_minor": 4
}
