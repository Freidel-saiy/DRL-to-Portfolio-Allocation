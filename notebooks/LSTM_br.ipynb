{
 "cells": [
  {
   "cell_type": "code",
   "execution_count": 1,
   "metadata": {},
   "outputs": [],
   "source": [
    "import pandas as pd\n",
    "import numpy as np\n",
    "import matplotlib.pyplot as plt"
   ]
  },
  {
   "cell_type": "code",
   "execution_count": null,
   "metadata": {},
   "outputs": [],
   "source": []
  },
  {
   "cell_type": "code",
   "execution_count": 2,
   "metadata": {},
   "outputs": [],
   "source": [
    "from tensorflow.keras.layers import LSTM, Dense\n",
    "from tensorflow.keras.models import Sequential"
   ]
  },
  {
   "cell_type": "code",
   "execution_count": 3,
   "metadata": {},
   "outputs": [],
   "source": [
    "def split_sequence(sequence, n_steps):\n",
    "    list_subsequences = []\n",
    "    empty_subsequence = [np.nan] * n_steps\n",
    "    # Fill the initial subsequences with nan\n",
    "    for i in range(min(n_steps, len(sequence))):\n",
    "        list_subsequences.append(empty_subsequence)\n",
    "    if len(sequence) <= n_steps:\n",
    "        return list_subsequences\n",
    "    # Fill the remaining subsequences\n",
    "    for i in range(n_steps, len(sequence)):\n",
    "        subsequence = sequence[i - n_steps:i]\n",
    "        list_subsequences.append(subsequence)\n",
    "    return list_subsequences"
   ]
  },
  {
   "cell_type": "code",
   "execution_count": 4,
   "metadata": {},
   "outputs": [],
   "source": [
    "n_steps = 20\n",
    "columns = ['t_minus_{}'.format(n_steps - i) for i in range(n_steps)]"
   ]
  },
  {
   "cell_type": "code",
   "execution_count": 5,
   "metadata": {},
   "outputs": [],
   "source": [
    "df = pd.read_pickle(r\"D:\\Datasets\\TwoSigmaDataSetBr_2022_03_04\\Papertrade_br\\models\\MlpVarianceSwap\\trained_model\\model_MlpVarianceSwap_2022-03-03\\full_market_data_final.pkl\")\n",
    "df = df[['asset_identifier', 'date', 'close', 'universe', 'min_fin_volume']]\n",
    "df.loc[:, 'ret'] = df.groupby('asset_identifier')['close'].pct_change()"
   ]
  },
  {
   "cell_type": "code",
   "execution_count": 6,
   "metadata": {},
   "outputs": [
    {
     "name": "stdout",
     "output_type": "stream",
     "text": [
      "Wall time: 2.09 s\n"
     ]
    }
   ],
   "source": [
    "%%time\n",
    "list_df = []\n",
    "for asset, data in df.groupby('asset_identifier'):\n",
    "    ret_shift_as_seq = split_sequence(data.loc[:, 'ret'].to_list(), n_steps)\n",
    "    ret_shift_as_seq = pd.DataFrame(ret_shift_as_seq, index = data.index, columns = columns)\n",
    "    data = data.join(ret_shift_as_seq)\n",
    "    list_df.append(data)"
   ]
  },
  {
   "cell_type": "code",
   "execution_count": 7,
   "metadata": {},
   "outputs": [],
   "source": [
    "df = pd.concat(list_df)"
   ]
  },
  {
   "cell_type": "code",
   "execution_count": 8,
   "metadata": {},
   "outputs": [],
   "source": [
    "df.loc[:, 'target'] = df.groupby('asset_identifier')['ret'].shift(-1)"
   ]
  },
  {
   "cell_type": "code",
   "execution_count": 9,
   "metadata": {},
   "outputs": [],
   "source": [
    "split_date = '2007-12-31'"
   ]
  },
  {
   "cell_type": "code",
   "execution_count": 10,
   "metadata": {},
   "outputs": [],
   "source": [
    "data_train = df.query(\"date < @split_date & universe\")[['asset_identifier', 'date'] + columns  + ['target']].dropna()\n",
    "data_test = df.query(\"date > @split_date & universe\")[['asset_identifier', 'date'] + columns  + ['target']].dropna()"
   ]
  },
  {
   "cell_type": "code",
   "execution_count": 11,
   "metadata": {},
   "outputs": [],
   "source": [
    "X_train = data_train[columns].values\n",
    "y_train = data_train['target'].values\n",
    "\n",
    "X_test = data_test[columns].values\n",
    "y_test = data_test['target'].values"
   ]
  },
  {
   "cell_type": "code",
   "execution_count": 12,
   "metadata": {},
   "outputs": [],
   "source": [
    "n_features = 1\n",
    "model = Sequential()\n",
    "model.add(LSTM(50, activation='relu', input_shape=(n_steps, n_features)))\n",
    "model.add(Dense(1))\n",
    "model.compile(optimizer='adam', loss='mse')"
   ]
  },
  {
   "cell_type": "code",
   "execution_count": 13,
   "metadata": {},
   "outputs": [],
   "source": [
    "X_train = X_train.reshape((-1, X_train.shape[1], n_features))\n",
    "X_test = X_test.reshape((-1, X_test.shape[1], n_features))"
   ]
  },
  {
   "cell_type": "code",
   "execution_count": 14,
   "metadata": {
    "scrolled": true
   },
   "outputs": [
    {
     "name": "stdout",
     "output_type": "stream",
     "text": [
      "Epoch 1/200\n",
      "2/2 [==============================] - 9s 4s/step - loss: 8.1242e-04\n",
      "Epoch 2/200\n",
      "2/2 [==============================] - 8s 4s/step - loss: 8.1255e-04\n",
      "Epoch 3/200\n",
      "2/2 [==============================] - 8s 4s/step - loss: 7.9975e-04\n",
      "Epoch 4/200\n",
      "2/2 [==============================] - 8s 4s/step - loss: 7.9784e-04\n",
      "Epoch 5/200\n",
      "2/2 [==============================] - 8s 4s/step - loss: 8.0081e-04\n",
      "Epoch 6/200\n",
      "2/2 [==============================] - 8s 4s/step - loss: 8.0856e-04\n",
      "Epoch 7/200\n",
      "2/2 [==============================] - 8s 4s/step - loss: 7.9671e-04\n",
      "Epoch 8/200\n",
      "2/2 [==============================] - 8s 4s/step - loss: 7.9508e-04\n",
      "Epoch 9/200\n",
      "2/2 [==============================] - 8s 4s/step - loss: 8.0357e-04\n",
      "Epoch 10/200\n",
      "2/2 [==============================] - 8s 4s/step - loss: 7.9951e-04\n",
      "Epoch 11/200\n",
      "2/2 [==============================] - 9s 4s/step - loss: 7.9629e-04\n",
      "Epoch 12/200\n",
      "2/2 [==============================] - 9s 4s/step - loss: 7.9724e-04\n",
      "Epoch 13/200\n",
      "2/2 [==============================] - 8s 4s/step - loss: 7.9272e-04\n",
      "Epoch 14/200\n",
      "2/2 [==============================] - 8s 4s/step - loss: 8.0732e-04\n",
      "Epoch 15/200\n",
      "2/2 [==============================] - 9s 4s/step - loss: 8.0299e-04\n",
      "Epoch 16/200\n",
      "2/2 [==============================] - 8s 4s/step - loss: 7.9812e-04\n",
      "Epoch 17/200\n",
      "2/2 [==============================] - 8s 4s/step - loss: 8.0107e-04\n",
      "Epoch 18/200\n",
      "2/2 [==============================] - 8s 4s/step - loss: 8.0113e-04\n",
      "Epoch 19/200\n",
      "2/2 [==============================] - 8s 4s/step - loss: 7.9858e-04\n",
      "Epoch 20/200\n",
      "2/2 [==============================] - 8s 4s/step - loss: 8.0520e-04\n",
      "Epoch 21/200\n",
      "2/2 [==============================] - 9s 4s/step - loss: 7.9469e-04\n",
      "Epoch 22/200\n",
      "2/2 [==============================] - 8s 4s/step - loss: 8.0045e-04\n",
      "Epoch 23/200\n",
      "2/2 [==============================] - 8s 4s/step - loss: 8.0046e-04\n",
      "Epoch 24/200\n",
      "2/2 [==============================] - 8s 4s/step - loss: 7.9811e-04\n",
      "Epoch 25/200\n",
      "2/2 [==============================] - 8s 4s/step - loss: 7.9802e-04\n",
      "Epoch 26/200\n",
      "2/2 [==============================] - 8s 4s/step - loss: 8.0012e-04\n",
      "Epoch 27/200\n",
      "2/2 [==============================] - 8s 4s/step - loss: 7.9968e-04\n",
      "Epoch 28/200\n",
      "2/2 [==============================] - 8s 4s/step - loss: 7.9844e-04\n",
      "Epoch 29/200\n",
      "2/2 [==============================] - 8s 4s/step - loss: 7.9667e-04\n",
      "Epoch 30/200\n",
      "2/2 [==============================] - 8s 4s/step - loss: 8.0120e-04\n",
      "Epoch 31/200\n",
      "2/2 [==============================] - 8s 4s/step - loss: 8.0390e-04\n",
      "Epoch 32/200\n",
      "2/2 [==============================] - 8s 4s/step - loss: 7.9613e-04\n",
      "Epoch 33/200\n",
      "2/2 [==============================] - 8s 4s/step - loss: 7.9592e-04\n",
      "Epoch 34/200\n",
      "2/2 [==============================] - 8s 4s/step - loss: 8.0034e-04\n",
      "Epoch 35/200\n",
      "2/2 [==============================] - 9s 4s/step - loss: 8.0287e-04\n",
      "Epoch 36/200\n",
      "2/2 [==============================] - 8s 4s/step - loss: 8.0220e-04\n",
      "Epoch 37/200\n",
      "2/2 [==============================] - 8s 4s/step - loss: 7.9828e-04\n",
      "Epoch 38/200\n",
      "2/2 [==============================] - 8s 4s/step - loss: 7.9535e-04\n",
      "Epoch 39/200\n",
      "2/2 [==============================] - 8s 4s/step - loss: 8.0134e-04\n",
      "Epoch 40/200\n",
      "2/2 [==============================] - 8s 4s/step - loss: 7.9934e-04\n",
      "Epoch 41/200\n",
      "2/2 [==============================] - 9s 4s/step - loss: 8.0089e-04\n",
      "Epoch 42/200\n",
      "2/2 [==============================] - 9s 4s/step - loss: 7.9817e-04\n",
      "Epoch 43/200\n",
      "2/2 [==============================] - 9s 4s/step - loss: 8.0032e-04\n",
      "Epoch 44/200\n",
      "2/2 [==============================] - 9s 4s/step - loss: 8.0027e-04\n",
      "Epoch 45/200\n",
      "2/2 [==============================] - 8s 4s/step - loss: 8.0021e-04\n",
      "Epoch 46/200\n",
      "2/2 [==============================] - 8s 4s/step - loss: 7.9867e-04\n",
      "Epoch 47/200\n",
      "2/2 [==============================] - 8s 4s/step - loss: 8.0138e-04\n",
      "Epoch 48/200\n",
      "2/2 [==============================] - 8s 4s/step - loss: 8.0018e-04\n",
      "Epoch 49/200\n",
      "2/2 [==============================] - 8s 4s/step - loss: 8.0190e-04\n",
      "Epoch 50/200\n",
      "2/2 [==============================] - 8s 4s/step - loss: 7.9994e-04\n",
      "Epoch 51/200\n",
      "2/2 [==============================] - 8s 4s/step - loss: 7.9637e-04\n",
      "Epoch 52/200\n",
      "2/2 [==============================] - 8s 4s/step - loss: 8.0432e-04\n",
      "Epoch 53/200\n",
      "2/2 [==============================] - 8s 4s/step - loss: 7.9626e-04\n",
      "Epoch 54/200\n",
      "2/2 [==============================] - 8s 4s/step - loss: 7.9517e-04\n",
      "Epoch 55/200\n",
      "2/2 [==============================] - 8s 4s/step - loss: 7.9553e-04\n",
      "Epoch 56/200\n",
      "2/2 [==============================] - 8s 4s/step - loss: 8.0172e-04\n",
      "Epoch 57/200\n",
      "2/2 [==============================] - 8s 4s/step - loss: 8.0262e-04\n",
      "Epoch 58/200\n",
      "2/2 [==============================] - 9s 4s/step - loss: 8.0242e-04\n",
      "Epoch 59/200\n",
      "2/2 [==============================] - 9s 4s/step - loss: 7.9955e-04\n",
      "Epoch 60/200\n",
      "2/2 [==============================] - 9s 4s/step - loss: 7.9670e-04\n",
      "Epoch 61/200\n",
      "2/2 [==============================] - 9s 4s/step - loss: 7.9655e-04\n",
      "Epoch 62/200\n",
      "2/2 [==============================] - 9s 4s/step - loss: 8.0073e-04\n",
      "Epoch 63/200\n",
      "2/2 [==============================] - 9s 4s/step - loss: 7.9600e-04\n",
      "Epoch 64/200\n",
      "2/2 [==============================] - 9s 4s/step - loss: 7.9767e-04\n",
      "Epoch 65/200\n",
      "2/2 [==============================] - 8s 4s/step - loss: 7.9565e-04\n",
      "Epoch 66/200\n",
      "2/2 [==============================] - 8s 4s/step - loss: 7.9521e-04\n",
      "Epoch 67/200\n",
      "2/2 [==============================] - 8s 4s/step - loss: 8.0010e-04\n",
      "Epoch 68/200\n",
      "2/2 [==============================] - 8s 4s/step - loss: 8.0202e-04\n",
      "Epoch 69/200\n",
      "2/2 [==============================] - 8s 4s/step - loss: 8.0223e-04\n",
      "Epoch 70/200\n",
      "2/2 [==============================] - 8s 4s/step - loss: 8.0062e-04\n",
      "Epoch 71/200\n",
      "2/2 [==============================] - 8s 4s/step - loss: 7.9547e-04\n",
      "Epoch 72/200\n",
      "2/2 [==============================] - 9s 4s/step - loss: 7.9558e-04\n",
      "Epoch 73/200\n",
      "2/2 [==============================] - 9s 4s/step - loss: 8.0054e-04\n",
      "Epoch 74/200\n",
      "2/2 [==============================] - 8s 4s/step - loss: 7.9971e-04\n",
      "Epoch 75/200\n",
      "2/2 [==============================] - 8s 4s/step - loss: 8.0004e-04\n",
      "Epoch 76/200\n",
      "2/2 [==============================] - 8s 4s/step - loss: 8.0035e-04\n",
      "Epoch 77/200\n",
      "2/2 [==============================] - 8s 4s/step - loss: 7.9701e-04\n",
      "Epoch 78/200\n",
      "2/2 [==============================] - 8s 4s/step - loss: 8.0407e-04\n",
      "Epoch 79/200\n",
      "2/2 [==============================] - 8s 4s/step - loss: 7.9580e-04\n",
      "Epoch 80/200\n",
      "2/2 [==============================] - 8s 4s/step - loss: 8.0121e-04\n",
      "Epoch 81/200\n",
      "2/2 [==============================] - 8s 4s/step - loss: 8.0332e-04\n",
      "Epoch 82/200\n",
      "2/2 [==============================] - 8s 4s/step - loss: 8.0567e-04\n",
      "Epoch 83/200\n",
      "2/2 [==============================] - 8s 4s/step - loss: 8.0501e-04\n",
      "Epoch 84/200\n",
      "2/2 [==============================] - 8s 4s/step - loss: 8.0125e-04\n",
      "Epoch 85/200\n",
      "2/2 [==============================] - 8s 4s/step - loss: 7.9860e-04\n",
      "Epoch 86/200\n",
      "2/2 [==============================] - 8s 4s/step - loss: 7.9801e-04\n",
      "Epoch 87/200\n",
      "2/2 [==============================] - 9s 4s/step - loss: 8.0252e-04\n",
      "Epoch 88/200\n",
      "2/2 [==============================] - 9s 4s/step - loss: 7.9427e-04\n",
      "Epoch 89/200\n",
      "2/2 [==============================] - 8s 4s/step - loss: 7.9984e-04\n",
      "Epoch 90/200\n",
      "2/2 [==============================] - 8s 4s/step - loss: 7.9626e-04\n",
      "Epoch 91/200\n",
      "2/2 [==============================] - 9s 4s/step - loss: 8.0289e-04\n",
      "Epoch 92/200\n",
      "2/2 [==============================] - 9s 5s/step - loss: 7.9842e-04\n",
      "Epoch 93/200\n",
      "2/2 [==============================] - 9s 4s/step - loss: 7.9903e-04\n",
      "Epoch 94/200\n",
      "2/2 [==============================] - 9s 4s/step - loss: 7.9811e-04\n",
      "Epoch 95/200\n",
      "2/2 [==============================] - 8s 4s/step - loss: 8.0010e-04\n",
      "Epoch 96/200\n",
      "2/2 [==============================] - 8s 4s/step - loss: 7.9367e-04\n",
      "Epoch 97/200\n",
      "2/2 [==============================] - 8s 4s/step - loss: 7.9800e-04\n",
      "Epoch 98/200\n",
      "2/2 [==============================] - 8s 4s/step - loss: 8.0378e-04\n",
      "Epoch 99/200\n",
      "2/2 [==============================] - 8s 4s/step - loss: 8.0299e-04\n",
      "Epoch 100/200\n",
      "2/2 [==============================] - 8s 4s/step - loss: 7.9394e-04\n",
      "Epoch 101/200\n",
      "2/2 [==============================] - 9s 4s/step - loss: 7.9362e-04\n",
      "Epoch 102/200\n",
      "2/2 [==============================] - 9s 4s/step - loss: 7.9446e-04\n",
      "Epoch 103/200\n",
      "2/2 [==============================] - 9s 4s/step - loss: 7.9749e-04\n",
      "Epoch 104/200\n",
      "2/2 [==============================] - 8s 4s/step - loss: 7.9926e-04\n",
      "Epoch 105/200\n",
      "2/2 [==============================] - 9s 4s/step - loss: 7.9861e-04\n",
      "Epoch 106/200\n",
      "2/2 [==============================] - 9s 4s/step - loss: 7.9417e-04\n",
      "Epoch 107/200\n",
      "2/2 [==============================] - 9s 4s/step - loss: 7.9905e-04\n",
      "Epoch 108/200\n",
      "2/2 [==============================] - 9s 4s/step - loss: 8.0094e-04\n",
      "Epoch 109/200\n",
      "2/2 [==============================] - 9s 4s/step - loss: 7.9905e-04\n",
      "Epoch 110/200\n",
      "2/2 [==============================] - 8s 4s/step - loss: 8.0490e-04\n",
      "Epoch 111/200\n",
      "2/2 [==============================] - 8s 4s/step - loss: 7.9906e-04\n",
      "Epoch 112/200\n",
      "2/2 [==============================] - 9s 5s/step - loss: 7.9964e-04\n",
      "Epoch 113/200\n",
      "2/2 [==============================] - 9s 4s/step - loss: 8.0156e-04\n",
      "Epoch 114/200\n",
      "2/2 [==============================] - 10s 5s/step - loss: 7.9707e-04\n",
      "Epoch 115/200\n",
      "2/2 [==============================] - 10s 5s/step - loss: 7.9737e-04\n",
      "Epoch 116/200\n",
      "2/2 [==============================] - 10s 5s/step - loss: 8.0065e-04\n",
      "Epoch 117/200\n",
      "2/2 [==============================] - 10s 5s/step - loss: 7.9722e-04\n",
      "Epoch 118/200\n",
      "2/2 [==============================] - 10s 5s/step - loss: 8.0076e-04\n",
      "Epoch 119/200\n",
      "2/2 [==============================] - 9s 4s/step - loss: 7.9925e-04\n",
      "Epoch 120/200\n",
      "2/2 [==============================] - 9s 4s/step - loss: 7.9638e-04\n",
      "Epoch 121/200\n",
      "2/2 [==============================] - 10s 5s/step - loss: 7.9979e-04\n",
      "Epoch 122/200\n",
      "2/2 [==============================] - 10s 5s/step - loss: 8.0128e-04\n",
      "Epoch 123/200\n",
      "2/2 [==============================] - 9s 4s/step - loss: 8.0539e-04\n",
      "Epoch 124/200\n",
      "2/2 [==============================] - 9s 5s/step - loss: 7.9927e-04\n",
      "Epoch 125/200\n",
      "2/2 [==============================] - 10s 5s/step - loss: 8.0034e-04\n",
      "Epoch 126/200\n",
      "2/2 [==============================] - 9s 4s/step - loss: 7.9563e-04\n",
      "Epoch 127/200\n",
      "2/2 [==============================] - 10s 5s/step - loss: 8.0076e-04\n",
      "Epoch 128/200\n",
      "2/2 [==============================] - 10s 5s/step - loss: 7.9528e-04\n",
      "Epoch 129/200\n",
      "2/2 [==============================] - 9s 4s/step - loss: 7.9786e-04\n",
      "Epoch 130/200\n",
      "2/2 [==============================] - 9s 4s/step - loss: 7.9522e-04\n",
      "Epoch 131/200\n",
      "2/2 [==============================] - 9s 4s/step - loss: 8.0201e-04\n",
      "Epoch 132/200\n",
      "2/2 [==============================] - 9s 4s/step - loss: 7.9482e-04\n",
      "Epoch 133/200\n",
      "2/2 [==============================] - 9s 4s/step - loss: 8.0179e-04\n",
      "Epoch 134/200\n",
      "2/2 [==============================] - 9s 4s/step - loss: 8.0236e-04\n",
      "Epoch 135/200\n",
      "2/2 [==============================] - 9s 4s/step - loss: 7.9863e-04\n",
      "Epoch 136/200\n",
      "2/2 [==============================] - 9s 4s/step - loss: 8.0267e-04\n",
      "Epoch 137/200\n",
      "2/2 [==============================] - 9s 4s/step - loss: 7.9801e-04\n",
      "Epoch 138/200\n",
      "2/2 [==============================] - 9s 4s/step - loss: 8.0170e-04\n",
      "Epoch 139/200\n",
      "2/2 [==============================] - 9s 4s/step - loss: 7.9517e-04\n",
      "Epoch 140/200\n",
      "2/2 [==============================] - 10s 5s/step - loss: 7.9589e-04\n",
      "Epoch 141/200\n",
      "2/2 [==============================] - 10s 5s/step - loss: 8.0313e-04\n",
      "Epoch 142/200\n",
      "2/2 [==============================] - 10s 5s/step - loss: 8.0755e-04\n",
      "Epoch 143/200\n",
      "2/2 [==============================] - 9s 4s/step - loss: 7.9590e-04\n",
      "Epoch 144/200\n",
      "2/2 [==============================] - 8s 4s/step - loss: 8.0285e-04\n",
      "Epoch 145/200\n",
      "2/2 [==============================] - 8s 4s/step - loss: 7.9867e-04\n",
      "Epoch 146/200\n",
      "2/2 [==============================] - 8s 4s/step - loss: 8.0456e-04\n",
      "Epoch 147/200\n",
      "2/2 [==============================] - 8s 4s/step - loss: 7.9740e-04\n",
      "Epoch 148/200\n",
      "2/2 [==============================] - 8s 4s/step - loss: 7.9559e-04\n",
      "Epoch 149/200\n",
      "2/2 [==============================] - 8s 4s/step - loss: 7.9894e-04\n",
      "Epoch 150/200\n",
      "2/2 [==============================] - 8s 4s/step - loss: 8.0363e-04\n",
      "Epoch 151/200\n",
      "2/2 [==============================] - 8s 4s/step - loss: 7.9796e-04\n",
      "Epoch 152/200\n",
      "2/2 [==============================] - 8s 4s/step - loss: 7.9316e-04\n",
      "Epoch 153/200\n",
      "2/2 [==============================] - 8s 4s/step - loss: 8.0202e-04\n",
      "Epoch 154/200\n",
      "2/2 [==============================] - 8s 4s/step - loss: 7.9992e-04\n",
      "Epoch 155/200\n",
      "2/2 [==============================] - 9s 4s/step - loss: 7.9985e-04\n",
      "Epoch 156/200\n",
      "2/2 [==============================] - 9s 4s/step - loss: 8.0194e-04\n",
      "Epoch 157/200\n",
      "2/2 [==============================] - 8s 4s/step - loss: 8.0194e-04\n",
      "Epoch 158/200\n",
      "2/2 [==============================] - 8s 4s/step - loss: 7.9691e-04\n",
      "Epoch 159/200\n",
      "2/2 [==============================] - 8s 4s/step - loss: 8.0242e-04\n",
      "Epoch 160/200\n",
      "2/2 [==============================] - 8s 4s/step - loss: 8.0181e-04\n",
      "Epoch 161/200\n",
      "2/2 [==============================] - 8s 4s/step - loss: 8.0085e-04\n",
      "Epoch 162/200\n",
      "2/2 [==============================] - 8s 4s/step - loss: 8.0794e-04\n",
      "Epoch 163/200\n",
      "2/2 [==============================] - 8s 4s/step - loss: 7.9613e-04\n",
      "Epoch 164/200\n",
      "2/2 [==============================] - 8s 4s/step - loss: 8.0253e-04\n",
      "Epoch 165/200\n",
      "2/2 [==============================] - 8s 4s/step - loss: 7.9806e-04\n",
      "Epoch 166/200\n",
      "2/2 [==============================] - 8s 4s/step - loss: 8.0590e-04\n",
      "Epoch 167/200\n",
      "2/2 [==============================] - 8s 4s/step - loss: 7.9553e-04\n",
      "Epoch 168/200\n",
      "2/2 [==============================] - 8s 4s/step - loss: 8.0346e-04\n",
      "Epoch 169/200\n",
      "2/2 [==============================] - 9s 4s/step - loss: 7.9959e-04\n",
      "Epoch 170/200\n",
      "2/2 [==============================] - 9s 4s/step - loss: 7.9979e-04\n",
      "Epoch 171/200\n",
      "2/2 [==============================] - 8s 4s/step - loss: 8.0535e-04\n",
      "Epoch 172/200\n",
      "2/2 [==============================] - 8s 4s/step - loss: 8.0115e-04\n",
      "Epoch 173/200\n",
      "2/2 [==============================] - 8s 4s/step - loss: 8.0311e-04\n",
      "Epoch 174/200\n",
      "2/2 [==============================] - 8s 4s/step - loss: 8.0069e-04\n",
      "Epoch 175/200\n",
      "2/2 [==============================] - 8s 4s/step - loss: 8.0231e-04\n",
      "Epoch 176/200\n",
      "2/2 [==============================] - 8s 4s/step - loss: 7.9726e-04\n",
      "Epoch 177/200\n",
      "2/2 [==============================] - 8s 4s/step - loss: 7.9460e-04\n",
      "Epoch 178/200\n",
      "2/2 [==============================] - 8s 4s/step - loss: 7.9484e-04\n",
      "Epoch 179/200\n",
      "2/2 [==============================] - 8s 4s/step - loss: 8.0201e-04\n",
      "Epoch 180/200\n",
      "2/2 [==============================] - 8s 4s/step - loss: 8.0282e-04\n",
      "Epoch 181/200\n",
      "2/2 [==============================] - 8s 4s/step - loss: 7.9571e-04\n",
      "Epoch 182/200\n",
      "2/2 [==============================] - 8s 4s/step - loss: 7.9432e-04\n",
      "Epoch 183/200\n",
      "2/2 [==============================] - 8s 4s/step - loss: 8.0293e-04\n",
      "Epoch 184/200\n",
      "2/2 [==============================] - 9s 4s/step - loss: 8.0184e-04\n",
      "Epoch 185/200\n",
      "2/2 [==============================] - 8s 4s/step - loss: 8.0027e-04\n",
      "Epoch 186/200\n",
      "2/2 [==============================] - 8s 4s/step - loss: 7.9998e-04\n",
      "Epoch 187/200\n",
      "2/2 [==============================] - 8s 4s/step - loss: 7.9535e-04\n",
      "Epoch 188/200\n",
      "2/2 [==============================] - 8s 4s/step - loss: 8.0229e-04\n",
      "Epoch 189/200\n",
      "2/2 [==============================] - 8s 4s/step - loss: 8.0702e-04\n",
      "Epoch 190/200\n",
      "2/2 [==============================] - 8s 4s/step - loss: 8.0486e-04\n",
      "Epoch 191/200\n",
      "2/2 [==============================] - 8s 4s/step - loss: 7.9580e-04\n",
      "Epoch 192/200\n",
      "2/2 [==============================] - 8s 4s/step - loss: 7.9916e-04\n",
      "Epoch 193/200\n",
      "2/2 [==============================] - 8s 4s/step - loss: 7.9707e-04\n",
      "Epoch 194/200\n",
      "2/2 [==============================] - 8s 4s/step - loss: 8.0291e-04\n",
      "Epoch 195/200\n",
      "2/2 [==============================] - 8s 4s/step - loss: 8.0266e-04\n",
      "Epoch 196/200\n",
      "2/2 [==============================] - 8s 4s/step - loss: 8.0051e-04\n",
      "Epoch 197/200\n",
      "2/2 [==============================] - 9s 4s/step - loss: 7.9950e-04\n",
      "Epoch 198/200\n",
      "2/2 [==============================] - 9s 4s/step - loss: 7.9640e-04\n",
      "Epoch 199/200\n",
      "2/2 [==============================] - 9s 4s/step - loss: 8.0267e-04\n",
      "Epoch 200/200\n",
      "2/2 [==============================] - 9s 4s/step - loss: 8.0280e-04\n",
      "Wall time: 28min 26s\n"
     ]
    }
   ],
   "source": [
    "%%time\n",
    "history = model.fit(X_train, y_train, epochs=200, verbose=1, batch_size = 100_000)"
   ]
  },
  {
   "cell_type": "code",
   "execution_count": 15,
   "metadata": {},
   "outputs": [
    {
     "data": {
      "text/plain": [
       "dict_keys(['loss'])"
      ]
     },
     "execution_count": 15,
     "metadata": {},
     "output_type": "execute_result"
    }
   ],
   "source": [
    "history.history.keys()"
   ]
  },
  {
   "cell_type": "code",
   "execution_count": 16,
   "metadata": {},
   "outputs": [
    {
     "data": {
      "text/plain": [
       "dict_keys(['loss'])"
      ]
     },
     "execution_count": 16,
     "metadata": {},
     "output_type": "execute_result"
    }
   ],
   "source": [
    "history.history.keys()"
   ]
  },
  {
   "cell_type": "code",
   "execution_count": 17,
   "metadata": {},
   "outputs": [
    {
     "data": {
      "text/plain": [
       "[<matplotlib.lines.Line2D at 0x211800338e0>]"
      ]
     },
     "execution_count": 17,
     "metadata": {},
     "output_type": "execute_result"
    },
    {
     "data": {
      "image/png": "[encoded data removed]",
      "text/plain": [
       "<Figure size 432x288 with 1 Axes>"
      ]
     },
     "metadata": {
      "needs_background": "light"
     },
     "output_type": "display_data"
    }
   ],
   "source": [
    "plt.plot(history.history['loss'])"
   ]
  },
  {
   "cell_type": "code",
   "execution_count": 18,
   "metadata": {},
   "outputs": [],
   "source": [
    "yhat_train = model.predict(X_train)"
   ]
  },
  {
   "cell_type": "code",
   "execution_count": 19,
   "metadata": {},
   "outputs": [
    {
     "data": {
      "text/plain": [
       "array([[1.        , 0.03686094],\n",
       "       [0.03686094, 1.        ]])"
      ]
     },
     "execution_count": 19,
     "metadata": {},
     "output_type": "execute_result"
    }
   ],
   "source": [
    "np.corrcoef(y_train, yhat_train.reshape(-1))"
   ]
  },
  {
   "cell_type": "code",
   "execution_count": 20,
   "metadata": {},
   "outputs": [
    {
     "data": {
      "text/plain": [
       "array([[1.        , 0.02036362],\n",
       "       [0.02036362, 1.        ]])"
      ]
     },
     "execution_count": 20,
     "metadata": {},
     "output_type": "execute_result"
    }
   ],
   "source": [
    "yhat_test = model.predict(X_test)\n",
    "np.corrcoef(y_test, yhat_test.reshape(-1))"
   ]
  },
  {
   "cell_type": "code",
   "execution_count": 21,
   "metadata": {},
   "outputs": [
    {
     "data": {
      "text/plain": [
       "array([[0.00089322],\n",
       "       [0.00126115],\n",
       "       [0.00129631],\n",
       "       ...,\n",
       "       [0.0003476 ],\n",
       "       [0.00110105],\n",
       "       [0.00189468]], dtype=float32)"
      ]
     },
     "execution_count": 21,
     "metadata": {},
     "output_type": "execute_result"
    }
   ],
   "source": [
    "yhat_test"
   ]
  },
  {
   "cell_type": "code",
   "execution_count": 22,
   "metadata": {},
   "outputs": [],
   "source": [
    "data_test.loc[:, 'yhat'] = yhat_test.reshape(-1)"
   ]
  },
  {
   "cell_type": "code",
   "execution_count": 23,
   "metadata": {},
   "outputs": [
    {
     "data": {
      "text/plain": [
       "<AxesSubplot:>"
      ]
     },
     "execution_count": 23,
     "metadata": {},
     "output_type": "execute_result"
    },
    {
     "data": {
      "image/png": "[encoded data removed]",
      "text/plain": [
       "<Figure size 432x288 with 1 Axes>"
      ]
     },
     "metadata": {
      "needs_background": "light"
     },
     "output_type": "display_data"
    }
   ],
   "source": [
    "data_test.loc[:, 'yhat'].clip(-0.02, 0.02).hist()"
   ]
  },
  {
   "cell_type": "code",
   "execution_count": 24,
   "metadata": {},
   "outputs": [
    {
     "data": {
      "text/plain": [
       "<AxesSubplot:>"
      ]
     },
     "execution_count": 24,
     "metadata": {},
     "output_type": "execute_result"
    },
    {
     "data": {
      "image/png": "[encoded data removed]",
      "text/plain": [
       "<Figure size 432x288 with 1 Axes>"
      ]
     },
     "metadata": {
      "needs_background": "light"
     },
     "output_type": "display_data"
    }
   ],
   "source": [
    "data_test.loc[:, 'yhat'].clip(-0.02, 0.02).hist(bins = 100)"
   ]
  },
  {
   "cell_type": "code",
   "execution_count": 39,
   "metadata": {},
   "outputs": [
    {
     "data": {
      "text/plain": [
       "Index(['asset_identifier', 'date', 't_minus_20', 't_minus_19', 't_minus_18',\n",
       "       't_minus_17', 't_minus_16', 't_minus_15', 't_minus_14', 't_minus_13',\n",
       "       't_minus_12', 't_minus_11', 't_minus_10', 't_minus_9', 't_minus_8',\n",
       "       't_minus_7', 't_minus_6', 't_minus_5', 't_minus_4', 't_minus_3',\n",
       "       't_minus_2', 't_minus_1', 'target', 'yhat'],\n",
       "      dtype='object')"
      ]
     },
     "execution_count": 39,
     "metadata": {},
     "output_type": "execute_result"
    }
   ],
   "source": [
    "data_test.columns"
   ]
  },
  {
   "cell_type": "code",
   "execution_count": 51,
   "metadata": {},
   "outputs": [],
   "source": [
    "data_test.loc[:, 'choose1'] = data_test.groupby('date')['yhat'].apply(lambda x: x.rank(ascending = False) < 20)\n",
    "data_test.loc[:, 'choose2'] = data_test.groupby('date')['yhat'].apply(lambda x: (x.rank(ascending = False) >= 20) & (x.rank(ascending = False) < 40))"
   ]
  },
  {
   "cell_type": "code",
   "execution_count": 52,
   "metadata": {},
   "outputs": [
    {
     "data": {
      "text/plain": [
       "<AxesSubplot:xlabel='date'>"
      ]
     },
     "execution_count": 52,
     "metadata": {},
     "output_type": "execute_result"
    },
    {
     "data": {
      "image/png": "[encoded data removed]",
      "text/plain": [
       "<Figure size 432x288 with 1 Axes>"
      ]
     },
     "metadata": {
      "needs_background": "light"
     },
     "output_type": "display_data"
    }
   ],
   "source": [
    "data_test.eval(\"PnL = choose1 * target\").groupby('date')['PnL'].sum().cumsum().plot()\n",
    "data_test.eval(\"PnL = choose2 * target\").groupby('date')['PnL'].sum().cumsum().plot()"
   ]
  },
  {
   "cell_type": "code",
   "execution_count": 25,
   "metadata": {},
   "outputs": [
    {
     "data": {
      "text/plain": [
       "<AxesSubplot:xlabel='date'>"
      ]
     },
     "execution_count": 25,
     "metadata": {},
     "output_type": "execute_result"
    },
    {
     "data": {
      "image/png": "[encoded data removed]",
      "text/plain": [
       "<Figure size 432x288 with 1 Axes>"
      ]
     },
     "metadata": {
      "needs_background": "light"
     },
     "output_type": "display_data"
    }
   ],
   "source": [
    "data_test.eval(\"PnL = yhat * target\").groupby('date')['PnL'].sum().cumsum().plot()"
   ]
  },
  {
   "cell_type": "code",
   "execution_count": 37,
   "metadata": {},
   "outputs": [
    {
     "data": {
      "text/plain": [
       "<AxesSubplot:xlabel='date'>"
      ]
     },
     "execution_count": 37,
     "metadata": {},
     "output_type": "execute_result"
    },
    {
     "data": {
      "image/png": "[encoded data removed]",
      "text/plain": [
       "<Figure size 432x288 with 1 Axes>"
      ]
     },
     "metadata": {
      "needs_background": "light"
     },
     "output_type": "display_data"
    }
   ],
   "source": [
    "data_test.query(\"yhat > 0\").eval(\"PnL = yhat * target\").groupby('date')['PnL'].sum().cumsum().plot()"
   ]
  },
  {
   "cell_type": "code",
   "execution_count": 30,
   "metadata": {},
   "outputs": [
    {
     "data": {
      "text/plain": [
       "<AxesSubplot:xlabel='date'>"
      ]
     },
     "execution_count": 30,
     "metadata": {},
     "output_type": "execute_result"
    },
    {
     "data": {
      "image/png": "[encoded data removed]",
      "text/plain": [
       "<Figure size 432x288 with 1 Axes>"
      ]
     },
     "metadata": {
      "needs_background": "light"
     },
     "output_type": "display_data"
    }
   ],
   "source": [
    "data_test.query(\"yhat > 0\").eval(\"PnL = target\").groupby('date')['PnL'].sum().cumsum().plot()"
   ]
  },
  {
   "cell_type": "code",
   "execution_count": 26,
   "metadata": {},
   "outputs": [],
   "source": [
    "data_test.to_pickle(r\"D:\\Datasets\\TwoSigmaDataSetBr_2022_03_04\\Papertrade_br\\models\\MlpVarianceSwap\\trained_model\\model_MlpVarianceSwap_2022-03-03\\df_test_mestrado.pkl\")"
   ]
  },
  {
   "cell_type": "code",
   "execution_count": null,
   "metadata": {},
   "outputs": [],
   "source": []
  }
 ],
 "metadata": {
  "kernelspec": {
   "display_name": "Python 3",
   "language": "python",
   "name": "python3"
  },
  "language_info": {
   "codemirror_mode": {
    "name": "ipython",
    "version": 3
   },
   "file_extension": ".py",
   "mimetype": "text/x-python",
   "name": "python",
   "nbconvert_exporter": "python",
   "pygments_lexer": "ipython3",
   "version": "3.8.5"
  }
 },
 "nbformat": 4,
 "nbformat_minor": 4
}
