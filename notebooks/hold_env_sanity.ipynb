{
 "cells": [
  {
   "cell_type": "code",
   "execution_count": 1,
   "metadata": {},
   "outputs": [],
   "source": [
    "%load_ext autoreload\n",
    "%autoreload 2"
   ]
  },
  {
   "cell_type": "code",
   "execution_count": 2,
   "metadata": {},
   "outputs": [],
   "source": [
    "import pandas as pd\n",
    "import numpy as np\n",
    "import matplotlib.pyplot as plt\n",
    "plt.style.use('dark_background')\n",
    "%matplotlib inline\n",
    "from stable_baselines3 import PPO, A2C\n",
    "from IPython.display import clear_output"
   ]
  },
  {
   "cell_type": "code",
   "execution_count": 3,
   "metadata": {},
   "outputs": [],
   "source": [
    "import sys\n",
    "sys.path.append(r\"C:\\Users\\fidel\\OneDrive\\Documentos\\Mestrado\\code\")\n",
    "from RL_trading_envs import StockWithVolHold\n"
   ]
  },
  {
   "cell_type": "code",
   "execution_count": 4,
   "metadata": {},
   "outputs": [],
   "source": [
    "def pnl_metric(y, yhat):\n",
    "    return sum(y * yhat)"
   ]
  },
  {
   "cell_type": "code",
   "execution_count": 5,
   "metadata": {},
   "outputs": [],
   "source": [
    "df = pd.read_pickle(r\"D:\\Datasets\\TwoSigmaDataSetBr_2022_03_04\\Papertrade_br\\models\\MlpVarianceSwap\\trained_model\\model_MlpVarianceSwap_2022-03-03\\df_test_mestrado.pkl\")\n",
    "\n",
    "df.loc[:, 'volatility'] = df.groupby('asset_identifier')['t_minus_1'].apply(lambda x: x.rolling(35).std())\n",
    "\n",
    "df                           = df[['asset_identifier', 'date', 'volatility', 'yhat', 'target']]\n",
    "df                           = df.rename(columns = {'target': 'target_return'})\n",
    "df.loc[:, 'realized_return'] = df.groupby(\"asset_identifier\")['target_return'].shift(1)\n",
    "df                           = df.dropna()\n",
    "\n",
    "df.loc[:, 'date'] = df['date'].factorize()[0]\n",
    "df.loc[:, 'asset_identifier'] = df['asset_identifier'].factorize()[0]\n",
    "\n",
    "df.sort_values('date', inplace = True)\n",
    "df.reset_index(drop = True, inplace = True)"
   ]
  },
  {
   "cell_type": "code",
   "execution_count": 6,
   "metadata": {},
   "outputs": [
    {
     "data": {
      "text/html": [
       "<div>\n",
       "<style scoped>\n",
       "    .dataframe tbody tr th:only-of-type {\n",
       "        vertical-align: middle;\n",
       "    }\n",
       "\n",
       "    .dataframe tbody tr th {\n",
       "        vertical-align: top;\n",
       "    }\n",
       "\n",
       "    .dataframe thead th {\n",
       "        text-align: right;\n",
       "    }\n",
       "</style>\n",
       "<table border=\"1\" class=\"dataframe\">\n",
       "  <thead>\n",
       "    <tr style=\"text-align: right;\">\n",
       "      <th></th>\n",
       "      <th>asset_identifier</th>\n",
       "      <th>date</th>\n",
       "      <th>volatility</th>\n",
       "      <th>yhat</th>\n",
       "      <th>target_return</th>\n",
       "      <th>realized_return</th>\n",
       "    </tr>\n",
       "  </thead>\n",
       "  <tbody>\n",
       "    <tr>\n",
       "      <th>0</th>\n",
       "      <td>0</td>\n",
       "      <td>0</td>\n",
       "      <td>0.013363</td>\n",
       "      <td>0.001609</td>\n",
       "      <td>0.009810</td>\n",
       "      <td>0</td>\n",
       "    </tr>\n",
       "    <tr>\n",
       "      <th>1</th>\n",
       "      <td>40</td>\n",
       "      <td>0</td>\n",
       "      <td>0.015805</td>\n",
       "      <td>0.001459</td>\n",
       "      <td>-0.011840</td>\n",
       "      <td>0</td>\n",
       "    </tr>\n",
       "    <tr>\n",
       "      <th>2</th>\n",
       "      <td>40</td>\n",
       "      <td>1</td>\n",
       "      <td>0.015933</td>\n",
       "      <td>0.001557</td>\n",
       "      <td>0.002496</td>\n",
       "      <td>0</td>\n",
       "    </tr>\n",
       "    <tr>\n",
       "      <th>3</th>\n",
       "      <td>0</td>\n",
       "      <td>1</td>\n",
       "      <td>0.014447</td>\n",
       "      <td>0.000885</td>\n",
       "      <td>-0.023429</td>\n",
       "      <td>0</td>\n",
       "    </tr>\n",
       "  </tbody>\n",
       "</table>\n",
       "</div>"
      ],
      "text/plain": [
       "   asset_identifier  date  volatility      yhat  target_return  \\\n",
       "0                 0     0    0.013363  0.001609       0.009810   \n",
       "1                40     0    0.015805  0.001459      -0.011840   \n",
       "2                40     1    0.015933  0.001557       0.002496   \n",
       "3                 0     1    0.014447  0.000885      -0.023429   \n",
       "\n",
       "   realized_return  \n",
       "0                0  \n",
       "1                0  \n",
       "2                0  \n",
       "3                0  "
      ]
     },
     "execution_count": 6,
     "metadata": {},
     "output_type": "execute_result"
    }
   ],
   "source": [
    "assets = [0, 40]\n",
    "df.query(\"asset_identifier.isin(@assets)\", inplace = True, engine = 'python')\n",
    "df.reset_index(drop = True, inplace = True)\n",
    "\n",
    "# df.loc[:, 'target_return'] = 0\n",
    "df.loc[:, 'realized_return'] = 0\n",
    "\n",
    "df.head(4)"
   ]
  },
  {
   "cell_type": "code",
   "execution_count": 9,
   "metadata": {},
   "outputs": [
    {
     "data": {
      "text/html": [
       "<div>\n",
       "<style scoped>\n",
       "    .dataframe tbody tr th:only-of-type {\n",
       "        vertical-align: middle;\n",
       "    }\n",
       "\n",
       "    .dataframe tbody tr th {\n",
       "        vertical-align: top;\n",
       "    }\n",
       "\n",
       "    .dataframe thead th {\n",
       "        text-align: right;\n",
       "    }\n",
       "</style>\n",
       "<table border=\"1\" class=\"dataframe\">\n",
       "  <thead>\n",
       "    <tr style=\"text-align: right;\">\n",
       "      <th></th>\n",
       "      <th>asset_identifier</th>\n",
       "      <th>date</th>\n",
       "      <th>volatility</th>\n",
       "      <th>yhat</th>\n",
       "      <th>target_return</th>\n",
       "      <th>realized_return</th>\n",
       "    </tr>\n",
       "  </thead>\n",
       "  <tbody>\n",
       "    <tr>\n",
       "      <th>0</th>\n",
       "      <td>0</td>\n",
       "      <td>0</td>\n",
       "      <td>0.013363</td>\n",
       "      <td>0.001609</td>\n",
       "      <td>0.009810</td>\n",
       "      <td>0</td>\n",
       "    </tr>\n",
       "    <tr>\n",
       "      <th>1</th>\n",
       "      <td>40</td>\n",
       "      <td>0</td>\n",
       "      <td>0.015805</td>\n",
       "      <td>0.001459</td>\n",
       "      <td>-0.011840</td>\n",
       "      <td>0</td>\n",
       "    </tr>\n",
       "    <tr>\n",
       "      <th>2</th>\n",
       "      <td>40</td>\n",
       "      <td>1</td>\n",
       "      <td>0.015933</td>\n",
       "      <td>0.001557</td>\n",
       "      <td>0.002496</td>\n",
       "      <td>0</td>\n",
       "    </tr>\n",
       "    <tr>\n",
       "      <th>3</th>\n",
       "      <td>40</td>\n",
       "      <td>2</td>\n",
       "      <td>0.015971</td>\n",
       "      <td>0.001590</td>\n",
       "      <td>0.005976</td>\n",
       "      <td>0</td>\n",
       "    </tr>\n",
       "  </tbody>\n",
       "</table>\n",
       "</div>"
      ],
      "text/plain": [
       "   asset_identifier  date  volatility      yhat  target_return  \\\n",
       "0                 0     0    0.013363  0.001609       0.009810   \n",
       "1                40     0    0.015805  0.001459      -0.011840   \n",
       "2                40     1    0.015933  0.001557       0.002496   \n",
       "3                40     2    0.015971  0.001590       0.005976   \n",
       "\n",
       "   realized_return  \n",
       "0                0  \n",
       "1                0  \n",
       "2                0  \n",
       "3                0  "
      ]
     },
     "execution_count": 9,
     "metadata": {},
     "output_type": "execute_result"
    }
   ],
   "source": [
    "df = df.drop(3).reset_index(drop = True)\n",
    "df.head(4)"
   ]
  },
  {
   "cell_type": "code",
   "execution_count": 17,
   "metadata": {},
   "outputs": [],
   "source": [
    "env = StockWithVolHold(df)"
   ]
  },
  {
   "cell_type": "code",
   "execution_count": 18,
   "metadata": {},
   "outputs": [
    {
     "data": {
      "text/plain": [
       "{'portfolio_volatility': 0.0,\n",
       " 'stock_volatility': 0.013363398305857985,\n",
       " 'stock_prediction': 0.001608795952051878,\n",
       " 'available_notional': 1.0,\n",
       " 'stock_notional': 0.0}"
      ]
     },
     "execution_count": 18,
     "metadata": {},
     "output_type": "execute_result"
    }
   ],
   "source": [
    "env.state_to_features(True)"
   ]
  },
  {
   "cell_type": "code",
   "execution_count": 19,
   "metadata": {},
   "outputs": [
    {
     "name": "stdout",
     "output_type": "stream",
     "text": [
      "reward / 30: 0.0009809613227844238\n",
      "{'portfolio_volatility': 0.0013363398305857987, 'stock_volatility': 0.01580520651208783, 'stock_prediction': 0.001459359540604055, 'available_notional': 0.9, 'stock_notional': 0.0}\n",
      "Wall time: 0 ns\n"
     ]
    }
   ],
   "source": [
    "%%time\n",
    "action = np.array([0.1])\n",
    "_, reward, _, _ = env.step(action)\n",
    "print(f'reward / 30: {reward/30}')\n",
    "print(env.state_to_features(True))"
   ]
  },
  {
   "cell_type": "code",
   "execution_count": 26,
   "metadata": {},
   "outputs": [
    {
     "name": "stdout",
     "output_type": "stream",
     "text": [
      "NEW DAY ! $ &  ( # )\n",
      "reward / 30: 0.0006436586380004883\n",
      "{'portfolio_volatility': 0.004942194855373318, 'stock_volatility': 0.015727557236542563, 'stock_prediction': 0.0015094154514372349, 'available_notional': 0.6, 'stock_notional': 0.30000000000000004}\n"
     ]
    }
   ],
   "source": [
    "action = np.array([0.1])\n",
    "_, reward, _, _ = env.step(action)\n",
    "print(f'reward / 30: {reward/30}')\n",
    "print(env.state_to_features(True))"
   ]
  },
  {
   "cell_type": "code",
   "execution_count": 27,
   "metadata": {},
   "outputs": [
    {
     "data": {
      "text/plain": [
       "{0: [0.1, 0.014707973660207135],\n",
       " 40: [0.30000000000000004, 0.015727557236542563]}"
      ]
     },
     "execution_count": 27,
     "metadata": {},
     "output_type": "execute_result"
    }
   ],
   "source": [
    "env.hidden_state"
   ]
  },
  {
   "cell_type": "code",
   "execution_count": 14,
   "metadata": {},
   "outputs": [
    {
     "data": {
      "text/plain": [
       "{'portfolio_volatility': 0.0021507644088491693,\n",
       " 'stock_volatility': 0.015933122886911705,\n",
       " 'stock_prediction': 0.0015570971881970763,\n",
       " 'available_notional': 0.8,\n",
       " 'stock_notional': 0.1}"
      ]
     },
     "execution_count": 14,
     "metadata": {},
     "output_type": "execute_result"
    }
   ],
   "source": [
    "env.state_to_features(True)"
   ]
  },
  {
   "cell_type": "code",
   "execution_count": 17,
   "metadata": {},
   "outputs": [
    {
     "name": "stdout",
     "output_type": "stream",
     "text": [
      "reward / 30: 0.0022466182708740234\n",
      "{'portfolio_volatility': 0.014412401308800555, 'stock_volatility': 0.01444694948104277, 'stock_prediction': 0.0008845236734487116, 'available_notional': 0.0, 'stock_notional': 0.1}\n"
     ]
    }
   ],
   "source": [
    "action = np.array([1.2])\n",
    "_, reward, _, _ = env.step(action)\n",
    "print(f'reward / 30: {reward/30}')\n",
    "print(env.state_to_features(True))"
   ]
  },
  {
   "cell_type": "code",
   "execution_count": 20,
   "metadata": {},
   "outputs": [
    {
     "data": {
      "text/plain": [
       "0.014412401308800556"
      ]
     },
     "execution_count": 20,
     "metadata": {},
     "output_type": "execute_result"
    }
   ],
   "source": [
    "((0.9*0.015933122886911705)**2 + (0.1*0.01444694948104277)**2)**0.5"
   ]
  },
  {
   "cell_type": "code",
   "execution_count": 18,
   "metadata": {},
   "outputs": [
    {
     "data": {
      "text/plain": [
       "{0: [0.1, 0.01444694948104277], 40: [0.9, 0.015933122886911705]}"
      ]
     },
     "execution_count": 18,
     "metadata": {},
     "output_type": "execute_result"
    }
   ],
   "source": [
    "env.hidden_state"
   ]
  },
  {
   "cell_type": "code",
   "execution_count": 27,
   "metadata": {},
   "outputs": [],
   "source": [
    "def bound_allocation(allocation, available_notional, initial_stock_notional):\n",
    "    initial_available_notional = available_notional\n",
    "    if (available_notional <= 0) and (allocation * initial_stock_notional > 0):#There is no available notional and you are trying to increase position\n",
    "        stock_notional = initial_stock_notional\n",
    "    else:\n",
    "        available_notional = available_notional + np.abs(initial_stock_notional) #Take off the asset from the portfolio\n",
    "        stock_notional     = initial_stock_notional + allocation #Calculate the desired new notional\n",
    "        #Clip this new notional\n",
    "        if available_notional > 0:\n",
    "            stock_notional = min(available_notional, max(stock_notional, -available_notional)) \n",
    "        elif allocation * initial_stock_notional > 0: #There is no available notional and you are trying to increase position\n",
    "            stock_notional = initial_stock_notional\n",
    "        else: #There is no available notional and you are trying to reduce your position\n",
    "            if initial_stock_notional > 0:\n",
    "                stock_notional = max(0, stock_notional)\n",
    "            elif initial_stock_notional < 0:\n",
    "                stock_notional = min(0, stock_notional)\n",
    "            else:\n",
    "                stock_notional = 0\n",
    "    available_notional = initial_available_notional + np.abs(initial_stock_notional) - np.abs(stock_notional)\n",
    "    allocation         = stock_notional - initial_stock_notional\n",
    "    return allocation, available_notional, stock_notional"
   ]
  },
  {
   "cell_type": "code",
   "execution_count": 47,
   "metadata": {},
   "outputs": [
    {
     "data": {
      "text/plain": [
       "(0.0, 0.0, -0.03)"
      ]
     },
     "execution_count": 47,
     "metadata": {},
     "output_type": "execute_result"
    }
   ],
   "source": [
    "bound_allocation(allocation = -0.12, available_notional = 0, initial_stock_notional = -0.03)"
   ]
  },
  {
   "cell_type": "code",
   "execution_count": 17,
   "metadata": {},
   "outputs": [],
   "source": [
    "env.rl_timestamp = 300"
   ]
  },
  {
   "cell_type": "code",
   "execution_count": 18,
   "metadata": {},
   "outputs": [
    {
     "data": {
      "text/plain": [
       "(0.012190959909850186, -0.006382715702056951)"
      ]
     },
     "execution_count": 18,
     "metadata": {},
     "output_type": "execute_result"
    }
   ],
   "source": [
    "env.update_hidden_state_new_day()"
   ]
  },
  {
   "cell_type": "code",
   "execution_count": 13,
   "metadata": {},
   "outputs": [
    {
     "data": {
      "text/plain": [
       "{0: [0.1, 0.013363398305857985],\n",
       " 40: [0.1, 0.01580520651208783],\n",
       " 138: [0.8, 0.01482872541930914],\n",
       " 204: [0, 0.014200607574125298],\n",
       " 41: [0, 0.018580996467913814],\n",
       " 108: [0, 0.013001437228965412],\n",
       " 42: [0, 0.021455110979965594],\n",
       " 104: [0, 0.012131499826266125],\n",
       " 139: [0, 0.012165580870885536],\n",
       " 39: [0, 0.009731890992653498],\n",
       " 199: [0, 0.02615744249536586],\n",
       " 103: [0, 0.01988824297394862],\n",
       " 142: [0, 0.013920923026839815],\n",
       " 197: [0, 0.014358498105275598],\n",
       " 46: [0, 0.05980510272573136],\n",
       " 50: [0, 0.01521849163741122],\n",
       " 52: [0, 0.014717138294185462],\n",
       " 98: [0, 0.028463126677311885],\n",
       " 97: [0, 0.013929304421699847],\n",
       " 43: [0, 0.02254693140370819],\n",
       " 143: [0, 0.01726278620658728],\n",
       " 137: [0, 0.02949189627542225],\n",
       " 37: [0, 0.019207619422299524],\n",
       " 23: [0, 0.019493193114703333],\n",
       " 121: [0, 0.01132499820431063],\n",
       " 118: [0, 0.06614203585771357],\n",
       " 132: [0, 0.015079577004716389],\n",
       " 222: [0, 0.014095741143120899],\n",
       " 24: [0, 0.013919419917205881],\n",
       " 133: [0, 0.06842613597318865],\n",
       " 215: [0, 0.014787612260796706],\n",
       " 110: [0, 0.013844385966483894],\n",
       " 25: [0, 0.012669902494472645],\n",
       " 135: [0, 0.020352230529649296],\n",
       " 214: [0, 0.01615718659205231],\n",
       " 28: [0, 0.015940495503842658],\n",
       " 136: [0, 0.022896481417797054],\n",
       " 213: [0, 0.024482353661009124],\n",
       " 33: [0, 0.04025469913003687],\n",
       " 111: [0, 0.02197278395580107],\n",
       " 208: [0, 0.010516673744685446],\n",
       " 114: [0, 0.01859459770922839],\n",
       " 22: [0, 0.02213852106696444],\n",
       " 186: [0, 0.012465967718017935],\n",
       " 57: [0, 0.015421212108243966],\n",
       " 166: [0, 0.013972218814490288],\n",
       " 70: [0, 0.02511067538336363],\n",
       " 84: [0, 0.044103720708057216],\n",
       " 152: [0, 0.026144057995576227],\n",
       " 165: [0, 0.022786108904663194],\n",
       " 72: [0, 0.02150019462709124],\n",
       " 75: [0, 0.014579202220625921],\n",
       " 83: [0, 0.022872628137540908],\n",
       " 86: [0, 0.011865820736974203],\n",
       " 164: [0, 0.019693659003106826],\n",
       " 157: [0, 0.025364734449514436],\n",
       " 76: [0, 0.007762480479439224],\n",
       " 163: [0, 0.01498731038131217],\n",
       " 77: [0, 0.023501639767134055],\n",
       " 80: [0, 0.05031478004256057],\n",
       " 159: [0, 0.03692388854847181],\n",
       " 78: [0, 0.018715477138227285],\n",
       " 160: [0, 0.08720411485394716],\n",
       " 81: [0, 0.015218182587308518],\n",
       " 54: [0, 0.010640083112502028],\n",
       " 69: [0, 0.014210267959490175],\n",
       " 169: [0, 0.013678196959328117],\n",
       " 60: [0, 0.014691917158811352],\n",
       " 96: [0, 0.014553259723869973],\n",
       " 144: [0, 0.05898459326631028],\n",
       " 61: [0, 0.013611275114446127],\n",
       " 145: [0, 0.044412127625847925],\n",
       " 178: [0, 0.018110073913827768],\n",
       " 62: [0, 0.022193576008279967],\n",
       " 64: [0, 0.015352889560154454],\n",
       " 67: [0, 0.021879322432257462],\n",
       " 94: [0, 0.03935792080125252],\n",
       " 174: [0, 0.011712330021054594],\n",
       " 173: [0, 0.03303098626311792],\n",
       " 65: [0, 0.01384329820994526],\n",
       " 90: [0, 0.016975036106125618],\n",
       " 149: [0, 0.03044606805547029],\n",
       " 66: [0, 0.019887122336267982],\n",
       " 89: [0, 0.019846514069144047],\n",
       " 151: [0, 0.028159394262842554],\n",
       " 148: [0, 0.011923470902584802],\n",
       " 18: [0, 0.015218401381241465],\n",
       " 162: [0, 0.016186025044211176],\n",
       " 228: [0, 0.016588832844013416],\n",
       " 3: [0, 0.026936073355890527],\n",
       " 125: [0, 0.019929006428850794],\n",
       " 131: [0, 0.024421380494185626],\n",
       " 226: [0, 0.012410841384780847],\n",
       " 189: [0, nan],\n",
       " 27: [0, nan],\n",
       " 223: [0, nan],\n",
       " 129: [0, nan],\n",
       " 115: [0, nan],\n",
       " 82: [0, nan],\n",
       " 225: [0, nan],\n",
       " 170: [0, nan],\n",
       " 205: [0, nan],\n",
       " 180: [0, nan],\n",
       " 71: [0, nan],\n",
       " 16: [0, nan],\n",
       " 117: [0, nan],\n",
       " 183: [0, nan],\n",
       " 99: [0, nan],\n",
       " 122: [0, nan],\n",
       " 8: [0, nan],\n",
       " 198: [0, nan],\n",
       " 68: [0, nan],\n",
       " 93: [0, nan],\n",
       " 206: [0, nan],\n",
       " 120: [0, nan],\n",
       " 7: [0, nan],\n",
       " 10: [0, nan],\n",
       " 85: [0, nan],\n",
       " 175: [0, nan],\n",
       " 227: [0, nan],\n",
       " 35: [0, nan],\n",
       " 182: [0, nan],\n",
       " 79: [0, nan],\n",
       " 187: [0, nan],\n",
       " 176: [0, nan],\n",
       " 19: [0, nan],\n",
       " 63: [0, nan],\n",
       " 134: [0, nan],\n",
       " 106: [0, nan],\n",
       " 38: [0, nan],\n",
       " 181: [0, nan],\n",
       " 224: [0, nan],\n",
       " 102: [0, nan],\n",
       " 194: [0, nan],\n",
       " 56: [0, nan],\n",
       " 123: [0, nan],\n",
       " 112: [0, nan],\n",
       " 130: [0, nan],\n",
       " 119: [0, nan],\n",
       " 147: [0, nan],\n",
       " 127: [0, nan],\n",
       " 36: [0, nan],\n",
       " 192: [0, nan],\n",
       " 9: [0, nan],\n",
       " 140: [0, nan],\n",
       " 32: [0, nan],\n",
       " 31: [0, nan],\n",
       " 11: [0, nan],\n",
       " 177: [0, nan],\n",
       " 221: [0, nan],\n",
       " 216: [0, nan],\n",
       " 21: [0, nan],\n",
       " 74: [0, nan],\n",
       " 14: [0, nan],\n",
       " 218: [0, nan],\n",
       " 20: [0, nan],\n",
       " 158: [0, nan],\n",
       " 168: [0, nan],\n",
       " 191: [0, nan],\n",
       " 47: [0, nan],\n",
       " 153: [0, nan],\n",
       " 184: [0, nan],\n",
       " 185: [0, nan],\n",
       " 172: [0, nan],\n",
       " 105: [0, nan],\n",
       " 58: [0, nan],\n",
       " 55: [0, nan],\n",
       " 17: [0, nan],\n",
       " 202: [0, nan],\n",
       " 59: [0, nan],\n",
       " 220: [0, nan],\n",
       " 190: [0, nan],\n",
       " 100: [0, nan],\n",
       " 49: [0, nan],\n",
       " 219: [0, nan],\n",
       " 201: [0, nan],\n",
       " 154: [0, nan],\n",
       " 212: [0, nan],\n",
       " 6: [0, nan],\n",
       " 141: [0, nan],\n",
       " 196: [0, nan],\n",
       " 211: [0, nan],\n",
       " 210: [0, nan],\n",
       " 193: [0, nan],\n",
       " 2: [0, nan],\n",
       " 12: [0, nan],\n",
       " 217: [0, nan],\n",
       " 44: [0, nan],\n",
       " 29: [0, nan],\n",
       " 179: [0, nan],\n",
       " 87: [0, nan],\n",
       " 88: [0, nan],\n",
       " 45: [0, nan],\n",
       " 53: [0, nan],\n",
       " 116: [0, nan],\n",
       " 13: [0, nan],\n",
       " 200: [0, nan],\n",
       " 95: [0, nan],\n",
       " 73: [0, nan],\n",
       " 34: [0, nan],\n",
       " 188: [0, nan],\n",
       " 30: [0, nan],\n",
       " 207: [0, nan],\n",
       " 209: [0, nan],\n",
       " 126: [0, nan],\n",
       " 203: [0, nan],\n",
       " 1: [0, nan],\n",
       " 109: [0, nan],\n",
       " 101: [0, nan],\n",
       " 150: [0, nan],\n",
       " 48: [0, nan],\n",
       " 5: [0, nan],\n",
       " 167: [0, nan],\n",
       " 92: [0, nan],\n",
       " 113: [0, nan],\n",
       " 124: [0, nan],\n",
       " 107: [0, nan],\n",
       " 128: [0, nan],\n",
       " 91: [0, nan],\n",
       " 155: [0, nan],\n",
       " 195: [0, nan],\n",
       " 26: [0, nan],\n",
       " 15: [0, nan],\n",
       " 156: [0, nan],\n",
       " 161: [0, nan],\n",
       " 146: [0, nan],\n",
       " 171: [0, nan],\n",
       " 51: [0, nan],\n",
       " 4: [0, nan]}"
      ]
     },
     "execution_count": 13,
     "metadata": {},
     "output_type": "execute_result"
    }
   ],
   "source": [
    "env.hidden_state#[0][1]"
   ]
  },
  {
   "cell_type": "code",
   "execution_count": 206,
   "metadata": {},
   "outputs": [
    {
     "data": {
      "text/plain": [
       "0.02150764408849169"
      ]
     },
     "execution_count": 206,
     "metadata": {},
     "output_type": "execute_result"
    }
   ],
   "source": [
    "(0.01444694948104277**2 + 0.015933122886911705**2)**0.5"
   ]
  },
  {
   "cell_type": "code",
   "execution_count": 178,
   "metadata": {},
   "outputs": [
    {
     "name": "stdout",
     "output_type": "stream",
     "text": [
      "NEW DAY ! $ &  ( # )\n",
      "reward / 30: -0.007051586181236757\n",
      "{'portfolio_volatility': 0.004443953822581824, 'stock_volatility': 0.015971041877426855, 'stock_prediction': 0.001590329804457724, 'available_notional': 0.6070079666891814, 'stock_notional': 0.0990626581692709}\n"
     ]
    }
   ],
   "source": [
    "action = np.array([0.2])\n",
    "_, reward, _, _ = env.step(action)\n",
    "print(f'reward / 30: {reward/30}')\n",
    "print(env.state_to_features(True))"
   ]
  },
  {
   "cell_type": "code",
   "execution_count": 179,
   "metadata": {},
   "outputs": [
    {
     "data": {
      "text/plain": [
       "{0: [0.2939293751415477, 0.014128494477478385],\n",
       " 40: [0.0990626581692709, 0.015971041877426855]}"
      ]
     },
     "execution_count": 179,
     "metadata": {},
     "output_type": "execute_result"
    }
   ],
   "source": [
    "env.hidden_state#[0][1]"
   ]
  },
  {
   "cell_type": "code",
   "execution_count": 13,
   "metadata": {},
   "outputs": [],
   "source": [
    "# agent_parameters = dict(learning_rate=0.0003,\n",
    "#                         n_steps=2048,\n",
    "#                         batch_size=64,\n",
    "#                         n_epochs=10)\n",
    "# agent_parameters = dict(learning_rate=0.0003,\n",
    "#                         n_steps=2048,\n",
    "#                         batch_size=2048,\n",
    "#                         n_epochs=1)\n",
    "agent_parameters = {}\n",
    "def fit_rl(df_valid, agent_parameters):\n",
    "    env   = StockWithVolHold(df_valid)\n",
    "    model = PPO('MlpPolicy', env, verbose=0, **agent_parameters)\n",
    "    list_results = []\n",
    "    for i in range(30):\n",
    "        clear_output(wait=True)\n",
    "        model.learn(total_timesteps=len(df_valid))\n",
    "        yhat = get_actions(df_valid, model).reshape(-1)\n",
    "        list_results.append(pnl_metric(y, yhat))\n",
    "        plt.plot(list_results)\n",
    "        plt.show()\n",
    "        plt.hist(yhat)\n",
    "        plt.show()\n",
    "        print(i)\n",
    "    return model\n"
   ]
  },
  {
   "cell_type": "code",
   "execution_count": 14,
   "metadata": {},
   "outputs": [],
   "source": [
    "%matplotlib inline"
   ]
  },
  {
   "cell_type": "code",
   "execution_count": 20,
   "metadata": {},
   "outputs": [
    {
     "name": "stdout",
     "output_type": "stream",
     "text": [
      "0.0 0.0 0.013363398305857985\n",
      "0.005425445566628439 0.40599295496940613 0.01580520651208783\n",
      "0.008740837219692125 1.0 0.01482872541930914\n"
     ]
    },
    {
     "name": "stderr",
     "output_type": "stream",
     "text": [
      "C:\\Users\\fidel\\OneDrive\\Documentos\\Mestrado\\code\\RL_trading_envs.py:507: RuntimeWarning: invalid value encountered in double_scalars\n",
      "  vol_reward = -10 * (portfolio_volatility > 0.1) #Just guessing a volatility threshold\n",
      "C:\\Users\\fidel\\OneDrive\\Documentos\\Mestrado\\code\\RL_trading_envs.py:527: RuntimeWarning: invalid value encountered in double_scalars\n",
      "  new_portfolio_volatility = (portfolio_volatility ** 2 - (initial_stock_notional * stock_volatility)**2 + (allocation * stock_volatility)**2) **0.5\n"
     ]
    },
    {
     "ename": "ValueError",
     "evalue": "Expected parameter loc (Tensor of shape (1, 1)) of distribution Normal(loc: tensor([[nan]]), scale: tensor([[1.]])) to satisfy the constraint Real(), but found invalid values:\ntensor([[nan]])",
     "output_type": "error",
     "traceback": [
      "\u001b[1;31m---------------------------------------------------------------------------\u001b[0m",
      "\u001b[1;31mValueError\u001b[0m                                Traceback (most recent call last)",
      "\u001b[1;32m<timed exec>\u001b[0m in \u001b[0;36m<module>\u001b[1;34m\u001b[0m\n",
      "\u001b[1;32m<ipython-input-13-67d7bc92dcff>\u001b[0m in \u001b[0;36mfit_rl\u001b[1;34m(df_valid, agent_parameters)\u001b[0m\n\u001b[0;32m     14\u001b[0m     \u001b[1;32mfor\u001b[0m \u001b[0mi\u001b[0m \u001b[1;32min\u001b[0m \u001b[0mrange\u001b[0m\u001b[1;33m(\u001b[0m\u001b[1;36m30\u001b[0m\u001b[1;33m)\u001b[0m\u001b[1;33m:\u001b[0m\u001b[1;33m\u001b[0m\u001b[1;33m\u001b[0m\u001b[0m\n\u001b[0;32m     15\u001b[0m         \u001b[0mclear_output\u001b[0m\u001b[1;33m(\u001b[0m\u001b[0mwait\u001b[0m\u001b[1;33m=\u001b[0m\u001b[1;32mTrue\u001b[0m\u001b[1;33m)\u001b[0m\u001b[1;33m\u001b[0m\u001b[1;33m\u001b[0m\u001b[0m\n\u001b[1;32m---> 16\u001b[1;33m         \u001b[0mmodel\u001b[0m\u001b[1;33m.\u001b[0m\u001b[0mlearn\u001b[0m\u001b[1;33m(\u001b[0m\u001b[0mtotal_timesteps\u001b[0m\u001b[1;33m=\u001b[0m\u001b[0mlen\u001b[0m\u001b[1;33m(\u001b[0m\u001b[0mdf_valid\u001b[0m\u001b[1;33m)\u001b[0m\u001b[1;33m)\u001b[0m\u001b[1;33m\u001b[0m\u001b[1;33m\u001b[0m\u001b[0m\n\u001b[0m\u001b[0;32m     17\u001b[0m         \u001b[0myhat\u001b[0m \u001b[1;33m=\u001b[0m \u001b[0mget_actions\u001b[0m\u001b[1;33m(\u001b[0m\u001b[0mdf_valid\u001b[0m\u001b[1;33m,\u001b[0m \u001b[0mmodel\u001b[0m\u001b[1;33m)\u001b[0m\u001b[1;33m.\u001b[0m\u001b[0mreshape\u001b[0m\u001b[1;33m(\u001b[0m\u001b[1;33m-\u001b[0m\u001b[1;36m1\u001b[0m\u001b[1;33m)\u001b[0m\u001b[1;33m\u001b[0m\u001b[1;33m\u001b[0m\u001b[0m\n\u001b[0;32m     18\u001b[0m         \u001b[0mlist_results\u001b[0m\u001b[1;33m.\u001b[0m\u001b[0mappend\u001b[0m\u001b[1;33m(\u001b[0m\u001b[0mpnl_metric\u001b[0m\u001b[1;33m(\u001b[0m\u001b[0my\u001b[0m\u001b[1;33m,\u001b[0m \u001b[0myhat\u001b[0m\u001b[1;33m)\u001b[0m\u001b[1;33m)\u001b[0m\u001b[1;33m\u001b[0m\u001b[1;33m\u001b[0m\u001b[0m\n",
      "\u001b[1;32mc:\\users\\fidel\\appdata\\local\\programs\\python\\python38\\lib\\site-packages\\stable_baselines3\\ppo\\ppo.py\u001b[0m in \u001b[0;36mlearn\u001b[1;34m(self, total_timesteps, callback, log_interval, eval_env, eval_freq, n_eval_episodes, tb_log_name, eval_log_path, reset_num_timesteps)\u001b[0m\n\u001b[0;32m    302\u001b[0m     ) -> \"PPO\":\n\u001b[0;32m    303\u001b[0m \u001b[1;33m\u001b[0m\u001b[0m\n\u001b[1;32m--> 304\u001b[1;33m         return super(PPO, self).learn(\n\u001b[0m\u001b[0;32m    305\u001b[0m             \u001b[0mtotal_timesteps\u001b[0m\u001b[1;33m=\u001b[0m\u001b[0mtotal_timesteps\u001b[0m\u001b[1;33m,\u001b[0m\u001b[1;33m\u001b[0m\u001b[1;33m\u001b[0m\u001b[0m\n\u001b[0;32m    306\u001b[0m             \u001b[0mcallback\u001b[0m\u001b[1;33m=\u001b[0m\u001b[0mcallback\u001b[0m\u001b[1;33m,\u001b[0m\u001b[1;33m\u001b[0m\u001b[1;33m\u001b[0m\u001b[0m\n",
      "\u001b[1;32mc:\\users\\fidel\\appdata\\local\\programs\\python\\python38\\lib\\site-packages\\stable_baselines3\\common\\on_policy_algorithm.py\u001b[0m in \u001b[0;36mlearn\u001b[1;34m(self, total_timesteps, callback, log_interval, eval_env, eval_freq, n_eval_episodes, tb_log_name, eval_log_path, reset_num_timesteps)\u001b[0m\n\u001b[0;32m    248\u001b[0m         \u001b[1;32mwhile\u001b[0m \u001b[0mself\u001b[0m\u001b[1;33m.\u001b[0m\u001b[0mnum_timesteps\u001b[0m \u001b[1;33m<\u001b[0m \u001b[0mtotal_timesteps\u001b[0m\u001b[1;33m:\u001b[0m\u001b[1;33m\u001b[0m\u001b[1;33m\u001b[0m\u001b[0m\n\u001b[0;32m    249\u001b[0m \u001b[1;33m\u001b[0m\u001b[0m\n\u001b[1;32m--> 250\u001b[1;33m             \u001b[0mcontinue_training\u001b[0m \u001b[1;33m=\u001b[0m \u001b[0mself\u001b[0m\u001b[1;33m.\u001b[0m\u001b[0mcollect_rollouts\u001b[0m\u001b[1;33m(\u001b[0m\u001b[0mself\u001b[0m\u001b[1;33m.\u001b[0m\u001b[0menv\u001b[0m\u001b[1;33m,\u001b[0m \u001b[0mcallback\u001b[0m\u001b[1;33m,\u001b[0m \u001b[0mself\u001b[0m\u001b[1;33m.\u001b[0m\u001b[0mrollout_buffer\u001b[0m\u001b[1;33m,\u001b[0m \u001b[0mn_rollout_steps\u001b[0m\u001b[1;33m=\u001b[0m\u001b[0mself\u001b[0m\u001b[1;33m.\u001b[0m\u001b[0mn_steps\u001b[0m\u001b[1;33m)\u001b[0m\u001b[1;33m\u001b[0m\u001b[1;33m\u001b[0m\u001b[0m\n\u001b[0m\u001b[0;32m    251\u001b[0m \u001b[1;33m\u001b[0m\u001b[0m\n\u001b[0;32m    252\u001b[0m             \u001b[1;32mif\u001b[0m \u001b[0mcontinue_training\u001b[0m \u001b[1;32mis\u001b[0m \u001b[1;32mFalse\u001b[0m\u001b[1;33m:\u001b[0m\u001b[1;33m\u001b[0m\u001b[1;33m\u001b[0m\u001b[0m\n",
      "\u001b[1;32mc:\\users\\fidel\\appdata\\local\\programs\\python\\python38\\lib\\site-packages\\stable_baselines3\\common\\on_policy_algorithm.py\u001b[0m in \u001b[0;36mcollect_rollouts\u001b[1;34m(self, env, callback, rollout_buffer, n_rollout_steps)\u001b[0m\n\u001b[0;32m    167\u001b[0m                 \u001b[1;31m# Convert to pytorch tensor or to TensorDict\u001b[0m\u001b[1;33m\u001b[0m\u001b[1;33m\u001b[0m\u001b[1;33m\u001b[0m\u001b[0m\n\u001b[0;32m    168\u001b[0m                 \u001b[0mobs_tensor\u001b[0m \u001b[1;33m=\u001b[0m \u001b[0mobs_as_tensor\u001b[0m\u001b[1;33m(\u001b[0m\u001b[0mself\u001b[0m\u001b[1;33m.\u001b[0m\u001b[0m_last_obs\u001b[0m\u001b[1;33m,\u001b[0m \u001b[0mself\u001b[0m\u001b[1;33m.\u001b[0m\u001b[0mdevice\u001b[0m\u001b[1;33m)\u001b[0m\u001b[1;33m\u001b[0m\u001b[1;33m\u001b[0m\u001b[0m\n\u001b[1;32m--> 169\u001b[1;33m                 \u001b[0mactions\u001b[0m\u001b[1;33m,\u001b[0m \u001b[0mvalues\u001b[0m\u001b[1;33m,\u001b[0m \u001b[0mlog_probs\u001b[0m \u001b[1;33m=\u001b[0m \u001b[0mself\u001b[0m\u001b[1;33m.\u001b[0m\u001b[0mpolicy\u001b[0m\u001b[1;33m(\u001b[0m\u001b[0mobs_tensor\u001b[0m\u001b[1;33m)\u001b[0m\u001b[1;33m\u001b[0m\u001b[1;33m\u001b[0m\u001b[0m\n\u001b[0m\u001b[0;32m    170\u001b[0m             \u001b[0mactions\u001b[0m \u001b[1;33m=\u001b[0m \u001b[0mactions\u001b[0m\u001b[1;33m.\u001b[0m\u001b[0mcpu\u001b[0m\u001b[1;33m(\u001b[0m\u001b[1;33m)\u001b[0m\u001b[1;33m.\u001b[0m\u001b[0mnumpy\u001b[0m\u001b[1;33m(\u001b[0m\u001b[1;33m)\u001b[0m\u001b[1;33m\u001b[0m\u001b[1;33m\u001b[0m\u001b[0m\n\u001b[0;32m    171\u001b[0m \u001b[1;33m\u001b[0m\u001b[0m\n",
      "\u001b[1;32mc:\\users\\fidel\\appdata\\local\\programs\\python\\python38\\lib\\site-packages\\torch\\nn\\modules\\module.py\u001b[0m in \u001b[0;36m_call_impl\u001b[1;34m(self, *input, **kwargs)\u001b[0m\n\u001b[0;32m   1108\u001b[0m         if not (self._backward_hooks or self._forward_hooks or self._forward_pre_hooks or _global_backward_hooks\n\u001b[0;32m   1109\u001b[0m                 or _global_forward_hooks or _global_forward_pre_hooks):\n\u001b[1;32m-> 1110\u001b[1;33m             \u001b[1;32mreturn\u001b[0m \u001b[0mforward_call\u001b[0m\u001b[1;33m(\u001b[0m\u001b[1;33m*\u001b[0m\u001b[0minput\u001b[0m\u001b[1;33m,\u001b[0m \u001b[1;33m**\u001b[0m\u001b[0mkwargs\u001b[0m\u001b[1;33m)\u001b[0m\u001b[1;33m\u001b[0m\u001b[1;33m\u001b[0m\u001b[0m\n\u001b[0m\u001b[0;32m   1111\u001b[0m         \u001b[1;31m# Do not call functions when jit is used\u001b[0m\u001b[1;33m\u001b[0m\u001b[1;33m\u001b[0m\u001b[1;33m\u001b[0m\u001b[0m\n\u001b[0;32m   1112\u001b[0m         \u001b[0mfull_backward_hooks\u001b[0m\u001b[1;33m,\u001b[0m \u001b[0mnon_full_backward_hooks\u001b[0m \u001b[1;33m=\u001b[0m \u001b[1;33m[\u001b[0m\u001b[1;33m]\u001b[0m\u001b[1;33m,\u001b[0m \u001b[1;33m[\u001b[0m\u001b[1;33m]\u001b[0m\u001b[1;33m\u001b[0m\u001b[1;33m\u001b[0m\u001b[0m\n",
      "\u001b[1;32mc:\\users\\fidel\\appdata\\local\\programs\\python\\python38\\lib\\site-packages\\stable_baselines3\\common\\policies.py\u001b[0m in \u001b[0;36mforward\u001b[1;34m(self, obs, deterministic)\u001b[0m\n\u001b[0;32m    590\u001b[0m         \u001b[1;31m# Evaluate the values for the given observations\u001b[0m\u001b[1;33m\u001b[0m\u001b[1;33m\u001b[0m\u001b[1;33m\u001b[0m\u001b[0m\n\u001b[0;32m    591\u001b[0m         \u001b[0mvalues\u001b[0m \u001b[1;33m=\u001b[0m \u001b[0mself\u001b[0m\u001b[1;33m.\u001b[0m\u001b[0mvalue_net\u001b[0m\u001b[1;33m(\u001b[0m\u001b[0mlatent_vf\u001b[0m\u001b[1;33m)\u001b[0m\u001b[1;33m\u001b[0m\u001b[1;33m\u001b[0m\u001b[0m\n\u001b[1;32m--> 592\u001b[1;33m         \u001b[0mdistribution\u001b[0m \u001b[1;33m=\u001b[0m \u001b[0mself\u001b[0m\u001b[1;33m.\u001b[0m\u001b[0m_get_action_dist_from_latent\u001b[0m\u001b[1;33m(\u001b[0m\u001b[0mlatent_pi\u001b[0m\u001b[1;33m)\u001b[0m\u001b[1;33m\u001b[0m\u001b[1;33m\u001b[0m\u001b[0m\n\u001b[0m\u001b[0;32m    593\u001b[0m         \u001b[0mactions\u001b[0m \u001b[1;33m=\u001b[0m \u001b[0mdistribution\u001b[0m\u001b[1;33m.\u001b[0m\u001b[0mget_actions\u001b[0m\u001b[1;33m(\u001b[0m\u001b[0mdeterministic\u001b[0m\u001b[1;33m=\u001b[0m\u001b[0mdeterministic\u001b[0m\u001b[1;33m)\u001b[0m\u001b[1;33m\u001b[0m\u001b[1;33m\u001b[0m\u001b[0m\n\u001b[0;32m    594\u001b[0m         \u001b[0mlog_prob\u001b[0m \u001b[1;33m=\u001b[0m \u001b[0mdistribution\u001b[0m\u001b[1;33m.\u001b[0m\u001b[0mlog_prob\u001b[0m\u001b[1;33m(\u001b[0m\u001b[0mactions\u001b[0m\u001b[1;33m)\u001b[0m\u001b[1;33m\u001b[0m\u001b[1;33m\u001b[0m\u001b[0m\n",
      "\u001b[1;32mc:\\users\\fidel\\appdata\\local\\programs\\python\\python38\\lib\\site-packages\\stable_baselines3\\common\\policies.py\u001b[0m in \u001b[0;36m_get_action_dist_from_latent\u001b[1;34m(self, latent_pi)\u001b[0m\n\u001b[0;32m    605\u001b[0m \u001b[1;33m\u001b[0m\u001b[0m\n\u001b[0;32m    606\u001b[0m         \u001b[1;32mif\u001b[0m \u001b[0misinstance\u001b[0m\u001b[1;33m(\u001b[0m\u001b[0mself\u001b[0m\u001b[1;33m.\u001b[0m\u001b[0maction_dist\u001b[0m\u001b[1;33m,\u001b[0m \u001b[0mDiagGaussianDistribution\u001b[0m\u001b[1;33m)\u001b[0m\u001b[1;33m:\u001b[0m\u001b[1;33m\u001b[0m\u001b[1;33m\u001b[0m\u001b[0m\n\u001b[1;32m--> 607\u001b[1;33m             \u001b[1;32mreturn\u001b[0m \u001b[0mself\u001b[0m\u001b[1;33m.\u001b[0m\u001b[0maction_dist\u001b[0m\u001b[1;33m.\u001b[0m\u001b[0mproba_distribution\u001b[0m\u001b[1;33m(\u001b[0m\u001b[0mmean_actions\u001b[0m\u001b[1;33m,\u001b[0m \u001b[0mself\u001b[0m\u001b[1;33m.\u001b[0m\u001b[0mlog_std\u001b[0m\u001b[1;33m)\u001b[0m\u001b[1;33m\u001b[0m\u001b[1;33m\u001b[0m\u001b[0m\n\u001b[0m\u001b[0;32m    608\u001b[0m         \u001b[1;32melif\u001b[0m \u001b[0misinstance\u001b[0m\u001b[1;33m(\u001b[0m\u001b[0mself\u001b[0m\u001b[1;33m.\u001b[0m\u001b[0maction_dist\u001b[0m\u001b[1;33m,\u001b[0m \u001b[0mCategoricalDistribution\u001b[0m\u001b[1;33m)\u001b[0m\u001b[1;33m:\u001b[0m\u001b[1;33m\u001b[0m\u001b[1;33m\u001b[0m\u001b[0m\n\u001b[0;32m    609\u001b[0m             \u001b[1;31m# Here mean_actions are the logits before the softmax\u001b[0m\u001b[1;33m\u001b[0m\u001b[1;33m\u001b[0m\u001b[1;33m\u001b[0m\u001b[0m\n",
      "\u001b[1;32mc:\\users\\fidel\\appdata\\local\\programs\\python\\python38\\lib\\site-packages\\stable_baselines3\\common\\distributions.py\u001b[0m in \u001b[0;36mproba_distribution\u001b[1;34m(self, mean_actions, log_std)\u001b[0m\n\u001b[0;32m    150\u001b[0m         \"\"\"\n\u001b[0;32m    151\u001b[0m         \u001b[0maction_std\u001b[0m \u001b[1;33m=\u001b[0m \u001b[0mth\u001b[0m\u001b[1;33m.\u001b[0m\u001b[0mones_like\u001b[0m\u001b[1;33m(\u001b[0m\u001b[0mmean_actions\u001b[0m\u001b[1;33m)\u001b[0m \u001b[1;33m*\u001b[0m \u001b[0mlog_std\u001b[0m\u001b[1;33m.\u001b[0m\u001b[0mexp\u001b[0m\u001b[1;33m(\u001b[0m\u001b[1;33m)\u001b[0m\u001b[1;33m\u001b[0m\u001b[1;33m\u001b[0m\u001b[0m\n\u001b[1;32m--> 152\u001b[1;33m         \u001b[0mself\u001b[0m\u001b[1;33m.\u001b[0m\u001b[0mdistribution\u001b[0m \u001b[1;33m=\u001b[0m \u001b[0mNormal\u001b[0m\u001b[1;33m(\u001b[0m\u001b[0mmean_actions\u001b[0m\u001b[1;33m,\u001b[0m \u001b[0maction_std\u001b[0m\u001b[1;33m)\u001b[0m\u001b[1;33m\u001b[0m\u001b[1;33m\u001b[0m\u001b[0m\n\u001b[0m\u001b[0;32m    153\u001b[0m         \u001b[1;32mreturn\u001b[0m \u001b[0mself\u001b[0m\u001b[1;33m\u001b[0m\u001b[1;33m\u001b[0m\u001b[0m\n\u001b[0;32m    154\u001b[0m \u001b[1;33m\u001b[0m\u001b[0m\n",
      "\u001b[1;32mc:\\users\\fidel\\appdata\\local\\programs\\python\\python38\\lib\\site-packages\\torch\\distributions\\normal.py\u001b[0m in \u001b[0;36m__init__\u001b[1;34m(self, loc, scale, validate_args)\u001b[0m\n\u001b[0;32m     48\u001b[0m         \u001b[1;32melse\u001b[0m\u001b[1;33m:\u001b[0m\u001b[1;33m\u001b[0m\u001b[1;33m\u001b[0m\u001b[0m\n\u001b[0;32m     49\u001b[0m             \u001b[0mbatch_shape\u001b[0m \u001b[1;33m=\u001b[0m \u001b[0mself\u001b[0m\u001b[1;33m.\u001b[0m\u001b[0mloc\u001b[0m\u001b[1;33m.\u001b[0m\u001b[0msize\u001b[0m\u001b[1;33m(\u001b[0m\u001b[1;33m)\u001b[0m\u001b[1;33m\u001b[0m\u001b[1;33m\u001b[0m\u001b[0m\n\u001b[1;32m---> 50\u001b[1;33m         \u001b[0msuper\u001b[0m\u001b[1;33m(\u001b[0m\u001b[0mNormal\u001b[0m\u001b[1;33m,\u001b[0m \u001b[0mself\u001b[0m\u001b[1;33m)\u001b[0m\u001b[1;33m.\u001b[0m\u001b[0m__init__\u001b[0m\u001b[1;33m(\u001b[0m\u001b[0mbatch_shape\u001b[0m\u001b[1;33m,\u001b[0m \u001b[0mvalidate_args\u001b[0m\u001b[1;33m=\u001b[0m\u001b[0mvalidate_args\u001b[0m\u001b[1;33m)\u001b[0m\u001b[1;33m\u001b[0m\u001b[1;33m\u001b[0m\u001b[0m\n\u001b[0m\u001b[0;32m     51\u001b[0m \u001b[1;33m\u001b[0m\u001b[0m\n\u001b[0;32m     52\u001b[0m     \u001b[1;32mdef\u001b[0m \u001b[0mexpand\u001b[0m\u001b[1;33m(\u001b[0m\u001b[0mself\u001b[0m\u001b[1;33m,\u001b[0m \u001b[0mbatch_shape\u001b[0m\u001b[1;33m,\u001b[0m \u001b[0m_instance\u001b[0m\u001b[1;33m=\u001b[0m\u001b[1;32mNone\u001b[0m\u001b[1;33m)\u001b[0m\u001b[1;33m:\u001b[0m\u001b[1;33m\u001b[0m\u001b[1;33m\u001b[0m\u001b[0m\n",
      "\u001b[1;32mc:\\users\\fidel\\appdata\\local\\programs\\python\\python38\\lib\\site-packages\\torch\\distributions\\distribution.py\u001b[0m in \u001b[0;36m__init__\u001b[1;34m(self, batch_shape, event_shape, validate_args)\u001b[0m\n\u001b[0;32m     53\u001b[0m                 \u001b[0mvalid\u001b[0m \u001b[1;33m=\u001b[0m \u001b[0mconstraint\u001b[0m\u001b[1;33m.\u001b[0m\u001b[0mcheck\u001b[0m\u001b[1;33m(\u001b[0m\u001b[0mvalue\u001b[0m\u001b[1;33m)\u001b[0m\u001b[1;33m\u001b[0m\u001b[1;33m\u001b[0m\u001b[0m\n\u001b[0;32m     54\u001b[0m                 \u001b[1;32mif\u001b[0m \u001b[1;32mnot\u001b[0m \u001b[0mvalid\u001b[0m\u001b[1;33m.\u001b[0m\u001b[0mall\u001b[0m\u001b[1;33m(\u001b[0m\u001b[1;33m)\u001b[0m\u001b[1;33m:\u001b[0m\u001b[1;33m\u001b[0m\u001b[1;33m\u001b[0m\u001b[0m\n\u001b[1;32m---> 55\u001b[1;33m                     raise ValueError(\n\u001b[0m\u001b[0;32m     56\u001b[0m                         \u001b[1;34mf\"Expected parameter {param} \"\u001b[0m\u001b[1;33m\u001b[0m\u001b[1;33m\u001b[0m\u001b[0m\n\u001b[0;32m     57\u001b[0m                         \u001b[1;34mf\"({type(value).__name__} of shape {tuple(value.shape)}) \"\u001b[0m\u001b[1;33m\u001b[0m\u001b[1;33m\u001b[0m\u001b[0m\n",
      "\u001b[1;31mValueError\u001b[0m: Expected parameter loc (Tensor of shape (1, 1)) of distribution Normal(loc: tensor([[nan]]), scale: tensor([[1.]])) to satisfy the constraint Real(), but found invalid values:\ntensor([[nan]])"
     ]
    }
   ],
   "source": [
    "%%time\n",
    "model = fit_rl(df_valid, agent_parameters)"
   ]
  },
  {
   "cell_type": "code",
   "execution_count": 21,
   "metadata": {},
   "outputs": [
    {
     "name": "stdout",
     "output_type": "stream",
     "text": [
      "Wall time: 40 s\n"
     ]
    }
   ],
   "source": [
    "%%time\n",
    "yhat = get_actions(df_valid, model).reshape(-1)"
   ]
  },
  {
   "cell_type": "code",
   "execution_count": 22,
   "metadata": {},
   "outputs": [
    {
     "data": {
      "text/plain": [
       "array([[1.        , 0.00390731],\n",
       "       [0.00390731, 1.        ]])"
      ]
     },
     "execution_count": 22,
     "metadata": {},
     "output_type": "execute_result"
    }
   ],
   "source": [
    "np.corrcoef(df_valid['target_return'].values, yhat)"
   ]
  },
  {
   "cell_type": "code",
   "execution_count": 23,
   "metadata": {},
   "outputs": [
    {
     "data": {
      "text/plain": [
       "array([[1.       , 0.7496184],\n",
       "       [0.7496184, 1.       ]])"
      ]
     },
     "execution_count": 23,
     "metadata": {},
     "output_type": "execute_result"
    }
   ],
   "source": [
    "np.corrcoef(df_valid['yhat'].values, yhat)"
   ]
  },
  {
   "cell_type": "code",
   "execution_count": 24,
   "metadata": {},
   "outputs": [
    {
     "data": {
      "text/plain": [
       "(134551, 5)"
      ]
     },
     "execution_count": 24,
     "metadata": {},
     "output_type": "execute_result"
    }
   ],
   "source": [
    "df_valid.shape"
   ]
  },
  {
   "cell_type": "code",
   "execution_count": 25,
   "metadata": {},
   "outputs": [
    {
     "data": {
      "text/plain": [
       "<matplotlib.collections.PathCollection at 0x16d2af0bc70>"
      ]
     },
     "execution_count": 25,
     "metadata": {},
     "output_type": "execute_result"
    },
    {
     "data": {
      "image/png": "[encoded data removed]",
      "text/plain": [
       "<Figure size 432x288 with 1 Axes>"
      ]
     },
     "metadata": {
      "needs_background": "dark"
     },
     "output_type": "display_data"
    }
   ],
   "source": [
    "plt.scatter(yhat, df_valid['yhat'].values, s = 0.2)"
   ]
  },
  {
   "cell_type": "code",
   "execution_count": 32,
   "metadata": {},
   "outputs": [],
   "source": [
    "df_valid.loc[:, 'pnl'] = yhat * df_valid['target_return']\n",
    "df_valid.loc[:, 'pnl_naive'] = np.mean(yhat) * df_valid['target_return']"
   ]
  },
  {
   "cell_type": "code",
   "execution_count": 33,
   "metadata": {},
   "outputs": [],
   "source": [
    "pnl = df_valid.groupby('date')['pnl'].sum()\n",
    "pnl_naive = df_valid.groupby('date')['pnl_naive'].sum()"
   ]
  },
  {
   "cell_type": "code",
   "execution_count": 34,
   "metadata": {},
   "outputs": [
    {
     "data": {
      "text/plain": [
       "<AxesSubplot:xlabel='date'>"
      ]
     },
     "execution_count": 34,
     "metadata": {},
     "output_type": "execute_result"
    },
    {
     "data": {
      "image/png": "[encoded data removed]",
      "text/plain": [
       "<Figure size 432x288 with 1 Axes>"
      ]
     },
     "metadata": {
      "needs_background": "dark"
     },
     "output_type": "display_data"
    }
   ],
   "source": [
    "pnl.cumsum().plot()\n",
    "pnl_naive.cumsum().plot()"
   ]
  },
  {
   "cell_type": "code",
   "execution_count": 35,
   "metadata": {},
   "outputs": [],
   "source": [
    "df_valid = df_test"
   ]
  },
  {
   "cell_type": "code",
   "execution_count": 36,
   "metadata": {},
   "outputs": [
    {
     "name": "stdout",
     "output_type": "stream",
     "text": [
      "Wall time: 1min 3s\n"
     ]
    }
   ],
   "source": [
    "%%time\n",
    "yhat = get_actions(df_valid, model).reshape(-1)"
   ]
  },
  {
   "cell_type": "code",
   "execution_count": 37,
   "metadata": {},
   "outputs": [
    {
     "data": {
      "text/plain": [
       "array([[1.        , 0.01157254],\n",
       "       [0.01157254, 1.        ]])"
      ]
     },
     "execution_count": 37,
     "metadata": {},
     "output_type": "execute_result"
    }
   ],
   "source": [
    "np.corrcoef(df_valid['target_return'].values, yhat)"
   ]
  },
  {
   "cell_type": "code",
   "execution_count": 38,
   "metadata": {},
   "outputs": [
    {
     "data": {
      "text/plain": [
       "array([[1.        , 0.73667683],\n",
       "       [0.73667683, 1.        ]])"
      ]
     },
     "execution_count": 38,
     "metadata": {},
     "output_type": "execute_result"
    }
   ],
   "source": [
    "np.corrcoef(df_valid['yhat'].values, yhat)"
   ]
  },
  {
   "cell_type": "code",
   "execution_count": 39,
   "metadata": {},
   "outputs": [
    {
     "data": {
      "text/plain": [
       "(200714, 5)"
      ]
     },
     "execution_count": 39,
     "metadata": {},
     "output_type": "execute_result"
    }
   ],
   "source": [
    "df_valid.shape"
   ]
  },
  {
   "cell_type": "code",
   "execution_count": 40,
   "metadata": {},
   "outputs": [
    {
     "data": {
      "text/plain": [
       "<matplotlib.collections.PathCollection at 0x16d28717340>"
      ]
     },
     "execution_count": 40,
     "metadata": {},
     "output_type": "execute_result"
    },
    {
     "data": {
      "image/png": "[encoded data removed]",
      "text/plain": [
       "<Figure size 432x288 with 1 Axes>"
      ]
     },
     "metadata": {
      "needs_background": "dark"
     },
     "output_type": "display_data"
    }
   ],
   "source": [
    "plt.scatter(yhat, df_valid['yhat'].values, s = 0.2)"
   ]
  },
  {
   "cell_type": "code",
   "execution_count": 41,
   "metadata": {},
   "outputs": [],
   "source": [
    "df_valid.loc[:, 'pnl'] = yhat * df_valid['target_return']\n",
    "df_valid.loc[:, 'pnl_naive'] = np.mean(yhat) * df_valid['target_return']"
   ]
  },
  {
   "cell_type": "code",
   "execution_count": 42,
   "metadata": {},
   "outputs": [],
   "source": [
    "pnl = df_valid.groupby('date')['pnl'].sum()\n",
    "pnl_naive = df_valid.groupby('date')['pnl_naive'].sum()"
   ]
  },
  {
   "cell_type": "code",
   "execution_count": 43,
   "metadata": {},
   "outputs": [
    {
     "data": {
      "text/plain": [
       "<AxesSubplot:xlabel='date'>"
      ]
     },
     "execution_count": 43,
     "metadata": {},
     "output_type": "execute_result"
    },
    {
     "data": {
      "image/png": "[encoded data removed]",
      "text/plain": [
       "<Figure size 432x288 with 1 Axes>"
      ]
     },
     "metadata": {
      "needs_background": "dark"
     },
     "output_type": "display_data"
    }
   ],
   "source": [
    "pnl.cumsum().plot()\n",
    "pnl_naive.cumsum().plot()"
   ]
  },
  {
   "cell_type": "code",
   "execution_count": 44,
   "metadata": {},
   "outputs": [
    {
     "data": {
      "text/plain": [
       "<AxesSubplot:xlabel='date'>"
      ]
     },
     "execution_count": 44,
     "metadata": {},
     "output_type": "execute_result"
    },
    {
     "data": {
      "image/png": "[encoded data removed]",
      "text/plain": [
       "<Figure size 432x288 with 1 Axes>"
      ]
     },
     "metadata": {
      "needs_background": "dark"
     },
     "output_type": "display_data"
    }
   ],
   "source": [
    "pnl.rolling(20).std().plot()"
   ]
  },
  {
   "cell_type": "code",
   "execution_count": 23,
   "metadata": {},
   "outputs": [
    {
     "data": {
      "text/plain": [
       "92.759"
      ]
     },
     "execution_count": 23,
     "metadata": {},
     "output_type": "execute_result"
    }
   ],
   "source": [
    "pnl_metric(y = df_valid['target_return'], yhat = yhat)"
   ]
  },
  {
   "cell_type": "code",
   "execution_count": 26,
   "metadata": {},
   "outputs": [
    {
     "data": {
      "text/plain": [
       "96.1021471619606"
      ]
     },
     "execution_count": 26,
     "metadata": {},
     "output_type": "execute_result"
    }
   ],
   "source": [
    "pnl_metric(y = df_valid['target_return'], yhat = 2*((df_valid['yhat'] > 0 )-0.5))"
   ]
  },
  {
   "cell_type": "code",
   "execution_count": null,
   "metadata": {},
   "outputs": [],
   "source": []
  }
 ],
 "metadata": {
  "kernelspec": {
   "display_name": "Python 3",
   "language": "python",
   "name": "python3"
  },
  "language_info": {
   "codemirror_mode": {
    "name": "ipython",
    "version": 3
   },
   "file_extension": ".py",
   "mimetype": "text/x-python",
   "name": "python",
   "nbconvert_exporter": "python",
   "pygments_lexer": "ipython3",
   "version": "3.8.5"
  }
 },
 "nbformat": 4,
 "nbformat_minor": 4
}
