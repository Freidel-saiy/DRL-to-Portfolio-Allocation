{
 "cells": [
  {
   "cell_type": "code",
   "execution_count": 1,
   "metadata": {},
   "outputs": [],
   "source": [
    "%load_ext autoreload\n",
    "%autoreload 2"
   ]
  },
  {
   "cell_type": "code",
   "execution_count": 178,
   "metadata": {},
   "outputs": [],
   "source": [
    "import pandas as pd\n",
    "import numpy as np\n",
    "import matplotlib.pyplot as plt\n",
    "plt.style.use('dark_background')\n",
    "%matplotlib inline\n",
    "from stable_baselines3 import PPO, A2C\n",
    "from IPython.display import clear_output\n",
    "\n",
    "import glob"
   ]
  },
  {
   "cell_type": "code",
   "execution_count": 179,
   "metadata": {},
   "outputs": [],
   "source": [
    "import sys\n",
    "sys.path.append(r\"C:\\Users\\fidel\\OneDrive\\Documentos\\Mestrado\\code\")\n",
    "from RL_trading_envs import StockWithVolHold\n"
   ]
  },
  {
   "cell_type": "code",
   "execution_count": 180,
   "metadata": {},
   "outputs": [],
   "source": [
    "def pnl_metric(y, yhat):\n",
    "    return sum(y * yhat)"
   ]
  },
  {
   "cell_type": "code",
   "execution_count": 181,
   "metadata": {},
   "outputs": [],
   "source": [
    "df = pd.read_pickle(r\"D:\\Datasets\\TwoSigmaDataSetBr_2022_03_04\\Papertrade_br\\models\\MlpVarianceSwap\\trained_model\\model_MlpVarianceSwap_2022-03-03\\df_test_mestrado.pkl\")\n",
    "\n",
    "df.loc[:, 'volatility'] = df.groupby('asset_identifier')['t_minus_1'].apply(lambda x: x.rolling(35).std())\n",
    "\n",
    "df                           = df[['asset_identifier', 'date', 'volatility', 'yhat', 'target']]\n",
    "df                           = df.rename(columns = {'target': 'target_return'})\n",
    "df.loc[:, 'realized_return'] = df.groupby(\"asset_identifier\")['target_return'].shift(1)\n",
    "\n",
    "df                           = df.dropna()\n",
    "df.loc[:, 'date'] = df['date'].factorize()[0]\n",
    "df.loc[:, 'asset_identifier'] = df['asset_identifier'].factorize()[0]\n",
    "\n",
    "df.sort_values('date', inplace = True)\n",
    "df.reset_index(drop = True, inplace = True)"
   ]
  },
  {
   "cell_type": "code",
   "execution_count": 182,
   "metadata": {},
   "outputs": [],
   "source": [
    "# df.query(\"asset_identifier < 10\", inplace = True)"
   ]
  },
  {
   "cell_type": "code",
   "execution_count": 183,
   "metadata": {},
   "outputs": [],
   "source": [
    "df_test  = df.query(\"date > 1400\").reset_index(drop = True)\n",
    "df_test.loc[:, 'date'] = df_test['date'].factorize()[0]"
   ]
  },
  {
   "cell_type": "code",
   "execution_count": 184,
   "metadata": {},
   "outputs": [],
   "source": [
    "df_valid = df.query(\"date < 1400\").reset_index(drop = True)\n",
    "df_valid.loc[:, 'date'] = df_valid['date'].factorize()[0]"
   ]
  },
  {
   "cell_type": "code",
   "execution_count": 185,
   "metadata": {},
   "outputs": [],
   "source": [
    "# assets = [0, 125, 169, 43, 46, 138, 140, 174, 50]\n",
    "assets = [169]\n",
    "df_valid.query(\"asset_identifier.isin(@assets) & date < 100\", inplace = True)\n",
    "# df_valid.loc[:, 'target_return'] = df_valid.loc[:, 'target_return'] - df_valid.loc[:, 'target_return'].mean()\n",
    "df_valid.reset_index(drop = True, inplace = True)"
   ]
  },
  {
   "cell_type": "code",
   "execution_count": 186,
   "metadata": {},
   "outputs": [
    {
     "data": {
      "text/html": [
       "<div>\n",
       "<style scoped>\n",
       "    .dataframe tbody tr th:only-of-type {\n",
       "        vertical-align: middle;\n",
       "    }\n",
       "\n",
       "    .dataframe tbody tr th {\n",
       "        vertical-align: top;\n",
       "    }\n",
       "\n",
       "    .dataframe thead th {\n",
       "        text-align: right;\n",
       "    }\n",
       "</style>\n",
       "<table border=\"1\" class=\"dataframe\">\n",
       "  <thead>\n",
       "    <tr style=\"text-align: right;\">\n",
       "      <th></th>\n",
       "      <th>yhat</th>\n",
       "      <th>target_return</th>\n",
       "    </tr>\n",
       "  </thead>\n",
       "  <tbody>\n",
       "    <tr>\n",
       "      <th>yhat</th>\n",
       "      <td>1.000000</td>\n",
       "      <td>0.083807</td>\n",
       "    </tr>\n",
       "    <tr>\n",
       "      <th>target_return</th>\n",
       "      <td>0.083807</td>\n",
       "      <td>1.000000</td>\n",
       "    </tr>\n",
       "  </tbody>\n",
       "</table>\n",
       "</div>"
      ],
      "text/plain": [
       "                   yhat  target_return\n",
       "yhat           1.000000       0.083807\n",
       "target_return  0.083807       1.000000"
      ]
     },
     "execution_count": 186,
     "metadata": {},
     "output_type": "execute_result"
    }
   ],
   "source": [
    "df_valid[['yhat', 'target_return']].corr()"
   ]
  },
  {
   "cell_type": "code",
   "execution_count": 187,
   "metadata": {},
   "outputs": [
    {
     "data": {
      "text/html": [
       "<div>\n",
       "<style scoped>\n",
       "    .dataframe tbody tr th:only-of-type {\n",
       "        vertical-align: middle;\n",
       "    }\n",
       "\n",
       "    .dataframe tbody tr th {\n",
       "        vertical-align: top;\n",
       "    }\n",
       "\n",
       "    .dataframe thead th {\n",
       "        text-align: right;\n",
       "    }\n",
       "</style>\n",
       "<table border=\"1\" class=\"dataframe\">\n",
       "  <thead>\n",
       "    <tr style=\"text-align: right;\">\n",
       "      <th></th>\n",
       "      <th>yhat</th>\n",
       "      <th>target_return</th>\n",
       "    </tr>\n",
       "  </thead>\n",
       "  <tbody>\n",
       "    <tr>\n",
       "      <th>yhat</th>\n",
       "      <td>1.000000</td>\n",
       "      <td>0.028055</td>\n",
       "    </tr>\n",
       "    <tr>\n",
       "      <th>target_return</th>\n",
       "      <td>0.028055</td>\n",
       "      <td>1.000000</td>\n",
       "    </tr>\n",
       "  </tbody>\n",
       "</table>\n",
       "</div>"
      ],
      "text/plain": [
       "                   yhat  target_return\n",
       "yhat           1.000000       0.028055\n",
       "target_return  0.028055       1.000000"
      ]
     },
     "execution_count": 187,
     "metadata": {},
     "output_type": "execute_result"
    }
   ],
   "source": [
    "df_test[['yhat', 'target_return']].corr()"
   ]
  },
  {
   "cell_type": "code",
   "execution_count": 188,
   "metadata": {},
   "outputs": [],
   "source": [
    "# df_valid.loc[:, 'yhat'] = df_valid['target_return']\n",
    "# df_valid['yhat'] = df_valid['yhat'] * 0.000467/ df_valid['yhat'].std()"
   ]
  },
  {
   "cell_type": "code",
   "execution_count": 189,
   "metadata": {},
   "outputs": [
    {
     "data": {
      "text/plain": [
       "asset_identifier     0.000000\n",
       "date                29.011492\n",
       "volatility           0.001193\n",
       "yhat                 0.000381\n",
       "target_return        0.015436\n",
       "realized_return      0.015410\n",
       "dtype: float64"
      ]
     },
     "execution_count": 189,
     "metadata": {},
     "output_type": "execute_result"
    }
   ],
   "source": [
    "df_valid.std(numeric_only = True)"
   ]
  },
  {
   "cell_type": "code",
   "execution_count": 190,
   "metadata": {},
   "outputs": [],
   "source": [
    "def get_actions_notionals(df_valid, model):\n",
    "    env = StockWithVolHold(df_valid)\n",
    "    done = False\n",
    "    obs = env.reset()\n",
    "    list_hidden_state = []\n",
    "    list_actions = []\n",
    "    day = 0\n",
    "    while not done:#not done:\n",
    "        action, _ = model.predict(obs, deterministic = True)\n",
    "        obs, reward, done, hidden_state = env.step(action)\n",
    "        if hidden_state:\n",
    "            features = env.state_to_features(True)\n",
    "            hidden_state = pd.DataFrame(hidden_state).T.reset_index()\n",
    "            hidden_state.columns = ['asset_identifier', 'notional', 'vol']\n",
    "            hidden_state.loc[:, 'date'] = day\n",
    "            hidden_state.loc[:, 'available_notional'] = features['available_notional']\n",
    "            day += 1\n",
    "            list_hidden_state.append(hidden_state)\n",
    "        list_actions.append(action.item())\n",
    "    hidden_state = pd.concat(list_hidden_state)\n",
    "    return list_actions, hidden_state, env"
   ]
  },
  {
   "cell_type": "code",
   "execution_count": 191,
   "metadata": {},
   "outputs": [],
   "source": [
    "def get_log_name(logdir):\n",
    "    folders = glob.glob(logdir + '/*')\n",
    "    ppo_names = [folder.split('\\\\')[-1] for folder in folders]\n",
    "    ppo_index = [int(name.split('_')[-2]) for name in ppo_names if 'PPO' in name]\n",
    "    ppo_index = max(ppo_index) + 1\n",
    "    tb_log_name = 'PPO_' + str(ppo_index)\n",
    "    return tb_log_name\n"
   ]
  },
  {
   "cell_type": "code",
   "execution_count": 192,
   "metadata": {},
   "outputs": [],
   "source": [
    "# agent_parameters = dict(learning_rate=0.0003,\n",
    "#                         n_steps=2048,\n",
    "#                         batch_size=64,\n",
    "#                         n_epochs=10)\n",
    "agent_parameters = dict(n_steps=100)\n",
    "# agent_parameters = {}\n",
    "def fit_rl_ppo(df_valid, agent_parameters):\n",
    "    logdir = r\"C:\\Users\\fidel\\OneDrive\\Documentos\\Mestrado\\code\\notebooks\\log_dir\"\n",
    "    env   = StockWithVolHold(df_valid)\n",
    "    model = PPO('MlpPolicy', env, verbose=0, tensorboard_log = logdir, **agent_parameters)\n",
    "    list_results = []\n",
    "    tb_log_name = get_log_name(logdir)\n",
    "    for i in range(10):\n",
    "        clear_output(wait=True)\n",
    "        model.learn(total_timesteps=len(df_valid),\n",
    "                    reset_num_timesteps = False,\n",
    "                    tb_log_name = tb_log_name)\n",
    "        model.save(f'models_save/model_{tb_log_name}')\n",
    "        print(i)\n",
    "    return model\n",
    "\n",
    "def fit_rl_a2c(df_valid, agent_parameters):\n",
    "    logdir = r\"C:\\Users\\fidel\\OneDrive\\Documentos\\Mestrado\\code\\notebooks\\log_dir\"\n",
    "    env   = StockWithVolHold(df_valid)\n",
    "    model = A2C('MlpPolicy', env, verbose=0, tensorboard_log = logdir, **agent_parameters)\n",
    "    list_results = []\n",
    "    for i in range(48):\n",
    "        clear_output(wait=True)\n",
    "        model.learn(total_timesteps=len(df_valid), reset_num_timesteps = False, tb_log_name = 'A2C')\n",
    "        model.save(f'models_save/model_a2c_{i}')\n",
    "        print(i)\n",
    "    return model"
   ]
  },
  {
   "cell_type": "code",
   "execution_count": 193,
   "metadata": {},
   "outputs": [],
   "source": [
    "%matplotlib inline"
   ]
  },
  {
   "cell_type": "code",
   "execution_count": 194,
   "metadata": {
    "scrolled": true
   },
   "outputs": [
    {
     "name": "stdout",
     "output_type": "stream",
     "text": [
      "NEW DAY: 1\n",
      "NEW DAY: 2\n",
      "NEW DAY: 3\n",
      "NEW DAY: 4\n",
      "NEW DAY: 5\n",
      "NEW DAY: 6\n",
      "NEW DAY: 7\n",
      "NEW DAY: 8\n",
      "NEW DAY: 9\n",
      "NEW DAY: 10\n",
      "NEW DAY: 11\n",
      "NEW DAY: 12\n",
      "NEW DAY: 13\n",
      "NEW DAY: 14\n",
      "NEW DAY: 15\n",
      "NEW DAY: 16\n",
      "NEW DAY: 17\n",
      "NEW DAY: 18\n",
      "NEW DAY: 19\n",
      "NEW DAY: 20\n",
      "NEW DAY: 21\n",
      "NEW DAY: 22\n",
      "NEW DAY: 23\n",
      "NEW DAY: 24\n",
      "NEW DAY: 25\n",
      "NEW DAY: 26\n",
      "NEW DAY: 27\n",
      "NEW DAY: 28\n",
      "NEW DAY: 29\n",
      "NEW DAY: 30\n",
      "NEW DAY: 31\n",
      "NEW DAY: 32\n",
      "NEW DAY: 33\n",
      "NEW DAY: 34\n",
      "NEW DAY: 35\n",
      "NEW DAY: 36\n",
      "NEW DAY: 37\n",
      "NEW DAY: 38\n",
      "NEW DAY: 39\n",
      "NEW DAY: 40\n",
      "NEW DAY: 41\n",
      "NEW DAY: 42\n",
      "NEW DAY: 43\n",
      "NEW DAY: 44\n",
      "NEW DAY: 45\n",
      "NEW DAY: 46\n",
      "NEW DAY: 47\n",
      "NEW DAY: 48\n",
      "NEW DAY: 49\n",
      "NEW DAY: 50\n",
      "NEW DAY: 51\n",
      "NEW DAY: 52\n",
      "NEW DAY: 53\n",
      "NEW DAY: 54\n",
      "NEW DAY: 55\n",
      "NEW DAY: 56\n",
      "NEW DAY: 57\n",
      "NEW DAY: 58\n",
      "NEW DAY: 59\n",
      "NEW DAY: 60\n",
      "NEW DAY: 61\n",
      "NEW DAY: 62\n",
      "NEW DAY: 63\n",
      "NEW DAY: 64\n",
      "NEW DAY: 65\n",
      "NEW DAY: 66\n",
      "NEW DAY: 67\n",
      "NEW DAY: 68\n",
      "NEW DAY: 69\n",
      "NEW DAY: 70\n",
      "NEW DAY: 71\n",
      "NEW DAY: 72\n",
      "NEW DAY: 73\n",
      "NEW DAY: 74\n",
      "NEW DAY: 75\n",
      "NEW DAY: 76\n",
      "NEW DAY: 77\n",
      "NEW DAY: 78\n",
      "NEW DAY: 79\n",
      "NEW DAY: 80\n",
      "NEW DAY: 81\n",
      "NEW DAY: 82\n",
      "NEW DAY: 83\n",
      "NEW DAY: 84\n",
      "NEW DAY: 85\n",
      "NEW DAY: 86\n",
      "NEW DAY: 87\n",
      "NEW DAY: 88\n",
      "NEW DAY: 89\n",
      "NEW DAY: 90\n",
      "NEW DAY: 91\n",
      "NEW DAY: 92\n",
      "NEW DAY: 93\n",
      "NEW DAY: 94\n",
      "NEW DAY: 95\n",
      "NEW DAY: 96\n",
      "NEW DAY: 97\n",
      "NEW DAY: 98\n",
      "NEW DAY: 99\n",
      "9\n",
      "Wall time: 14 s\n"
     ]
    }
   ],
   "source": [
    "%%time\n",
    "model = fit_rl_ppo(df_valid, agent_parameters)"
   ]
  },
  {
   "cell_type": "code",
   "execution_count": 195,
   "metadata": {
    "scrolled": true
   },
   "outputs": [],
   "source": [
    "# %%time\n",
    "# model = fit_rl_a2c(df_valid, agent_parameters)"
   ]
  },
  {
   "cell_type": "code",
   "execution_count": 196,
   "metadata": {},
   "outputs": [],
   "source": [
    "# df_valid = df_test"
   ]
  },
  {
   "cell_type": "code",
   "execution_count": 197,
   "metadata": {},
   "outputs": [],
   "source": [
    "# env = StockWithVolHold(df_valid)\n",
    "# model = PPO.load('models_save/model_ppo_200', env)"
   ]
  },
  {
   "cell_type": "code",
   "execution_count": 198,
   "metadata": {
    "scrolled": true
   },
   "outputs": [],
   "source": [
    "def evaluate_df_model(df_valid, model):\n",
    "    #Run simulation on df_valid\n",
    "    list_actions, hidden_state, env = get_actions_notionals(df_valid, model)\n",
    "    clear_output(wait = True)\n",
    "    sum_rewards = np.sum(env.rewards_memory)\n",
    "    #Check correlation between actions and alocations with yhat\n",
    "    df_valid.loc[:, 'action'] = list_actions\n",
    "    df_merge = df_valid.merge(hidden_state, on = ['asset_identifier', 'date'])\n",
    "    action_corr = df_merge[['action', 'yhat']].corr().iloc[0, 1]\n",
    "    notional_corr = df_merge[['notional', 'yhat']].corr().iloc[0, 1]\n",
    "    print(\"-- ** -- ** -- **\")\n",
    "    print(\"action correlation with yhat:   \" + str(action_corr))\n",
    "    print(\"notional correlation with yhat: \" + str(notional_corr))\n",
    "    print(\"-- ** -- ** -- **\")\n",
    "    #Plot action distribution\n",
    "    plt.figure()\n",
    "    plt.hist(list_actions)\n",
    "    plt.xlabel(\"action\")\n",
    "    plt.title(\"action distribution\")\n",
    "    #Plot pnl performance\n",
    "    plt.figure()\n",
    "    df_merge.loc[:, 'average_notional'] = df_merge['notional'].abs().mean()\n",
    "    df_merge.eval(\"pnl = notional * target_return\", inplace = True)\n",
    "    df_merge.eval(\"pnl_average = average_notional * target_return\", inplace = True)\n",
    "    df_merge.groupby('date')['pnl'].sum().cumsum().plot(label = 'agent_performance')\n",
    "    df_merge.groupby('date')['pnl_average'].sum().cumsum().plot()\n",
    "    plt.legend()\n",
    "    plt.grid()\n",
    "    #Plot notional\n",
    "    plt.figure()\n",
    "    df_merge.groupby('date')['notional'].apply(lambda x: x.abs().sum()).plot(label = 'notional gross')\n",
    "    df_merge.groupby('date')['notional'].apply(lambda x: x.sum()).plot(label = 'notional net')\n",
    "    plt.legend()\n",
    "    plt.grid()\n",
    "    #Plot volatility\n",
    "    df_merge.eval(\"variance = (notional * vol)**2\", inplace = True)\n",
    "    port_var = df_merge.groupby('date')['variance'].sum()\n",
    "    port_vol = port_var**0.5\n",
    "    df_merge.eval(\"average_variance = (average_notional * vol)**2\", inplace = True)\n",
    "    average_var = df_merge.groupby('date')['average_variance'].sum()\n",
    "    average_vol = average_var**0.5\n",
    "    plt.figure()\n",
    "    plt.plot(port_vol, label = 'portfolio volatility')\n",
    "    plt.plot(average_vol, label = 'equal weight volatility')\n",
    "    plt.legend()\n",
    "    plt.grid()\n",
    "    return df_merge"
   ]
  },
  {
   "cell_type": "code",
   "execution_count": 199,
   "metadata": {},
   "outputs": [
    {
     "data": {
      "image/png": "[encoded data removed]",
      "text/plain": [
       "<Figure size 432x288 with 1 Axes>"
      ]
     },
     "metadata": {
      "needs_background": "dark"
     },
     "output_type": "display_data"
    }
   ],
   "source": [
    "%matplotlib inline\n",
    "df_valid.groupby('date')['target_return'].sum().cumsum().plot()\n",
    "plt.grid()"
   ]
  },
  {
   "cell_type": "code",
   "execution_count": 176,
   "metadata": {},
   "outputs": [
    {
     "data": {
      "text/plain": [
       "0.10665363"
      ]
     },
     "execution_count": 176,
     "metadata": {},
     "output_type": "execute_result"
    }
   ],
   "source": [
    "df_valid['target_return'].sum()"
   ]
  },
  {
   "cell_type": "code",
   "execution_count": 177,
   "metadata": {
    "scrolled": true
   },
   "outputs": [
    {
     "name": "stdout",
     "output_type": "stream",
     "text": [
      "-- ** -- ** -- **\n",
      "action correlation with yhat:   0.6439893910098491\n",
      "notional correlation with yhat: -0.41731960215224617\n",
      "-- ** -- ** -- **\n",
      "Wall time: 2.58 s\n"
     ]
    },
    {
     "data": {
      "image/png": "[encoded data removed]",
      "text/plain": [
       "<Figure size 432x288 with 1 Axes>"
      ]
     },
     "metadata": {
      "needs_background": "dark"
     },
     "output_type": "display_data"
    },
    {
     "data": {
      "image/png": "[encoded data removed]",
      "text/plain": [
       "<Figure size 432x288 with 1 Axes>"
      ]
     },
     "metadata": {
      "needs_background": "dark"
     },
     "output_type": "display_data"
    },
    {
     "data": {
      "image/png": "[encoded data removed]",
      "text/plain": [
       "<Figure size 432x288 with 1 Axes>"
      ]
     },
     "metadata": {
      "needs_background": "dark"
     },
     "output_type": "display_data"
    },
    {
     "data": {
      "image/png": "[encoded data removed]",
      "text/plain": [
       "<Figure size 432x288 with 1 Axes>"
      ]
     },
     "metadata": {
      "needs_background": "dark"
     },
     "output_type": "display_data"
    }
   ],
   "source": [
    "%%time\n",
    "df_results = evaluate_df_model(df_valid, model)"
   ]
  },
  {
   "cell_type": "code",
   "execution_count": 104,
   "metadata": {
    "collapsed": true,
    "jupyter": {
     "outputs_hidden": true
    },
    "scrolled": true
   },
   "outputs": [
    {
     "name": "stdout",
     "output_type": "stream",
     "text": [
      "NEW DAY: 1\n",
      "NEW DAY: 2\n",
      "NEW DAY: 3\n",
      "NEW DAY: 4\n",
      "NEW DAY: 5\n"
     ]
    },
    {
     "ename": "KeyboardInterrupt",
     "evalue": "",
     "output_type": "error",
     "traceback": [
      "\u001b[1;31m---------------------------------------------------------------------------\u001b[0m",
      "\u001b[1;31mKeyboardInterrupt\u001b[0m                         Traceback (most recent call last)",
      "\u001b[1;32m<timed eval>\u001b[0m in \u001b[0;36m<module>\u001b[1;34m\u001b[0m\n",
      "\u001b[1;32m<ipython-input-101-7ddee1a94afb>\u001b[0m in \u001b[0;36mevaluate_df_model\u001b[1;34m(df_valid, model)\u001b[0m\n\u001b[0;32m      1\u001b[0m \u001b[1;32mdef\u001b[0m \u001b[0mevaluate_df_model\u001b[0m\u001b[1;33m(\u001b[0m\u001b[0mdf_valid\u001b[0m\u001b[1;33m,\u001b[0m \u001b[0mmodel\u001b[0m\u001b[1;33m)\u001b[0m\u001b[1;33m:\u001b[0m\u001b[1;33m\u001b[0m\u001b[1;33m\u001b[0m\u001b[0m\n\u001b[0;32m      2\u001b[0m     \u001b[1;31m#Run simulation on df_valid\u001b[0m\u001b[1;33m\u001b[0m\u001b[1;33m\u001b[0m\u001b[1;33m\u001b[0m\u001b[0m\n\u001b[1;32m----> 3\u001b[1;33m     \u001b[0mlist_actions\u001b[0m\u001b[1;33m,\u001b[0m \u001b[0mhidden_state\u001b[0m\u001b[1;33m,\u001b[0m \u001b[0menv\u001b[0m \u001b[1;33m=\u001b[0m \u001b[0mget_actions_notionals\u001b[0m\u001b[1;33m(\u001b[0m\u001b[0mdf_valid\u001b[0m\u001b[1;33m,\u001b[0m \u001b[0mmodel\u001b[0m\u001b[1;33m)\u001b[0m\u001b[1;33m\u001b[0m\u001b[1;33m\u001b[0m\u001b[0m\n\u001b[0m\u001b[0;32m      4\u001b[0m     \u001b[0mclear_output\u001b[0m\u001b[1;33m(\u001b[0m\u001b[0mwait\u001b[0m \u001b[1;33m=\u001b[0m \u001b[1;32mTrue\u001b[0m\u001b[1;33m)\u001b[0m\u001b[1;33m\u001b[0m\u001b[1;33m\u001b[0m\u001b[0m\n\u001b[0;32m      5\u001b[0m     \u001b[0msum_rewards\u001b[0m \u001b[1;33m=\u001b[0m \u001b[0mnp\u001b[0m\u001b[1;33m.\u001b[0m\u001b[0msum\u001b[0m\u001b[1;33m(\u001b[0m\u001b[0menv\u001b[0m\u001b[1;33m.\u001b[0m\u001b[0mrewards_memory\u001b[0m\u001b[1;33m)\u001b[0m\u001b[1;33m\u001b[0m\u001b[1;33m\u001b[0m\u001b[0m\n",
      "\u001b[1;32m<ipython-input-94-6c57d32f730a>\u001b[0m in \u001b[0;36mget_actions_notionals\u001b[1;34m(df_valid, model)\u001b[0m\n\u001b[0;32m      8\u001b[0m     \u001b[1;32mwhile\u001b[0m \u001b[1;32mnot\u001b[0m \u001b[0mdone\u001b[0m\u001b[1;33m:\u001b[0m\u001b[1;31m#not done:\u001b[0m\u001b[1;33m\u001b[0m\u001b[1;33m\u001b[0m\u001b[0m\n\u001b[0;32m      9\u001b[0m         \u001b[0maction\u001b[0m\u001b[1;33m,\u001b[0m \u001b[0m_\u001b[0m \u001b[1;33m=\u001b[0m \u001b[0mmodel\u001b[0m\u001b[1;33m.\u001b[0m\u001b[0mpredict\u001b[0m\u001b[1;33m(\u001b[0m\u001b[0mobs\u001b[0m\u001b[1;33m,\u001b[0m \u001b[0mdeterministic\u001b[0m \u001b[1;33m=\u001b[0m \u001b[1;32mTrue\u001b[0m\u001b[1;33m)\u001b[0m\u001b[1;33m\u001b[0m\u001b[1;33m\u001b[0m\u001b[0m\n\u001b[1;32m---> 10\u001b[1;33m         \u001b[0mobs\u001b[0m\u001b[1;33m,\u001b[0m \u001b[0mreward\u001b[0m\u001b[1;33m,\u001b[0m \u001b[0mdone\u001b[0m\u001b[1;33m,\u001b[0m \u001b[0mhidden_state\u001b[0m \u001b[1;33m=\u001b[0m \u001b[0menv\u001b[0m\u001b[1;33m.\u001b[0m\u001b[0mstep\u001b[0m\u001b[1;33m(\u001b[0m\u001b[0maction\u001b[0m\u001b[1;33m)\u001b[0m\u001b[1;33m\u001b[0m\u001b[1;33m\u001b[0m\u001b[0m\n\u001b[0m\u001b[0;32m     11\u001b[0m         \u001b[1;32mif\u001b[0m \u001b[0mhidden_state\u001b[0m\u001b[1;33m:\u001b[0m\u001b[1;33m\u001b[0m\u001b[1;33m\u001b[0m\u001b[0m\n\u001b[0;32m     12\u001b[0m             \u001b[0mfeatures\u001b[0m \u001b[1;33m=\u001b[0m \u001b[0menv\u001b[0m\u001b[1;33m.\u001b[0m\u001b[0mstate_to_features\u001b[0m\u001b[1;33m(\u001b[0m\u001b[1;32mTrue\u001b[0m\u001b[1;33m)\u001b[0m\u001b[1;33m\u001b[0m\u001b[1;33m\u001b[0m\u001b[0m\n",
      "\u001b[1;32m~\\OneDrive\\Documentos\\Mestrado\\code\\RL_trading_envs.py\u001b[0m in \u001b[0;36mstep\u001b[1;34m(self, action)\u001b[0m\n\u001b[0;32m    480\u001b[0m             \u001b[0mself\u001b[0m\u001b[1;33m.\u001b[0m\u001b[0mrewards_memory\u001b[0m\u001b[1;33m.\u001b[0m\u001b[0mappend\u001b[0m\u001b[1;33m(\u001b[0m\u001b[0mself\u001b[0m\u001b[1;33m.\u001b[0m\u001b[0mreward\u001b[0m\u001b[1;33m)\u001b[0m\u001b[1;33m\u001b[0m\u001b[1;33m\u001b[0m\u001b[0m\n\u001b[0;32m    481\u001b[0m             \u001b[1;31m#load next state\u001b[0m\u001b[1;33m\u001b[0m\u001b[1;33m\u001b[0m\u001b[1;33m\u001b[0m\u001b[0m\n\u001b[1;32m--> 482\u001b[1;33m             \u001b[0mdebug_new_day\u001b[0m \u001b[1;33m=\u001b[0m \u001b[0mself\u001b[0m\u001b[1;33m.\u001b[0m\u001b[0mupdate_state\u001b[0m\u001b[1;33m(\u001b[0m\u001b[0maction\u001b[0m\u001b[1;33m)\u001b[0m\u001b[1;33m\u001b[0m\u001b[1;33m\u001b[0m\u001b[0m\n\u001b[0m\u001b[0;32m    483\u001b[0m         \u001b[1;32melse\u001b[0m\u001b[1;33m:\u001b[0m\u001b[1;33m\u001b[0m\u001b[1;33m\u001b[0m\u001b[0m\n\u001b[0;32m    484\u001b[0m             \u001b[1;32mif\u001b[0m \u001b[0mself\u001b[0m\u001b[1;33m.\u001b[0m\u001b[0mverbose\u001b[0m\u001b[1;33m:\u001b[0m\u001b[1;33m\u001b[0m\u001b[1;33m\u001b[0m\u001b[0m\n",
      "\u001b[1;32m~\\OneDrive\\Documentos\\Mestrado\\code\\RL_trading_envs.py\u001b[0m in \u001b[0;36mupdate_state\u001b[1;34m(self, action)\u001b[0m\n\u001b[0;32m    632\u001b[0m                 \u001b[0mprint\u001b[0m\u001b[1;33m(\u001b[0m\u001b[1;34mf'NEW DAY: {day}'\u001b[0m\u001b[1;33m)\u001b[0m\u001b[1;33m\u001b[0m\u001b[1;33m\u001b[0m\u001b[0m\n\u001b[0;32m    633\u001b[0m                 \u001b[0mself\u001b[0m\u001b[1;33m.\u001b[0m\u001b[0mday\u001b[0m \u001b[1;33m=\u001b[0m \u001b[0mday\u001b[0m\u001b[1;33m\u001b[0m\u001b[1;33m\u001b[0m\u001b[0m\n\u001b[1;32m--> 634\u001b[1;33m                 \u001b[0mportfolio_volatility\u001b[0m\u001b[1;33m,\u001b[0m \u001b[0mavailable_notional\u001b[0m \u001b[1;33m=\u001b[0m \u001b[0mself\u001b[0m\u001b[1;33m.\u001b[0m\u001b[0mupdate_hidden_state_new_day\u001b[0m\u001b[1;33m(\u001b[0m\u001b[1;33m)\u001b[0m\u001b[1;33m\u001b[0m\u001b[1;33m\u001b[0m\u001b[0m\n\u001b[0m\u001b[0;32m    635\u001b[0m                 \u001b[1;31m# self.reorder_df_by_absolute_notional()\u001b[0m\u001b[1;33m\u001b[0m\u001b[1;33m\u001b[0m\u001b[1;33m\u001b[0m\u001b[0m\n\u001b[0;32m    636\u001b[0m             \u001b[1;32mif\u001b[0m \u001b[0mself\u001b[0m\u001b[1;33m.\u001b[0m\u001b[0mrl_timestamp\u001b[0m \u001b[1;33m+\u001b[0m \u001b[1;36m1\u001b[0m \u001b[1;33m<\u001b[0m \u001b[0mlen\u001b[0m\u001b[1;33m(\u001b[0m\u001b[0mself\u001b[0m\u001b[1;33m.\u001b[0m\u001b[0mdf\u001b[0m\u001b[1;33m)\u001b[0m\u001b[1;33m:\u001b[0m\u001b[1;33m\u001b[0m\u001b[1;33m\u001b[0m\u001b[0m\n",
      "\u001b[1;32m~\\OneDrive\\Documentos\\Mestrado\\code\\RL_trading_envs.py\u001b[0m in \u001b[0;36mupdate_hidden_state_new_day\u001b[1;34m(self)\u001b[0m\n\u001b[0;32m    547\u001b[0m                 \u001b[1;31m#Get new information for the given stock\u001b[0m\u001b[1;33m\u001b[0m\u001b[1;33m\u001b[0m\u001b[1;33m\u001b[0m\u001b[0m\n\u001b[0;32m    548\u001b[0m                 \u001b[0mdate\u001b[0m \u001b[1;33m=\u001b[0m \u001b[0mself\u001b[0m\u001b[1;33m.\u001b[0m\u001b[0mdf\u001b[0m\u001b[1;33m.\u001b[0m\u001b[0mloc\u001b[0m\u001b[1;33m[\u001b[0m\u001b[0mself\u001b[0m\u001b[1;33m.\u001b[0m\u001b[0mrl_timestamp\u001b[0m\u001b[1;33m,\u001b[0m \u001b[1;34m'date'\u001b[0m\u001b[1;33m]\u001b[0m\u001b[1;33m\u001b[0m\u001b[1;33m\u001b[0m\u001b[0m\n\u001b[1;32m--> 549\u001b[1;33m                 \u001b[0mdata\u001b[0m \u001b[1;33m=\u001b[0m \u001b[0mself\u001b[0m\u001b[1;33m.\u001b[0m\u001b[0mdf\u001b[0m\u001b[1;33m.\u001b[0m\u001b[0mquery\u001b[0m\u001b[1;33m(\u001b[0m\u001b[1;34m\"date == @date\"\u001b[0m\u001b[1;33m)\u001b[0m\u001b[1;33m.\u001b[0m\u001b[0mquery\u001b[0m\u001b[1;33m(\u001b[0m\u001b[1;34m\"asset_identifier == @stock\"\u001b[0m\u001b[1;33m)\u001b[0m\u001b[1;33m\u001b[0m\u001b[1;33m\u001b[0m\u001b[0m\n\u001b[0m\u001b[0;32m    550\u001b[0m                 \u001b[1;32mif\u001b[0m \u001b[0mdata\u001b[0m\u001b[1;33m.\u001b[0m\u001b[0mempty\u001b[0m\u001b[1;33m:\u001b[0m\u001b[1;33m\u001b[0m\u001b[1;33m\u001b[0m\u001b[0m\n\u001b[0;32m    551\u001b[0m                     \u001b[1;31m#Update the hidden state\u001b[0m\u001b[1;33m\u001b[0m\u001b[1;33m\u001b[0m\u001b[1;33m\u001b[0m\u001b[0m\n",
      "\u001b[1;32mc:\\users\\fidel\\appdata\\local\\programs\\python\\python38\\lib\\site-packages\\pandas\\core\\frame.py\u001b[0m in \u001b[0;36mquery\u001b[1;34m(self, expr, inplace, **kwargs)\u001b[0m\n\u001b[0;32m   3336\u001b[0m         \u001b[0mkwargs\u001b[0m\u001b[1;33m[\u001b[0m\u001b[1;34m\"level\"\u001b[0m\u001b[1;33m]\u001b[0m \u001b[1;33m=\u001b[0m \u001b[0mkwargs\u001b[0m\u001b[1;33m.\u001b[0m\u001b[0mpop\u001b[0m\u001b[1;33m(\u001b[0m\u001b[1;34m\"level\"\u001b[0m\u001b[1;33m,\u001b[0m \u001b[1;36m0\u001b[0m\u001b[1;33m)\u001b[0m \u001b[1;33m+\u001b[0m \u001b[1;36m1\u001b[0m\u001b[1;33m\u001b[0m\u001b[1;33m\u001b[0m\u001b[0m\n\u001b[0;32m   3337\u001b[0m         \u001b[0mkwargs\u001b[0m\u001b[1;33m[\u001b[0m\u001b[1;34m\"target\"\u001b[0m\u001b[1;33m]\u001b[0m \u001b[1;33m=\u001b[0m \u001b[1;32mNone\u001b[0m\u001b[1;33m\u001b[0m\u001b[1;33m\u001b[0m\u001b[0m\n\u001b[1;32m-> 3338\u001b[1;33m         \u001b[0mres\u001b[0m \u001b[1;33m=\u001b[0m \u001b[0mself\u001b[0m\u001b[1;33m.\u001b[0m\u001b[0meval\u001b[0m\u001b[1;33m(\u001b[0m\u001b[0mexpr\u001b[0m\u001b[1;33m,\u001b[0m \u001b[1;33m**\u001b[0m\u001b[0mkwargs\u001b[0m\u001b[1;33m)\u001b[0m\u001b[1;33m\u001b[0m\u001b[1;33m\u001b[0m\u001b[0m\n\u001b[0m\u001b[0;32m   3339\u001b[0m \u001b[1;33m\u001b[0m\u001b[0m\n\u001b[0;32m   3340\u001b[0m         \u001b[1;32mtry\u001b[0m\u001b[1;33m:\u001b[0m\u001b[1;33m\u001b[0m\u001b[1;33m\u001b[0m\u001b[0m\n",
      "\u001b[1;32mc:\\users\\fidel\\appdata\\local\\programs\\python\\python38\\lib\\site-packages\\pandas\\core\\frame.py\u001b[0m in \u001b[0;36meval\u001b[1;34m(self, expr, inplace, **kwargs)\u001b[0m\n\u001b[0;32m   3466\u001b[0m         \u001b[0mkwargs\u001b[0m\u001b[1;33m[\u001b[0m\u001b[1;34m\"resolvers\"\u001b[0m\u001b[1;33m]\u001b[0m \u001b[1;33m=\u001b[0m \u001b[0mkwargs\u001b[0m\u001b[1;33m.\u001b[0m\u001b[0mget\u001b[0m\u001b[1;33m(\u001b[0m\u001b[1;34m\"resolvers\"\u001b[0m\u001b[1;33m,\u001b[0m \u001b[1;33m(\u001b[0m\u001b[1;33m)\u001b[0m\u001b[1;33m)\u001b[0m \u001b[1;33m+\u001b[0m \u001b[0mtuple\u001b[0m\u001b[1;33m(\u001b[0m\u001b[0mresolvers\u001b[0m\u001b[1;33m)\u001b[0m\u001b[1;33m\u001b[0m\u001b[1;33m\u001b[0m\u001b[0m\n\u001b[0;32m   3467\u001b[0m \u001b[1;33m\u001b[0m\u001b[0m\n\u001b[1;32m-> 3468\u001b[1;33m         \u001b[1;32mreturn\u001b[0m \u001b[0m_eval\u001b[0m\u001b[1;33m(\u001b[0m\u001b[0mexpr\u001b[0m\u001b[1;33m,\u001b[0m \u001b[0minplace\u001b[0m\u001b[1;33m=\u001b[0m\u001b[0minplace\u001b[0m\u001b[1;33m,\u001b[0m \u001b[1;33m**\u001b[0m\u001b[0mkwargs\u001b[0m\u001b[1;33m)\u001b[0m\u001b[1;33m\u001b[0m\u001b[1;33m\u001b[0m\u001b[0m\n\u001b[0m\u001b[0;32m   3469\u001b[0m \u001b[1;33m\u001b[0m\u001b[0m\n\u001b[0;32m   3470\u001b[0m     \u001b[1;32mdef\u001b[0m \u001b[0mselect_dtypes\u001b[0m\u001b[1;33m(\u001b[0m\u001b[0mself\u001b[0m\u001b[1;33m,\u001b[0m \u001b[0minclude\u001b[0m\u001b[1;33m=\u001b[0m\u001b[1;32mNone\u001b[0m\u001b[1;33m,\u001b[0m \u001b[0mexclude\u001b[0m\u001b[1;33m=\u001b[0m\u001b[1;32mNone\u001b[0m\u001b[1;33m)\u001b[0m \u001b[1;33m->\u001b[0m \u001b[1;34m\"DataFrame\"\u001b[0m\u001b[1;33m:\u001b[0m\u001b[1;33m\u001b[0m\u001b[1;33m\u001b[0m\u001b[0m\n",
      "\u001b[1;32mc:\\users\\fidel\\appdata\\local\\programs\\python\\python38\\lib\\site-packages\\pandas\\core\\computation\\eval.py\u001b[0m in \u001b[0;36meval\u001b[1;34m(expr, parser, engine, truediv, local_dict, global_dict, resolvers, level, target, inplace)\u001b[0m\n\u001b[0;32m    344\u001b[0m         \u001b[0meng\u001b[0m \u001b[1;33m=\u001b[0m \u001b[0m_engines\u001b[0m\u001b[1;33m[\u001b[0m\u001b[0mengine\u001b[0m\u001b[1;33m]\u001b[0m\u001b[1;33m\u001b[0m\u001b[1;33m\u001b[0m\u001b[0m\n\u001b[0;32m    345\u001b[0m         \u001b[0meng_inst\u001b[0m \u001b[1;33m=\u001b[0m \u001b[0meng\u001b[0m\u001b[1;33m(\u001b[0m\u001b[0mparsed_expr\u001b[0m\u001b[1;33m)\u001b[0m\u001b[1;33m\u001b[0m\u001b[1;33m\u001b[0m\u001b[0m\n\u001b[1;32m--> 346\u001b[1;33m         \u001b[0mret\u001b[0m \u001b[1;33m=\u001b[0m \u001b[0meng_inst\u001b[0m\u001b[1;33m.\u001b[0m\u001b[0mevaluate\u001b[0m\u001b[1;33m(\u001b[0m\u001b[1;33m)\u001b[0m\u001b[1;33m\u001b[0m\u001b[1;33m\u001b[0m\u001b[0m\n\u001b[0m\u001b[0;32m    347\u001b[0m \u001b[1;33m\u001b[0m\u001b[0m\n\u001b[0;32m    348\u001b[0m         \u001b[1;32mif\u001b[0m \u001b[0mparsed_expr\u001b[0m\u001b[1;33m.\u001b[0m\u001b[0massigner\u001b[0m \u001b[1;32mis\u001b[0m \u001b[1;32mNone\u001b[0m\u001b[1;33m:\u001b[0m\u001b[1;33m\u001b[0m\u001b[1;33m\u001b[0m\u001b[0m\n",
      "\u001b[1;32mc:\\users\\fidel\\appdata\\local\\programs\\python\\python38\\lib\\site-packages\\pandas\\core\\computation\\engines.py\u001b[0m in \u001b[0;36mevaluate\u001b[1;34m(self)\u001b[0m\n\u001b[0;32m    125\u001b[0m \u001b[1;33m\u001b[0m\u001b[0m\n\u001b[0;32m    126\u001b[0m     \u001b[1;32mdef\u001b[0m \u001b[0mevaluate\u001b[0m\u001b[1;33m(\u001b[0m\u001b[0mself\u001b[0m\u001b[1;33m)\u001b[0m\u001b[1;33m:\u001b[0m\u001b[1;33m\u001b[0m\u001b[1;33m\u001b[0m\u001b[0m\n\u001b[1;32m--> 127\u001b[1;33m         \u001b[1;32mreturn\u001b[0m \u001b[0mself\u001b[0m\u001b[1;33m.\u001b[0m\u001b[0mexpr\u001b[0m\u001b[1;33m(\u001b[0m\u001b[1;33m)\u001b[0m\u001b[1;33m\u001b[0m\u001b[1;33m\u001b[0m\u001b[0m\n\u001b[0m\u001b[0;32m    128\u001b[0m \u001b[1;33m\u001b[0m\u001b[0m\n\u001b[0;32m    129\u001b[0m     \u001b[1;32mdef\u001b[0m \u001b[0m_evaluate\u001b[0m\u001b[1;33m(\u001b[0m\u001b[0mself\u001b[0m\u001b[1;33m)\u001b[0m \u001b[1;33m->\u001b[0m \u001b[1;32mNone\u001b[0m\u001b[1;33m:\u001b[0m\u001b[1;33m\u001b[0m\u001b[1;33m\u001b[0m\u001b[0m\n",
      "\u001b[1;32mc:\\users\\fidel\\appdata\\local\\programs\\python\\python38\\lib\\site-packages\\pandas\\core\\computation\\expr.py\u001b[0m in \u001b[0;36m__call__\u001b[1;34m(self)\u001b[0m\n\u001b[0;32m    792\u001b[0m \u001b[1;33m\u001b[0m\u001b[0m\n\u001b[0;32m    793\u001b[0m     \u001b[1;32mdef\u001b[0m \u001b[0m__call__\u001b[0m\u001b[1;33m(\u001b[0m\u001b[0mself\u001b[0m\u001b[1;33m)\u001b[0m\u001b[1;33m:\u001b[0m\u001b[1;33m\u001b[0m\u001b[1;33m\u001b[0m\u001b[0m\n\u001b[1;32m--> 794\u001b[1;33m         \u001b[1;32mreturn\u001b[0m \u001b[0mself\u001b[0m\u001b[1;33m.\u001b[0m\u001b[0mterms\u001b[0m\u001b[1;33m(\u001b[0m\u001b[0mself\u001b[0m\u001b[1;33m.\u001b[0m\u001b[0menv\u001b[0m\u001b[1;33m)\u001b[0m\u001b[1;33m\u001b[0m\u001b[1;33m\u001b[0m\u001b[0m\n\u001b[0m\u001b[0;32m    795\u001b[0m \u001b[1;33m\u001b[0m\u001b[0m\n\u001b[0;32m    796\u001b[0m     \u001b[1;32mdef\u001b[0m \u001b[0m__repr__\u001b[0m\u001b[1;33m(\u001b[0m\u001b[0mself\u001b[0m\u001b[1;33m)\u001b[0m \u001b[1;33m->\u001b[0m \u001b[0mstr\u001b[0m\u001b[1;33m:\u001b[0m\u001b[1;33m\u001b[0m\u001b[1;33m\u001b[0m\u001b[0m\n",
      "\u001b[1;32mc:\\users\\fidel\\appdata\\local\\programs\\python\\python38\\lib\\site-packages\\pandas\\core\\computation\\ops.py\u001b[0m in \u001b[0;36m__call__\u001b[1;34m(self, env)\u001b[0m\n\u001b[0;32m    397\u001b[0m         \u001b[0mright\u001b[0m \u001b[1;33m=\u001b[0m \u001b[0mself\u001b[0m\u001b[1;33m.\u001b[0m\u001b[0mrhs\u001b[0m\u001b[1;33m(\u001b[0m\u001b[0menv\u001b[0m\u001b[1;33m)\u001b[0m\u001b[1;33m\u001b[0m\u001b[1;33m\u001b[0m\u001b[0m\n\u001b[0;32m    398\u001b[0m \u001b[1;33m\u001b[0m\u001b[0m\n\u001b[1;32m--> 399\u001b[1;33m         \u001b[1;32mreturn\u001b[0m \u001b[0mself\u001b[0m\u001b[1;33m.\u001b[0m\u001b[0mfunc\u001b[0m\u001b[1;33m(\u001b[0m\u001b[0mleft\u001b[0m\u001b[1;33m,\u001b[0m \u001b[0mright\u001b[0m\u001b[1;33m)\u001b[0m\u001b[1;33m\u001b[0m\u001b[1;33m\u001b[0m\u001b[0m\n\u001b[0m\u001b[0;32m    400\u001b[0m \u001b[1;33m\u001b[0m\u001b[0m\n\u001b[0;32m    401\u001b[0m     \u001b[1;32mdef\u001b[0m \u001b[0mevaluate\u001b[0m\u001b[1;33m(\u001b[0m\u001b[0mself\u001b[0m\u001b[1;33m,\u001b[0m \u001b[0menv\u001b[0m\u001b[1;33m,\u001b[0m \u001b[0mengine\u001b[0m\u001b[1;33m:\u001b[0m \u001b[0mstr\u001b[0m\u001b[1;33m,\u001b[0m \u001b[0mparser\u001b[0m\u001b[1;33m,\u001b[0m \u001b[0mterm_type\u001b[0m\u001b[1;33m,\u001b[0m \u001b[0meval_in_python\u001b[0m\u001b[1;33m)\u001b[0m\u001b[1;33m:\u001b[0m\u001b[1;33m\u001b[0m\u001b[1;33m\u001b[0m\u001b[0m\n",
      "\u001b[1;32mc:\\users\\fidel\\appdata\\local\\programs\\python\\python38\\lib\\site-packages\\pandas\\core\\ops\\common.py\u001b[0m in \u001b[0;36mnew_method\u001b[1;34m(self, other)\u001b[0m\n\u001b[0;32m     63\u001b[0m         \u001b[0mother\u001b[0m \u001b[1;33m=\u001b[0m \u001b[0mitem_from_zerodim\u001b[0m\u001b[1;33m(\u001b[0m\u001b[0mother\u001b[0m\u001b[1;33m)\u001b[0m\u001b[1;33m\u001b[0m\u001b[1;33m\u001b[0m\u001b[0m\n\u001b[0;32m     64\u001b[0m \u001b[1;33m\u001b[0m\u001b[0m\n\u001b[1;32m---> 65\u001b[1;33m         \u001b[1;32mreturn\u001b[0m \u001b[0mmethod\u001b[0m\u001b[1;33m(\u001b[0m\u001b[0mself\u001b[0m\u001b[1;33m,\u001b[0m \u001b[0mother\u001b[0m\u001b[1;33m)\u001b[0m\u001b[1;33m\u001b[0m\u001b[1;33m\u001b[0m\u001b[0m\n\u001b[0m\u001b[0;32m     66\u001b[0m \u001b[1;33m\u001b[0m\u001b[0m\n\u001b[0;32m     67\u001b[0m     \u001b[1;32mreturn\u001b[0m \u001b[0mnew_method\u001b[0m\u001b[1;33m\u001b[0m\u001b[1;33m\u001b[0m\u001b[0m\n",
      "\u001b[1;32mc:\\users\\fidel\\appdata\\local\\programs\\python\\python38\\lib\\site-packages\\pandas\\core\\ops\\__init__.py\u001b[0m in \u001b[0;36mwrapper\u001b[1;34m(self, other)\u001b[0m\n\u001b[0;32m    368\u001b[0m         \u001b[0mrvalues\u001b[0m \u001b[1;33m=\u001b[0m \u001b[0mextract_array\u001b[0m\u001b[1;33m(\u001b[0m\u001b[0mother\u001b[0m\u001b[1;33m,\u001b[0m \u001b[0mextract_numpy\u001b[0m\u001b[1;33m=\u001b[0m\u001b[1;32mTrue\u001b[0m\u001b[1;33m)\u001b[0m\u001b[1;33m\u001b[0m\u001b[1;33m\u001b[0m\u001b[0m\n\u001b[0;32m    369\u001b[0m \u001b[1;33m\u001b[0m\u001b[0m\n\u001b[1;32m--> 370\u001b[1;33m         \u001b[0mres_values\u001b[0m \u001b[1;33m=\u001b[0m \u001b[0mcomparison_op\u001b[0m\u001b[1;33m(\u001b[0m\u001b[0mlvalues\u001b[0m\u001b[1;33m,\u001b[0m \u001b[0mrvalues\u001b[0m\u001b[1;33m,\u001b[0m \u001b[0mop\u001b[0m\u001b[1;33m)\u001b[0m\u001b[1;33m\u001b[0m\u001b[1;33m\u001b[0m\u001b[0m\n\u001b[0m\u001b[0;32m    371\u001b[0m \u001b[1;33m\u001b[0m\u001b[0m\n\u001b[0;32m    372\u001b[0m         \u001b[1;32mreturn\u001b[0m \u001b[0mself\u001b[0m\u001b[1;33m.\u001b[0m\u001b[0m_construct_result\u001b[0m\u001b[1;33m(\u001b[0m\u001b[0mres_values\u001b[0m\u001b[1;33m,\u001b[0m \u001b[0mname\u001b[0m\u001b[1;33m=\u001b[0m\u001b[0mres_name\u001b[0m\u001b[1;33m)\u001b[0m\u001b[1;33m\u001b[0m\u001b[1;33m\u001b[0m\u001b[0m\n",
      "\u001b[1;32mc:\\users\\fidel\\appdata\\local\\programs\\python\\python38\\lib\\site-packages\\pandas\\core\\ops\\array_ops.py\u001b[0m in \u001b[0;36mcomparison_op\u001b[1;34m(left, right, op)\u001b[0m\n\u001b[0;32m    244\u001b[0m             \u001b[0mwarnings\u001b[0m\u001b[1;33m.\u001b[0m\u001b[0msimplefilter\u001b[0m\u001b[1;33m(\u001b[0m\u001b[1;34m\"ignore\"\u001b[0m\u001b[1;33m,\u001b[0m \u001b[0mDeprecationWarning\u001b[0m\u001b[1;33m)\u001b[0m\u001b[1;33m\u001b[0m\u001b[1;33m\u001b[0m\u001b[0m\n\u001b[0;32m    245\u001b[0m             \u001b[1;32mwith\u001b[0m \u001b[0mnp\u001b[0m\u001b[1;33m.\u001b[0m\u001b[0merrstate\u001b[0m\u001b[1;33m(\u001b[0m\u001b[0mall\u001b[0m\u001b[1;33m=\u001b[0m\u001b[1;34m\"ignore\"\u001b[0m\u001b[1;33m)\u001b[0m\u001b[1;33m:\u001b[0m\u001b[1;33m\u001b[0m\u001b[1;33m\u001b[0m\u001b[0m\n\u001b[1;32m--> 246\u001b[1;33m                 \u001b[0mres_values\u001b[0m \u001b[1;33m=\u001b[0m \u001b[0mna_arithmetic_op\u001b[0m\u001b[1;33m(\u001b[0m\u001b[0mlvalues\u001b[0m\u001b[1;33m,\u001b[0m \u001b[0mrvalues\u001b[0m\u001b[1;33m,\u001b[0m \u001b[0mop\u001b[0m\u001b[1;33m,\u001b[0m \u001b[0mis_cmp\u001b[0m\u001b[1;33m=\u001b[0m\u001b[1;32mTrue\u001b[0m\u001b[1;33m)\u001b[0m\u001b[1;33m\u001b[0m\u001b[1;33m\u001b[0m\u001b[0m\n\u001b[0m\u001b[0;32m    247\u001b[0m \u001b[1;33m\u001b[0m\u001b[0m\n\u001b[0;32m    248\u001b[0m     \u001b[1;32mreturn\u001b[0m \u001b[0mres_values\u001b[0m\u001b[1;33m\u001b[0m\u001b[1;33m\u001b[0m\u001b[0m\n",
      "\u001b[1;32mc:\\users\\fidel\\appdata\\local\\programs\\python\\python38\\lib\\site-packages\\pandas\\core\\ops\\array_ops.py\u001b[0m in \u001b[0;36mna_arithmetic_op\u001b[1;34m(left, right, op, is_cmp)\u001b[0m\n\u001b[0;32m    140\u001b[0m \u001b[1;33m\u001b[0m\u001b[0m\n\u001b[0;32m    141\u001b[0m     \u001b[1;32mtry\u001b[0m\u001b[1;33m:\u001b[0m\u001b[1;33m\u001b[0m\u001b[1;33m\u001b[0m\u001b[0m\n\u001b[1;32m--> 142\u001b[1;33m         \u001b[0mresult\u001b[0m \u001b[1;33m=\u001b[0m \u001b[0mexpressions\u001b[0m\u001b[1;33m.\u001b[0m\u001b[0mevaluate\u001b[0m\u001b[1;33m(\u001b[0m\u001b[0mop\u001b[0m\u001b[1;33m,\u001b[0m \u001b[0mleft\u001b[0m\u001b[1;33m,\u001b[0m \u001b[0mright\u001b[0m\u001b[1;33m)\u001b[0m\u001b[1;33m\u001b[0m\u001b[1;33m\u001b[0m\u001b[0m\n\u001b[0m\u001b[0;32m    143\u001b[0m     \u001b[1;32mexcept\u001b[0m \u001b[0mTypeError\u001b[0m\u001b[1;33m:\u001b[0m\u001b[1;33m\u001b[0m\u001b[1;33m\u001b[0m\u001b[0m\n\u001b[0;32m    144\u001b[0m         \u001b[1;32mif\u001b[0m \u001b[0mis_cmp\u001b[0m\u001b[1;33m:\u001b[0m\u001b[1;33m\u001b[0m\u001b[1;33m\u001b[0m\u001b[0m\n",
      "\u001b[1;32mc:\\users\\fidel\\appdata\\local\\programs\\python\\python38\\lib\\site-packages\\pandas\\core\\computation\\expressions.py\u001b[0m in \u001b[0;36mevaluate\u001b[1;34m(op, a, b, use_numexpr)\u001b[0m\n\u001b[0;32m    228\u001b[0m         \u001b[0muse_numexpr\u001b[0m \u001b[1;33m=\u001b[0m \u001b[0muse_numexpr\u001b[0m \u001b[1;32mand\u001b[0m \u001b[0m_bool_arith_check\u001b[0m\u001b[1;33m(\u001b[0m\u001b[0mop_str\u001b[0m\u001b[1;33m,\u001b[0m \u001b[0ma\u001b[0m\u001b[1;33m,\u001b[0m \u001b[0mb\u001b[0m\u001b[1;33m)\u001b[0m\u001b[1;33m\u001b[0m\u001b[1;33m\u001b[0m\u001b[0m\n\u001b[0;32m    229\u001b[0m         \u001b[1;32mif\u001b[0m \u001b[0muse_numexpr\u001b[0m\u001b[1;33m:\u001b[0m\u001b[1;33m\u001b[0m\u001b[1;33m\u001b[0m\u001b[0m\n\u001b[1;32m--> 230\u001b[1;33m             \u001b[1;32mreturn\u001b[0m \u001b[0m_evaluate\u001b[0m\u001b[1;33m(\u001b[0m\u001b[0mop\u001b[0m\u001b[1;33m,\u001b[0m \u001b[0mop_str\u001b[0m\u001b[1;33m,\u001b[0m \u001b[0ma\u001b[0m\u001b[1;33m,\u001b[0m \u001b[0mb\u001b[0m\u001b[1;33m)\u001b[0m  \u001b[1;31m# type: ignore\u001b[0m\u001b[1;33m\u001b[0m\u001b[1;33m\u001b[0m\u001b[0m\n\u001b[0m\u001b[0;32m    231\u001b[0m     \u001b[1;32mreturn\u001b[0m \u001b[0m_evaluate_standard\u001b[0m\u001b[1;33m(\u001b[0m\u001b[0mop\u001b[0m\u001b[1;33m,\u001b[0m \u001b[0mop_str\u001b[0m\u001b[1;33m,\u001b[0m \u001b[0ma\u001b[0m\u001b[1;33m,\u001b[0m \u001b[0mb\u001b[0m\u001b[1;33m)\u001b[0m\u001b[1;33m\u001b[0m\u001b[1;33m\u001b[0m\u001b[0m\n\u001b[0;32m    232\u001b[0m \u001b[1;33m\u001b[0m\u001b[0m\n",
      "\u001b[1;32mc:\\users\\fidel\\appdata\\local\\programs\\python\\python38\\lib\\site-packages\\pandas\\core\\computation\\expressions.py\u001b[0m in \u001b[0;36m_evaluate_standard\u001b[1;34m(op, op_str, a, b)\u001b[0m\n\u001b[0;32m     66\u001b[0m         \u001b[0m_store_test_result\u001b[0m\u001b[1;33m(\u001b[0m\u001b[1;32mFalse\u001b[0m\u001b[1;33m)\u001b[0m\u001b[1;33m\u001b[0m\u001b[1;33m\u001b[0m\u001b[0m\n\u001b[0;32m     67\u001b[0m     \u001b[1;32mwith\u001b[0m \u001b[0mnp\u001b[0m\u001b[1;33m.\u001b[0m\u001b[0merrstate\u001b[0m\u001b[1;33m(\u001b[0m\u001b[0mall\u001b[0m\u001b[1;33m=\u001b[0m\u001b[1;34m\"ignore\"\u001b[0m\u001b[1;33m)\u001b[0m\u001b[1;33m:\u001b[0m\u001b[1;33m\u001b[0m\u001b[1;33m\u001b[0m\u001b[0m\n\u001b[1;32m---> 68\u001b[1;33m         \u001b[1;32mreturn\u001b[0m \u001b[0mop\u001b[0m\u001b[1;33m(\u001b[0m\u001b[0ma\u001b[0m\u001b[1;33m,\u001b[0m \u001b[0mb\u001b[0m\u001b[1;33m)\u001b[0m\u001b[1;33m\u001b[0m\u001b[1;33m\u001b[0m\u001b[0m\n\u001b[0m\u001b[0;32m     69\u001b[0m \u001b[1;33m\u001b[0m\u001b[0m\n\u001b[0;32m     70\u001b[0m \u001b[1;33m\u001b[0m\u001b[0m\n",
      "\u001b[1;31mKeyboardInterrupt\u001b[0m: "
     ]
    }
   ],
   "source": [
    "%%time\n",
    "evaluate_df_model(df_test, model)"
   ]
  },
  {
   "cell_type": "code",
   "execution_count": 31,
   "metadata": {},
   "outputs": [],
   "source": [
    "def sweep_feature(model, env, features_base_values, sweep_dict):\n",
    "    feature_to_sweep = list(sweep_dict.keys())[0]\n",
    "    values_to_sweep = sweep_dict[feature_to_sweep]\n",
    "    list_action = []\n",
    "    for value in values_to_sweep:\n",
    "        features = features_base_values.copy()\n",
    "        features[feature_to_sweep] = value\n",
    "        obs = env.features_to_state(**features)\n",
    "        action, _ = model.predict(obs, deterministic = True)\n",
    "        list_action.append(action.item())\n",
    "    #Plot action vs feature swept\n",
    "    plt.figure(figsize = (8, 3))\n",
    "    plt.plot(values_to_sweep, list_action)\n",
    "    plt.xlabel(feature_to_sweep)\n",
    "    plt.ylabel(\"action\")\n",
    "    plt.grid()"
   ]
  },
  {
   "cell_type": "code",
   "execution_count": 34,
   "metadata": {},
   "outputs": [
    {
     "data": {
      "text/plain": [
       "<AxesSubplot:>"
      ]
     },
     "execution_count": 34,
     "metadata": {},
     "output_type": "execute_result"
    },
    {
     "data": {
      "image/png": "[encoded data removed]",
      "text/plain": [
       "<Figure size 432x288 with 1 Axes>"
      ]
     },
     "metadata": {
      "needs_background": "dark"
     },
     "output_type": "display_data"
    }
   ],
   "source": [
    "df_valid['yhat'].hist()"
   ]
  },
  {
   "cell_type": "code",
   "execution_count": 94,
   "metadata": {},
   "outputs": [
    {
     "data": {
      "image/png": "[encoded data removed]",
      "text/plain": [
       "<Figure size 576x216 with 1 Axes>"
      ]
     },
     "metadata": {
      "needs_background": "dark"
     },
     "output_type": "display_data"
    }
   ],
   "source": [
    "env = StockWithVolHold(df_valid)\n",
    "features_base_values = {'portfolio_volatility': 0.0009162610978275228,\n",
    "                         'stock_volatility': 0.012409072890145388,\n",
    "                         'stock_prediction': 0.00149919418618083,\n",
    "                         'available_notional': 0.1459195919334888,\n",
    "                         'stock_notional': 0.8}\n",
    "sweep_dict = {'stock_prediction': np.linspace(-0.01, 0.01, 20)}\n",
    "sweep_feature(model, env, features_base_values, sweep_dict)"
   ]
  },
  {
   "cell_type": "code",
   "execution_count": 73,
   "metadata": {},
   "outputs": [],
   "source": [
    "df_valid.loc[:, 'yhat'] = df_valid.loc[:, 'target_return'] * df_valid.loc[:, 'yhat'].std() / df_valid.loc[:, 'target_return']"
   ]
  },
  {
   "cell_type": "code",
   "execution_count": 91,
   "metadata": {},
   "outputs": [],
   "source": [
    "env = StockWithVolHold(df_valid)\n",
    "done = False\n",
    "obs = env.reset()\n",
    "list_hidden_state = []\n",
    "list_actions = []\n",
    "day = 0\n"
   ]
  },
  {
   "cell_type": "code",
   "execution_count": 93,
   "metadata": {},
   "outputs": [
    {
     "data": {
      "text/plain": [
       "array([  1.38917911,   1.37177969,   3.35946504,  -0.01268383,\n",
       "       -10.12683828])"
      ]
     },
     "execution_count": 93,
     "metadata": {},
     "output_type": "execute_result"
    }
   ],
   "source": [
    "env.state"
   ]
  },
  {
   "cell_type": "code",
   "execution_count": 92,
   "metadata": {
    "scrolled": true
   },
   "outputs": [
    {
     "name": "stdout",
     "output_type": "stream",
     "text": [
      "NEW DAY: 1\n",
      "NEW DAY: 2\n",
      "NEW DAY: 3\n",
      "NEW DAY: 4\n",
      "NEW DAY: 5\n",
      "NEW DAY: 6\n",
      "NEW DAY: 7\n",
      "NEW DAY: 8\n",
      "NEW DAY: 9\n",
      "NEW DAY: 10\n",
      "NEW DAY: 11\n",
      "NEW DAY: 12\n",
      "NEW DAY: 13\n",
      "NEW DAY: 14\n",
      "NEW DAY: 15\n",
      "NEW DAY: 16\n",
      "NEW DAY: 17\n",
      "NEW DAY: 18\n",
      "NEW DAY: 19\n",
      "NEW DAY: 20\n",
      "NEW DAY: 21\n",
      "NEW DAY: 22\n",
      "NEW DAY: 23\n",
      "NEW DAY: 24\n",
      "NEW DAY: 25\n",
      "NEW DAY: 26\n",
      "NEW DAY: 27\n",
      "NEW DAY: 28\n",
      "NEW DAY: 29\n",
      "NEW DAY: 30\n",
      "NEW DAY: 31\n",
      "NEW DAY: 32\n",
      "NEW DAY: 33\n",
      "NEW DAY: 34\n",
      "NEW DAY: 35\n"
     ]
    }
   ],
   "source": [
    "while not done:#not done:\n",
    "    action, _ = model.predict(obs, deterministic = True)\n",
    "    obs, reward, done, hidden_state = env.step(action)\n",
    "    if hidden_state:\n",
    "        features = env.state_to_features(True)\n",
    "        hidden_state = pd.DataFrame(hidden_state).T.reset_index()\n",
    "        hidden_state.columns = ['asset_identifier', 'notional', 'vol']\n",
    "        hidden_state.loc[:, 'date'] = day\n",
    "        hidden_state.loc[:, 'available_notional'] = features['available_notional']\n",
    "        day += 1\n",
    "        list_hidden_state.append(hidden_state)\n",
    "    list_actions.append(action.item())\n",
    "    if np.random.uniform() > 0.95:\n",
    "        break"
   ]
  },
  {
   "cell_type": "code",
   "execution_count": 61,
   "metadata": {
    "scrolled": true
   },
   "outputs": [
    {
     "data": {
      "text/plain": [
       "[   asset_identifier  notional       vol  date  available_notional\n",
       " 0               169  0.100092  0.012518   0.0            0.899908,\n",
       "    asset_identifier  notional       vol  date  available_notional\n",
       " 0               169  0.204735  0.012516   1.0            0.795265,\n",
       "    asset_identifier  notional       vol  date  available_notional\n",
       " 0               169    0.3101  0.013098   2.0              0.6899,\n",
       "    asset_identifier  notional      vol  date  available_notional\n",
       " 0               169  0.402885  0.01339   3.0            0.597115,\n",
       "    asset_identifier  notional       vol  date  available_notional\n",
       " 0               169  0.499132  0.013245   4.0            0.500868,\n",
       "    asset_identifier  notional      vol  date  available_notional\n",
       " 0               169  0.605979  0.01332   5.0            0.394021,\n",
       "    asset_identifier  notional       vol  date  available_notional\n",
       " 0               169  0.715845  0.013428   6.0            0.284155,\n",
       "    asset_identifier  notional       vol  date  available_notional\n",
       " 0               169  0.815845  0.013504   7.0            0.184155,\n",
       "    asset_identifier  notional       vol  date  available_notional\n",
       " 0               169  0.899731  0.013442   8.0            0.100269,\n",
       "    asset_identifier  notional       vol  date  available_notional\n",
       " 0               169  1.007191  0.013609   9.0           -0.007191,\n",
       "    asset_identifier  notional       vol  date  available_notional\n",
       " 0               169  1.008385  0.013394  10.0           -0.008385,\n",
       "    asset_identifier  notional       vol  date  available_notional\n",
       " 0               169  1.014652  0.012719  11.0           -0.014652,\n",
       "    asset_identifier  notional       vol  date  available_notional\n",
       " 0               169  0.972872  0.012494  12.0            0.027128,\n",
       "    asset_identifier  notional       vol  date  available_notional\n",
       " 0               169  0.986196  0.013845  13.0            0.013804,\n",
       "    asset_identifier  notional       vol  date  available_notional\n",
       " 0               169  1.018662  0.013877  14.0           -0.018662,\n",
       "    asset_identifier  notional       vol  date  available_notional\n",
       " 0               169  1.023017  0.014283  15.0           -0.023017,\n",
       "    asset_identifier  notional       vol  date  available_notional\n",
       " 0               169  1.031415  0.013466  16.0           -0.031415,\n",
       "    asset_identifier  notional       vol  date  available_notional\n",
       " 0               169  1.018662  0.013543  17.0           -0.018662,\n",
       "    asset_identifier  notional       vol  date  available_notional\n",
       " 0               169  1.004043  0.013618  18.0           -0.004043,\n",
       "    asset_identifier  notional      vol  date  available_notional\n",
       " 0               169  1.010575  0.01354  19.0           -0.010575,\n",
       "    asset_identifier  notional       vol  date  available_notional\n",
       " 0               169  1.003732  0.013521  20.0           -0.003732,\n",
       "    asset_identifier  notional       vol  date  available_notional\n",
       " 0               169  1.015863  0.013341  21.0           -0.015863,\n",
       "    asset_identifier  notional       vol  date  available_notional\n",
       " 0               169  1.008709  0.013546  22.0           -0.008709,\n",
       "    asset_identifier  notional       vol  date  available_notional\n",
       " 0               169  1.023328  0.013567  23.0           -0.023328,\n",
       "    asset_identifier  notional       vol  date  available_notional\n",
       " 0               169  1.017107  0.013791  24.0           -0.017107,\n",
       "    asset_identifier  notional       vol  date  available_notional\n",
       " 0               169  1.020218  0.013791  25.0           -0.020218,\n",
       "    asset_identifier  notional       vol  date  available_notional\n",
       " 0               169  1.027372  0.013758  26.0           -0.027372,\n",
       "    asset_identifier  notional       vol  date  available_notional\n",
       " 0               169  1.027683  0.013784  27.0           -0.027683,\n",
       "    asset_identifier  notional       vol  date  available_notional\n",
       " 0               169  1.030793  0.012994  28.0           -0.030793,\n",
       "    asset_identifier  notional       vol  date  available_notional\n",
       " 0               169  1.035148  0.013011  29.0           -0.035148,\n",
       "    asset_identifier  notional       vol  date  available_notional\n",
       " 0               169  1.021141  0.013035  30.0           -0.021141,\n",
       "    asset_identifier  notional       vol  date  available_notional\n",
       " 0               169  1.041408  0.012932  31.0           -0.041408,\n",
       "    asset_identifier  notional       vol  date  available_notional\n",
       " 0               169  1.019893  0.013282  32.0           -0.019893,\n",
       "    asset_identifier  notional       vol  date  available_notional\n",
       " 0               169  1.013034  0.013678  33.0           -0.013034,\n",
       "    asset_identifier  notional       vol  date  available_notional\n",
       " 0               169  1.016464  0.013718  34.0           -0.016464,\n",
       "    asset_identifier  notional       vol  date  available_notional\n",
       " 0               169  0.974371  0.013614  35.0            0.025629,\n",
       "    asset_identifier  notional      vol  date  available_notional\n",
       " 0               169    1.0112  0.01531  36.0             -0.0112,\n",
       "    asset_identifier  notional       vol  date  available_notional\n",
       " 0               169    0.9968  0.014876  37.0              0.0032,\n",
       "    asset_identifier  notional       vol  date  available_notional\n",
       " 0               169   1.00321  0.014645  38.0            -0.00321,\n",
       "    asset_identifier  notional       vol  date  available_notional\n",
       " 0               169  1.001605  0.014431  39.0           -0.001605,\n",
       "    asset_identifier  notional       vol  date  available_notional\n",
       " 0               169       1.0  0.014398  40.0       -3.973736e-08,\n",
       "    asset_identifier  notional       vol  date  available_notional\n",
       " 0               169       1.0  0.014217  41.0       -3.973736e-08,\n",
       "    asset_identifier  notional       vol  date  available_notional\n",
       " 0               169  0.995185  0.013949  42.0            0.004815,\n",
       "    asset_identifier  notional       vol  date  available_notional\n",
       " 0               169  1.009355  0.013948  43.0           -0.009355,\n",
       "    asset_identifier  notional       vol  date  available_notional\n",
       " 0               169  1.022581  0.013836  44.0           -0.022581,\n",
       "    asset_identifier  notional       vol  date  available_notional\n",
       " 0               169  1.022581  0.013979  45.0           -0.022581,\n",
       "    asset_identifier  notional       vol  date  available_notional\n",
       " 0               169  0.996774  0.013974  46.0            0.003226,\n",
       "    asset_identifier  notional       vol  date  available_notional\n",
       " 0               169  0.998382  0.014456  47.0            0.001618,\n",
       "    asset_identifier  notional       vol  date  available_notional\n",
       " 0               169  1.016207  0.012799  48.0           -0.016207,\n",
       "    asset_identifier  notional      vol  date  available_notional\n",
       " 0               169  0.990924  0.01295  49.0            0.009076,\n",
       "    asset_identifier  notional       vol  date  available_notional\n",
       " 0               169  1.001309  0.013138  50.0           -0.001309,\n",
       "    asset_identifier  notional       vol  date  available_notional\n",
       " 0               169   0.99771  0.013107  51.0             0.00229,\n",
       "    asset_identifier  notional       vol  date  available_notional\n",
       " 0               169  0.983607  0.012991  52.0            0.016393,\n",
       "    asset_identifier  notional       vol  date  available_notional\n",
       " 0               169       1.0  0.013101  53.0                 0.0,\n",
       "    asset_identifier  notional       vol  date  available_notional\n",
       " 0               169  1.001667  0.012937  54.0           -0.001667,\n",
       "    asset_identifier  notional      vol  date  available_notional\n",
       " 0               169     1.012  0.01287  55.0              -0.012,\n",
       "    asset_identifier  notional      vol  date  available_notional\n",
       " 0               169     1.025  0.01301  56.0              -0.025,\n",
       "    asset_identifier  notional       vol  date  available_notional\n",
       " 0               169  1.058667  0.013034  57.0           -0.058667,\n",
       "    asset_identifier  notional       vol  date  available_notional\n",
       " 0               169  1.093333  0.014231  58.0           -0.093333,\n",
       "    asset_identifier  notional       vol  date  available_notional\n",
       " 0               169  1.091667  0.015101  59.0           -0.091667,\n",
       "    asset_identifier  notional       vol  date  available_notional\n",
       " 0               169  0.960305  0.015066  60.0            0.039695,\n",
       "    asset_identifier  notional       vol  date  available_notional\n",
       " 0               169  1.017488  0.016495  61.0           -0.017488,\n",
       "    asset_identifier  notional       vol  date  available_notional\n",
       " 0               169  0.991097  0.016738  62.0            0.008903,\n",
       "    asset_identifier  notional       vol  date  available_notional\n",
       " 0               169  1.018608  0.017271  63.0           -0.018608,\n",
       "    asset_identifier  notional       vol  date  available_notional\n",
       " 0               169  1.021816  0.017587  64.0           -0.021816,\n",
       "    asset_identifier  notional       vol  date  available_notional\n",
       " 0               169  1.021816  0.017579  65.0           -0.021816,\n",
       "    asset_identifier  notional       vol  date  available_notional\n",
       " 0               169  1.033045  0.017444  66.0           -0.033045,\n",
       "    asset_identifier  notional       vol  date  available_notional\n",
       " 0               169  1.027591  0.017201  67.0           -0.027591,\n",
       "    asset_identifier  notional       vol  date  available_notional\n",
       " 0               169  1.021495  0.016875  68.0           -0.021495,\n",
       "    asset_identifier  notional       vol  date  available_notional\n",
       " 0               169  1.010587  0.016866  69.0           -0.010587,\n",
       "    asset_identifier  notional      vol  date  available_notional\n",
       " 0               169  1.014758  0.01694  70.0           -0.014758,\n",
       "    asset_identifier  notional       vol  date  available_notional\n",
       " 0               169  0.999679  0.015412  71.0            0.000321,\n",
       "    asset_identifier  notional       vol  date  available_notional\n",
       " 0               169  0.984596  0.015507  72.0            0.015404,\n",
       "    asset_identifier  notional       vol  date  available_notional\n",
       " 0               169  1.005867  0.015539  73.0           -0.005867,\n",
       "    asset_identifier  notional       vol  date  available_notional\n",
       " 0               169  0.982725  0.015563  74.0            0.017275,\n",
       "    asset_identifier  notional       vol  date  available_notional\n",
       " 0               169  0.996352  0.016032  75.0            0.003648,\n",
       "    asset_identifier  notional       vol  date  available_notional\n",
       " 0               169  1.010319  0.016039  76.0           -0.010319,\n",
       "    asset_identifier  notional      vol  date  available_notional\n",
       " 0               169  1.008655  0.01615  77.0           -0.008655,\n",
       "    asset_identifier  notional       vol  date  available_notional\n",
       " 0               169  1.015313  0.016135  78.0           -0.015313,\n",
       "    asset_identifier  notional       vol  date  available_notional\n",
       " 0               169  1.031957  0.016092  79.0           -0.031957,\n",
       "    asset_identifier  notional       vol  date  available_notional\n",
       " 0               169  1.033622  0.016184  80.0           -0.033622,\n",
       "    asset_identifier  notional       vol  date  available_notional\n",
       " 0               169  1.043275  0.016188  81.0           -0.043275,\n",
       "    asset_identifier  notional       vol  date  available_notional\n",
       " 0               169  1.058588  0.015678  82.0           -0.058588,\n",
       "    asset_identifier  notional       vol  date  available_notional\n",
       " 0               169  1.061917  0.015854  83.0           -0.061917,\n",
       "    asset_identifier  notional       vol  date  available_notional\n",
       " 0               169    1.0496  0.015637  84.0             -0.0496,\n",
       "    asset_identifier  notional       vol  date  available_notional\n",
       " 0               169  1.065246  0.015154  85.0           -0.065246,\n",
       "    asset_identifier  notional       vol  date  available_notional\n",
       " 0               169  1.062916  0.015336  86.0           -0.062916,\n",
       "    asset_identifier  notional       vol  date  available_notional\n",
       " 0               169  1.051931  0.015324  87.0           -0.051931,\n",
       "    asset_identifier  notional      vol  date  available_notional\n",
       " 0               169  1.086884  0.01515  88.0           -0.086884,\n",
       "    asset_identifier  notional       vol  date  available_notional\n",
       " 0               169  1.099534  0.016061  89.0           -0.099534,\n",
       "    asset_identifier  notional       vol  date  available_notional\n",
       " 0               169  1.105193  0.016133  90.0           -0.105193,\n",
       "    asset_identifier  notional       vol  date  available_notional\n",
       " 0               169  1.084075  0.016086  91.0           -0.084075,\n",
       "    asset_identifier  notional       vol  date  available_notional\n",
       " 0               169  1.085409  0.016396  92.0           -0.085409,\n",
       "    asset_identifier  notional       vol  date  available_notional\n",
       " 0               169  1.097418  0.015479  93.0           -0.097418,\n",
       "    asset_identifier  notional       vol  date  available_notional\n",
       " 0               169  1.114096  0.014573  94.0           -0.114096,\n",
       "    asset_identifier  notional       vol  date  available_notional\n",
       " 0               169  1.151121  0.014786  95.0           -0.151121,\n",
       "    asset_identifier  notional       vol  date  available_notional\n",
       " 0               169  1.134109  0.014042  96.0           -0.134109,\n",
       "    asset_identifier  notional       vol  date  available_notional\n",
       " 0               169  1.107758  0.014109  97.0           -0.107758,\n",
       "    asset_identifier  notional       vol  date  available_notional\n",
       " 0               169  1.117098  0.013959  98.0           -0.117098,\n",
       "    asset_identifier  notional       vol  date  available_notional\n",
       " 0               169  1.117098  0.013959  99.0           -0.117098]"
      ]
     },
     "execution_count": 61,
     "metadata": {},
     "output_type": "execute_result"
    }
   ],
   "source": [
    "list_hidden_state"
   ]
  },
  {
   "cell_type": "code",
   "execution_count": 72,
   "metadata": {},
   "outputs": [
    {
     "data": {
      "text/plain": [
       "0.004535091687577896"
      ]
     },
     "execution_count": 72,
     "metadata": {},
     "output_type": "execute_result"
    }
   ],
   "source": [
    "np.array(env.rewards_memory)[1]/300"
   ]
  },
  {
   "cell_type": "code",
   "execution_count": 69,
   "metadata": {},
   "outputs": [
    {
     "data": {
      "text/html": [
       "<div>\n",
       "<style scoped>\n",
       "    .dataframe tbody tr th:only-of-type {\n",
       "        vertical-align: middle;\n",
       "    }\n",
       "\n",
       "    .dataframe tbody tr th {\n",
       "        vertical-align: top;\n",
       "    }\n",
       "\n",
       "    .dataframe thead th {\n",
       "        text-align: right;\n",
       "    }\n",
       "</style>\n",
       "<table border=\"1\" class=\"dataframe\">\n",
       "  <thead>\n",
       "    <tr style=\"text-align: right;\">\n",
       "      <th></th>\n",
       "      <th>asset_identifier</th>\n",
       "      <th>date</th>\n",
       "      <th>volatility</th>\n",
       "      <th>yhat</th>\n",
       "      <th>target_return</th>\n",
       "      <th>realized_return</th>\n",
       "      <th>action</th>\n",
       "      <th>notional</th>\n",
       "      <th>vol</th>\n",
       "      <th>available_notional</th>\n",
       "      <th>average_notional</th>\n",
       "      <th>pnl</th>\n",
       "      <th>pnl_average</th>\n",
       "      <th>variance</th>\n",
       "      <th>average_variance</th>\n",
       "    </tr>\n",
       "  </thead>\n",
       "  <tbody>\n",
       "    <tr>\n",
       "      <th>0</th>\n",
       "      <td>169</td>\n",
       "      <td>0</td>\n",
       "      <td>0.012409</td>\n",
       "      <td>0.001499</td>\n",
       "      <td>0.000376</td>\n",
       "      <td>-0.010584</td>\n",
       "      <td>1.000000</td>\n",
       "      <td>0.100092</td>\n",
       "      <td>0.012518</td>\n",
       "      <td>0.899908</td>\n",
       "      <td>0.979008</td>\n",
       "      <td>0.000038</td>\n",
       "      <td>0.000368</td>\n",
       "      <td>0.000002</td>\n",
       "      <td>0.000150</td>\n",
       "    </tr>\n",
       "    <tr>\n",
       "      <th>1</th>\n",
       "      <td>169</td>\n",
       "      <td>1</td>\n",
       "      <td>0.012518</td>\n",
       "      <td>0.001500</td>\n",
       "      <td>0.022665</td>\n",
       "      <td>0.000917</td>\n",
       "      <td>1.000000</td>\n",
       "      <td>0.204735</td>\n",
       "      <td>0.012516</td>\n",
       "      <td>0.795265</td>\n",
       "      <td>0.979008</td>\n",
       "      <td>0.004640</td>\n",
       "      <td>0.022189</td>\n",
       "      <td>0.000007</td>\n",
       "      <td>0.000150</td>\n",
       "    </tr>\n",
       "    <tr>\n",
       "      <th>2</th>\n",
       "      <td>169</td>\n",
       "      <td>2</td>\n",
       "      <td>0.012516</td>\n",
       "      <td>0.001443</td>\n",
       "      <td>0.017066</td>\n",
       "      <td>0.023206</td>\n",
       "      <td>1.000000</td>\n",
       "      <td>0.310100</td>\n",
       "      <td>0.013098</td>\n",
       "      <td>0.689900</td>\n",
       "      <td>0.979008</td>\n",
       "      <td>0.005292</td>\n",
       "      <td>0.016707</td>\n",
       "      <td>0.000016</td>\n",
       "      <td>0.000164</td>\n",
       "    </tr>\n",
       "    <tr>\n",
       "      <th>3</th>\n",
       "      <td>169</td>\n",
       "      <td>3</td>\n",
       "      <td>0.013098</td>\n",
       "      <td>0.001062</td>\n",
       "      <td>-0.018136</td>\n",
       "      <td>0.017607</td>\n",
       "      <td>1.000000</td>\n",
       "      <td>0.402885</td>\n",
       "      <td>0.013390</td>\n",
       "      <td>0.597115</td>\n",
       "      <td>0.979008</td>\n",
       "      <td>-0.007307</td>\n",
       "      <td>-0.017756</td>\n",
       "      <td>0.000029</td>\n",
       "      <td>0.000172</td>\n",
       "    </tr>\n",
       "    <tr>\n",
       "      <th>4</th>\n",
       "      <td>169</td>\n",
       "      <td>4</td>\n",
       "      <td>0.013390</td>\n",
       "      <td>0.000807</td>\n",
       "      <td>-0.008004</td>\n",
       "      <td>-0.017595</td>\n",
       "      <td>1.000000</td>\n",
       "      <td>0.499132</td>\n",
       "      <td>0.013245</td>\n",
       "      <td>0.500868</td>\n",
       "      <td>0.979008</td>\n",
       "      <td>-0.003995</td>\n",
       "      <td>-0.007836</td>\n",
       "      <td>0.000044</td>\n",
       "      <td>0.000168</td>\n",
       "    </tr>\n",
       "    <tr>\n",
       "      <th>...</th>\n",
       "      <td>...</td>\n",
       "      <td>...</td>\n",
       "      <td>...</td>\n",
       "      <td>...</td>\n",
       "      <td>...</td>\n",
       "      <td>...</td>\n",
       "      <td>...</td>\n",
       "      <td>...</td>\n",
       "      <td>...</td>\n",
       "      <td>...</td>\n",
       "      <td>...</td>\n",
       "      <td>...</td>\n",
       "      <td>...</td>\n",
       "      <td>...</td>\n",
       "      <td>...</td>\n",
       "    </tr>\n",
       "    <tr>\n",
       "      <th>93</th>\n",
       "      <td>169</td>\n",
       "      <td>93</td>\n",
       "      <td>0.016396</td>\n",
       "      <td>0.001243</td>\n",
       "      <td>0.010522</td>\n",
       "      <td>0.001231</td>\n",
       "      <td>1.000000</td>\n",
       "      <td>1.097418</td>\n",
       "      <td>0.015479</td>\n",
       "      <td>-0.097418</td>\n",
       "      <td>0.979008</td>\n",
       "      <td>0.011547</td>\n",
       "      <td>0.010301</td>\n",
       "      <td>0.000289</td>\n",
       "      <td>0.000230</td>\n",
       "    </tr>\n",
       "    <tr>\n",
       "      <th>94</th>\n",
       "      <td>169</td>\n",
       "      <td>94</td>\n",
       "      <td>0.015479</td>\n",
       "      <td>0.001277</td>\n",
       "      <td>0.014657</td>\n",
       "      <td>0.011063</td>\n",
       "      <td>1.000000</td>\n",
       "      <td>1.114096</td>\n",
       "      <td>0.014573</td>\n",
       "      <td>-0.114096</td>\n",
       "      <td>0.979008</td>\n",
       "      <td>0.016329</td>\n",
       "      <td>0.014349</td>\n",
       "      <td>0.000264</td>\n",
       "      <td>0.000204</td>\n",
       "    </tr>\n",
       "    <tr>\n",
       "      <th>95</th>\n",
       "      <td>169</td>\n",
       "      <td>95</td>\n",
       "      <td>0.014573</td>\n",
       "      <td>0.001237</td>\n",
       "      <td>0.032692</td>\n",
       "      <td>0.015198</td>\n",
       "      <td>1.000000</td>\n",
       "      <td>1.151121</td>\n",
       "      <td>0.014786</td>\n",
       "      <td>-0.151121</td>\n",
       "      <td>0.979008</td>\n",
       "      <td>0.037633</td>\n",
       "      <td>0.032006</td>\n",
       "      <td>0.000290</td>\n",
       "      <td>0.000210</td>\n",
       "    </tr>\n",
       "    <tr>\n",
       "      <th>96</th>\n",
       "      <td>169</td>\n",
       "      <td>96</td>\n",
       "      <td>0.014786</td>\n",
       "      <td>0.001053</td>\n",
       "      <td>-0.015319</td>\n",
       "      <td>0.033233</td>\n",
       "      <td>1.000000</td>\n",
       "      <td>1.134109</td>\n",
       "      <td>0.014042</td>\n",
       "      <td>-0.134109</td>\n",
       "      <td>0.979008</td>\n",
       "      <td>-0.017374</td>\n",
       "      <td>-0.014998</td>\n",
       "      <td>0.000254</td>\n",
       "      <td>0.000189</td>\n",
       "    </tr>\n",
       "    <tr>\n",
       "      <th>97</th>\n",
       "      <td>169</td>\n",
       "      <td>97</td>\n",
       "      <td>0.014042</td>\n",
       "      <td>0.000361</td>\n",
       "      <td>-0.023776</td>\n",
       "      <td>-0.014778</td>\n",
       "      <td>0.554681</td>\n",
       "      <td>1.107758</td>\n",
       "      <td>0.014109</td>\n",
       "      <td>-0.107758</td>\n",
       "      <td>0.979008</td>\n",
       "      <td>-0.026339</td>\n",
       "      <td>-0.023277</td>\n",
       "      <td>0.000244</td>\n",
       "      <td>0.000191</td>\n",
       "    </tr>\n",
       "  </tbody>\n",
       "</table>\n",
       "<p>98 rows × 15 columns</p>\n",
       "</div>"
      ],
      "text/plain": [
       "    asset_identifier  date  volatility      yhat  target_return  \\\n",
       "0                169     0    0.012409  0.001499       0.000376   \n",
       "1                169     1    0.012518  0.001500       0.022665   \n",
       "2                169     2    0.012516  0.001443       0.017066   \n",
       "3                169     3    0.013098  0.001062      -0.018136   \n",
       "4                169     4    0.013390  0.000807      -0.008004   \n",
       "..               ...   ...         ...       ...            ...   \n",
       "93               169    93    0.016396  0.001243       0.010522   \n",
       "94               169    94    0.015479  0.001277       0.014657   \n",
       "95               169    95    0.014573  0.001237       0.032692   \n",
       "96               169    96    0.014786  0.001053      -0.015319   \n",
       "97               169    97    0.014042  0.000361      -0.023776   \n",
       "\n",
       "    realized_return    action  notional       vol  available_notional  \\\n",
       "0         -0.010584  1.000000  0.100092  0.012518            0.899908   \n",
       "1          0.000917  1.000000  0.204735  0.012516            0.795265   \n",
       "2          0.023206  1.000000  0.310100  0.013098            0.689900   \n",
       "3          0.017607  1.000000  0.402885  0.013390            0.597115   \n",
       "4         -0.017595  1.000000  0.499132  0.013245            0.500868   \n",
       "..              ...       ...       ...       ...                 ...   \n",
       "93         0.001231  1.000000  1.097418  0.015479           -0.097418   \n",
       "94         0.011063  1.000000  1.114096  0.014573           -0.114096   \n",
       "95         0.015198  1.000000  1.151121  0.014786           -0.151121   \n",
       "96         0.033233  1.000000  1.134109  0.014042           -0.134109   \n",
       "97        -0.014778  0.554681  1.107758  0.014109           -0.107758   \n",
       "\n",
       "    average_notional       pnl  pnl_average  variance  average_variance  \n",
       "0           0.979008  0.000038     0.000368  0.000002          0.000150  \n",
       "1           0.979008  0.004640     0.022189  0.000007          0.000150  \n",
       "2           0.979008  0.005292     0.016707  0.000016          0.000164  \n",
       "3           0.979008 -0.007307    -0.017756  0.000029          0.000172  \n",
       "4           0.979008 -0.003995    -0.007836  0.000044          0.000168  \n",
       "..               ...       ...          ...       ...               ...  \n",
       "93          0.979008  0.011547     0.010301  0.000289          0.000230  \n",
       "94          0.979008  0.016329     0.014349  0.000264          0.000204  \n",
       "95          0.979008  0.037633     0.032006  0.000290          0.000210  \n",
       "96          0.979008 -0.017374    -0.014998  0.000254          0.000189  \n",
       "97          0.979008 -0.026339    -0.023277  0.000244          0.000191  \n",
       "\n",
       "[98 rows x 15 columns]"
      ]
     },
     "execution_count": 69,
     "metadata": {},
     "output_type": "execute_result"
    }
   ],
   "source": [
    "df_results#['pnl'].sum()"
   ]
  },
  {
   "cell_type": "code",
   "execution_count": 65,
   "metadata": {},
   "outputs": [
    {
     "data": {
      "text/html": [
       "<div>\n",
       "<style scoped>\n",
       "    .dataframe tbody tr th:only-of-type {\n",
       "        vertical-align: middle;\n",
       "    }\n",
       "\n",
       "    .dataframe tbody tr th {\n",
       "        vertical-align: top;\n",
       "    }\n",
       "\n",
       "    .dataframe thead th {\n",
       "        text-align: right;\n",
       "    }\n",
       "</style>\n",
       "<table border=\"1\" class=\"dataframe\">\n",
       "  <thead>\n",
       "    <tr style=\"text-align: right;\">\n",
       "      <th></th>\n",
       "      <th>asset_identifier</th>\n",
       "      <th>date</th>\n",
       "      <th>volatility</th>\n",
       "      <th>yhat</th>\n",
       "      <th>target_return</th>\n",
       "      <th>realized_return</th>\n",
       "      <th>action</th>\n",
       "    </tr>\n",
       "  </thead>\n",
       "  <tbody>\n",
       "    <tr>\n",
       "      <th>0</th>\n",
       "      <td>169</td>\n",
       "      <td>0</td>\n",
       "      <td>0.012409</td>\n",
       "      <td>0.001499</td>\n",
       "      <td>0.000376</td>\n",
       "      <td>-0.010584</td>\n",
       "      <td>1.000000</td>\n",
       "    </tr>\n",
       "    <tr>\n",
       "      <th>1</th>\n",
       "      <td>169</td>\n",
       "      <td>1</td>\n",
       "      <td>0.012518</td>\n",
       "      <td>0.001500</td>\n",
       "      <td>0.022665</td>\n",
       "      <td>0.000917</td>\n",
       "      <td>1.000000</td>\n",
       "    </tr>\n",
       "    <tr>\n",
       "      <th>2</th>\n",
       "      <td>169</td>\n",
       "      <td>2</td>\n",
       "      <td>0.012516</td>\n",
       "      <td>0.001443</td>\n",
       "      <td>0.017066</td>\n",
       "      <td>0.023206</td>\n",
       "      <td>1.000000</td>\n",
       "    </tr>\n",
       "    <tr>\n",
       "      <th>3</th>\n",
       "      <td>169</td>\n",
       "      <td>3</td>\n",
       "      <td>0.013098</td>\n",
       "      <td>0.001062</td>\n",
       "      <td>-0.018136</td>\n",
       "      <td>0.017607</td>\n",
       "      <td>1.000000</td>\n",
       "    </tr>\n",
       "    <tr>\n",
       "      <th>4</th>\n",
       "      <td>169</td>\n",
       "      <td>4</td>\n",
       "      <td>0.013390</td>\n",
       "      <td>0.000807</td>\n",
       "      <td>-0.008004</td>\n",
       "      <td>-0.017595</td>\n",
       "      <td>1.000000</td>\n",
       "    </tr>\n",
       "    <tr>\n",
       "      <th>...</th>\n",
       "      <td>...</td>\n",
       "      <td>...</td>\n",
       "      <td>...</td>\n",
       "      <td>...</td>\n",
       "      <td>...</td>\n",
       "      <td>...</td>\n",
       "      <td>...</td>\n",
       "    </tr>\n",
       "    <tr>\n",
       "      <th>95</th>\n",
       "      <td>169</td>\n",
       "      <td>95</td>\n",
       "      <td>0.014573</td>\n",
       "      <td>0.001237</td>\n",
       "      <td>0.032692</td>\n",
       "      <td>0.015198</td>\n",
       "      <td>1.000000</td>\n",
       "    </tr>\n",
       "    <tr>\n",
       "      <th>96</th>\n",
       "      <td>169</td>\n",
       "      <td>96</td>\n",
       "      <td>0.014786</td>\n",
       "      <td>0.001053</td>\n",
       "      <td>-0.015319</td>\n",
       "      <td>0.033233</td>\n",
       "      <td>1.000000</td>\n",
       "    </tr>\n",
       "    <tr>\n",
       "      <th>97</th>\n",
       "      <td>169</td>\n",
       "      <td>97</td>\n",
       "      <td>0.014042</td>\n",
       "      <td>0.000361</td>\n",
       "      <td>-0.023776</td>\n",
       "      <td>-0.014778</td>\n",
       "      <td>0.554681</td>\n",
       "    </tr>\n",
       "    <tr>\n",
       "      <th>98</th>\n",
       "      <td>169</td>\n",
       "      <td>98</td>\n",
       "      <td>0.014109</td>\n",
       "      <td>0.000830</td>\n",
       "      <td>0.007890</td>\n",
       "      <td>-0.023235</td>\n",
       "      <td>1.000000</td>\n",
       "    </tr>\n",
       "    <tr>\n",
       "      <th>99</th>\n",
       "      <td>169</td>\n",
       "      <td>99</td>\n",
       "      <td>0.013959</td>\n",
       "      <td>0.001348</td>\n",
       "      <td>0.014687</td>\n",
       "      <td>0.008431</td>\n",
       "      <td>1.000000</td>\n",
       "    </tr>\n",
       "  </tbody>\n",
       "</table>\n",
       "<p>100 rows × 7 columns</p>\n",
       "</div>"
      ],
      "text/plain": [
       "    asset_identifier  date  volatility      yhat  target_return  \\\n",
       "0                169     0    0.012409  0.001499       0.000376   \n",
       "1                169     1    0.012518  0.001500       0.022665   \n",
       "2                169     2    0.012516  0.001443       0.017066   \n",
       "3                169     3    0.013098  0.001062      -0.018136   \n",
       "4                169     4    0.013390  0.000807      -0.008004   \n",
       "..               ...   ...         ...       ...            ...   \n",
       "95               169    95    0.014573  0.001237       0.032692   \n",
       "96               169    96    0.014786  0.001053      -0.015319   \n",
       "97               169    97    0.014042  0.000361      -0.023776   \n",
       "98               169    98    0.014109  0.000830       0.007890   \n",
       "99               169    99    0.013959  0.001348       0.014687   \n",
       "\n",
       "    realized_return    action  \n",
       "0         -0.010584  1.000000  \n",
       "1          0.000917  1.000000  \n",
       "2          0.023206  1.000000  \n",
       "3          0.017607  1.000000  \n",
       "4         -0.017595  1.000000  \n",
       "..              ...       ...  \n",
       "95         0.015198  1.000000  \n",
       "96         0.033233  1.000000  \n",
       "97        -0.014778  0.554681  \n",
       "98        -0.023235  1.000000  \n",
       "99         0.008431  1.000000  \n",
       "\n",
       "[100 rows x 7 columns]"
      ]
     },
     "execution_count": 65,
     "metadata": {},
     "output_type": "execute_result"
    }
   ],
   "source": [
    "df_valid"
   ]
  },
  {
   "cell_type": "code",
   "execution_count": 63,
   "metadata": {},
   "outputs": [
    {
     "data": {
      "text/plain": [
       "99"
      ]
     },
     "execution_count": 63,
     "metadata": {},
     "output_type": "execute_result"
    }
   ],
   "source": [
    "len(env.rewards_memory)"
   ]
  },
  {
   "cell_type": "code",
   "execution_count": 44,
   "metadata": {},
   "outputs": [
    {
     "data": {
      "text/plain": [
       "array([0.5515774], dtype=float32)"
      ]
     },
     "execution_count": 44,
     "metadata": {},
     "output_type": "execute_result"
    }
   ],
   "source": [
    "action"
   ]
  },
  {
   "cell_type": "code",
   "execution_count": 46,
   "metadata": {},
   "outputs": [
    {
     "data": {
      "text/plain": [
       "0.07794904377806944"
      ]
     },
     "execution_count": 46,
     "metadata": {},
     "output_type": "execute_result"
    }
   ],
   "source": [
    "reward"
   ]
  },
  {
   "cell_type": "code",
   "execution_count": 48,
   "metadata": {},
   "outputs": [
    {
     "data": {
      "text/plain": [
       "0.0077943495"
      ]
     },
     "execution_count": 48,
     "metadata": {},
     "output_type": "execute_result"
    }
   ],
   "source": [
    "0.05515 * 0.004711 * 30"
   ]
  },
  {
   "cell_type": "code",
   "execution_count": 45,
   "metadata": {},
   "outputs": [
    {
     "data": {
      "text/html": [
       "<div>\n",
       "<style scoped>\n",
       "    .dataframe tbody tr th:only-of-type {\n",
       "        vertical-align: middle;\n",
       "    }\n",
       "\n",
       "    .dataframe tbody tr th {\n",
       "        vertical-align: top;\n",
       "    }\n",
       "\n",
       "    .dataframe thead th {\n",
       "        text-align: right;\n",
       "    }\n",
       "</style>\n",
       "<table border=\"1\" class=\"dataframe\">\n",
       "  <thead>\n",
       "    <tr style=\"text-align: right;\">\n",
       "      <th></th>\n",
       "      <th>asset_identifier</th>\n",
       "      <th>date</th>\n",
       "      <th>volatility</th>\n",
       "      <th>yhat</th>\n",
       "      <th>target_return</th>\n",
       "      <th>realized_return</th>\n",
       "      <th>action</th>\n",
       "      <th>notional</th>\n",
       "      <th>vol</th>\n",
       "      <th>available_notional</th>\n",
       "      <th>average_notional</th>\n",
       "      <th>pnl</th>\n",
       "      <th>pnl_average</th>\n",
       "      <th>variance</th>\n",
       "      <th>average_variance</th>\n",
       "    </tr>\n",
       "  </thead>\n",
       "  <tbody>\n",
       "    <tr>\n",
       "      <th>0</th>\n",
       "      <td>174</td>\n",
       "      <td>0</td>\n",
       "      <td>0.016943</td>\n",
       "      <td>0.001477</td>\n",
       "      <td>0.004711</td>\n",
       "      <td>-0.015242</td>\n",
       "      <td>0.551577</td>\n",
       "      <td>0.055158</td>\n",
       "      <td>0.016943</td>\n",
       "      <td>0.662693</td>\n",
       "      <td>0.129749</td>\n",
       "      <td>0.000260</td>\n",
       "      <td>0.000611</td>\n",
       "      <td>8.733162e-07</td>\n",
       "      <td>0.000005</td>\n",
       "    </tr>\n",
       "    <tr>\n",
       "      <th>1</th>\n",
       "      <td>169</td>\n",
       "      <td>0</td>\n",
       "      <td>0.012409</td>\n",
       "      <td>0.001499</td>\n",
       "      <td>0.000917</td>\n",
       "      <td>-0.010584</td>\n",
       "      <td>0.555019</td>\n",
       "      <td>0.055502</td>\n",
       "      <td>0.012409</td>\n",
       "      <td>0.662693</td>\n",
       "      <td>0.129749</td>\n",
       "      <td>0.000051</td>\n",
       "      <td>0.000119</td>\n",
       "      <td>4.743456e-07</td>\n",
       "      <td>0.000003</td>\n",
       "    </tr>\n",
       "    <tr>\n",
       "      <th>2</th>\n",
       "      <td>138</td>\n",
       "      <td>0</td>\n",
       "      <td>0.012833</td>\n",
       "      <td>0.001394</td>\n",
       "      <td>0.010950</td>\n",
       "      <td>-0.013163</td>\n",
       "      <td>0.540723</td>\n",
       "      <td>0.054072</td>\n",
       "      <td>0.012833</td>\n",
       "      <td>0.662693</td>\n",
       "      <td>0.129749</td>\n",
       "      <td>0.000592</td>\n",
       "      <td>0.001421</td>\n",
       "      <td>4.814812e-07</td>\n",
       "      <td>0.000003</td>\n",
       "    </tr>\n",
       "    <tr>\n",
       "      <th>3</th>\n",
       "      <td>125</td>\n",
       "      <td>0</td>\n",
       "      <td>0.015086</td>\n",
       "      <td>0.001692</td>\n",
       "      <td>-0.005073</td>\n",
       "      <td>-0.014355</td>\n",
       "      <td>0.573805</td>\n",
       "      <td>0.057381</td>\n",
       "      <td>0.015086</td>\n",
       "      <td>0.662693</td>\n",
       "      <td>0.129749</td>\n",
       "      <td>-0.000291</td>\n",
       "      <td>-0.000658</td>\n",
       "      <td>7.493260e-07</td>\n",
       "      <td>0.000004</td>\n",
       "    </tr>\n",
       "    <tr>\n",
       "      <th>4</th>\n",
       "      <td>50</td>\n",
       "      <td>0</td>\n",
       "      <td>0.013534</td>\n",
       "      <td>0.001556</td>\n",
       "      <td>0.009019</td>\n",
       "      <td>0.003961</td>\n",
       "      <td>0.560789</td>\n",
       "      <td>0.056079</td>\n",
       "      <td>0.013534</td>\n",
       "      <td>0.662693</td>\n",
       "      <td>0.129749</td>\n",
       "      <td>0.000506</td>\n",
       "      <td>0.001170</td>\n",
       "      <td>5.760537e-07</td>\n",
       "      <td>0.000003</td>\n",
       "    </tr>\n",
       "    <tr>\n",
       "      <th>...</th>\n",
       "      <td>...</td>\n",
       "      <td>...</td>\n",
       "      <td>...</td>\n",
       "      <td>...</td>\n",
       "      <td>...</td>\n",
       "      <td>...</td>\n",
       "      <td>...</td>\n",
       "      <td>...</td>\n",
       "      <td>...</td>\n",
       "      <td>...</td>\n",
       "      <td>...</td>\n",
       "      <td>...</td>\n",
       "      <td>...</td>\n",
       "      <td>...</td>\n",
       "      <td>...</td>\n",
       "    </tr>\n",
       "    <tr>\n",
       "      <th>753</th>\n",
       "      <td>46</td>\n",
       "      <td>98</td>\n",
       "      <td>0.015907</td>\n",
       "      <td>0.000453</td>\n",
       "      <td>-0.013014</td>\n",
       "      <td>0.001715</td>\n",
       "      <td>0.109608</td>\n",
       "      <td>0.000000</td>\n",
       "      <td>0.016063</td>\n",
       "      <td>0.000000</td>\n",
       "      <td>0.129749</td>\n",
       "      <td>-0.000000</td>\n",
       "      <td>-0.001689</td>\n",
       "      <td>0.000000e+00</td>\n",
       "      <td>0.000004</td>\n",
       "    </tr>\n",
       "    <tr>\n",
       "      <th>754</th>\n",
       "      <td>174</td>\n",
       "      <td>98</td>\n",
       "      <td>0.017957</td>\n",
       "      <td>0.001148</td>\n",
       "      <td>0.008097</td>\n",
       "      <td>-0.021395</td>\n",
       "      <td>0.301400</td>\n",
       "      <td>0.199739</td>\n",
       "      <td>0.017957</td>\n",
       "      <td>0.000000</td>\n",
       "      <td>0.129749</td>\n",
       "      <td>0.001617</td>\n",
       "      <td>0.001051</td>\n",
       "      <td>1.286519e-05</td>\n",
       "      <td>0.000005</td>\n",
       "    </tr>\n",
       "    <tr>\n",
       "      <th>755</th>\n",
       "      <td>169</td>\n",
       "      <td>98</td>\n",
       "      <td>0.014109</td>\n",
       "      <td>0.000830</td>\n",
       "      <td>0.008431</td>\n",
       "      <td>-0.023235</td>\n",
       "      <td>0.036144</td>\n",
       "      <td>0.330228</td>\n",
       "      <td>0.014109</td>\n",
       "      <td>0.000000</td>\n",
       "      <td>0.129749</td>\n",
       "      <td>0.002784</td>\n",
       "      <td>0.001094</td>\n",
       "      <td>2.170781e-05</td>\n",
       "      <td>0.000003</td>\n",
       "    </tr>\n",
       "    <tr>\n",
       "      <th>756</th>\n",
       "      <td>50</td>\n",
       "      <td>98</td>\n",
       "      <td>0.021371</td>\n",
       "      <td>0.001276</td>\n",
       "      <td>-0.010926</td>\n",
       "      <td>0.018150</td>\n",
       "      <td>0.468095</td>\n",
       "      <td>0.053057</td>\n",
       "      <td>0.021371</td>\n",
       "      <td>0.000000</td>\n",
       "      <td>0.129749</td>\n",
       "      <td>-0.000580</td>\n",
       "      <td>-0.001418</td>\n",
       "      <td>1.285703e-06</td>\n",
       "      <td>0.000008</td>\n",
       "    </tr>\n",
       "    <tr>\n",
       "      <th>757</th>\n",
       "      <td>138</td>\n",
       "      <td>98</td>\n",
       "      <td>0.014577</td>\n",
       "      <td>0.001055</td>\n",
       "      <td>-0.001206</td>\n",
       "      <td>0.002216</td>\n",
       "      <td>0.240431</td>\n",
       "      <td>0.226040</td>\n",
       "      <td>0.014577</td>\n",
       "      <td>0.000000</td>\n",
       "      <td>0.129749</td>\n",
       "      <td>-0.000273</td>\n",
       "      <td>-0.000156</td>\n",
       "      <td>1.085644e-05</td>\n",
       "      <td>0.000004</td>\n",
       "    </tr>\n",
       "  </tbody>\n",
       "</table>\n",
       "<p>758 rows × 15 columns</p>\n",
       "</div>"
      ],
      "text/plain": [
       "     asset_identifier  date  volatility      yhat  target_return  \\\n",
       "0                 174     0    0.016943  0.001477       0.004711   \n",
       "1                 169     0    0.012409  0.001499       0.000917   \n",
       "2                 138     0    0.012833  0.001394       0.010950   \n",
       "3                 125     0    0.015086  0.001692      -0.005073   \n",
       "4                  50     0    0.013534  0.001556       0.009019   \n",
       "..                ...   ...         ...       ...            ...   \n",
       "753                46    98    0.015907  0.000453      -0.013014   \n",
       "754               174    98    0.017957  0.001148       0.008097   \n",
       "755               169    98    0.014109  0.000830       0.008431   \n",
       "756                50    98    0.021371  0.001276      -0.010926   \n",
       "757               138    98    0.014577  0.001055      -0.001206   \n",
       "\n",
       "     realized_return    action  notional       vol  available_notional  \\\n",
       "0          -0.015242  0.551577  0.055158  0.016943            0.662693   \n",
       "1          -0.010584  0.555019  0.055502  0.012409            0.662693   \n",
       "2          -0.013163  0.540723  0.054072  0.012833            0.662693   \n",
       "3          -0.014355  0.573805  0.057381  0.015086            0.662693   \n",
       "4           0.003961  0.560789  0.056079  0.013534            0.662693   \n",
       "..               ...       ...       ...       ...                 ...   \n",
       "753         0.001715  0.109608  0.000000  0.016063            0.000000   \n",
       "754        -0.021395  0.301400  0.199739  0.017957            0.000000   \n",
       "755        -0.023235  0.036144  0.330228  0.014109            0.000000   \n",
       "756         0.018150  0.468095  0.053057  0.021371            0.000000   \n",
       "757         0.002216  0.240431  0.226040  0.014577            0.000000   \n",
       "\n",
       "     average_notional       pnl  pnl_average      variance  average_variance  \n",
       "0            0.129749  0.000260     0.000611  8.733162e-07          0.000005  \n",
       "1            0.129749  0.000051     0.000119  4.743456e-07          0.000003  \n",
       "2            0.129749  0.000592     0.001421  4.814812e-07          0.000003  \n",
       "3            0.129749 -0.000291    -0.000658  7.493260e-07          0.000004  \n",
       "4            0.129749  0.000506     0.001170  5.760537e-07          0.000003  \n",
       "..                ...       ...          ...           ...               ...  \n",
       "753          0.129749 -0.000000    -0.001689  0.000000e+00          0.000004  \n",
       "754          0.129749  0.001617     0.001051  1.286519e-05          0.000005  \n",
       "755          0.129749  0.002784     0.001094  2.170781e-05          0.000003  \n",
       "756          0.129749 -0.000580    -0.001418  1.285703e-06          0.000008  \n",
       "757          0.129749 -0.000273    -0.000156  1.085644e-05          0.000004  \n",
       "\n",
       "[758 rows x 15 columns]"
      ]
     },
     "execution_count": 45,
     "metadata": {},
     "output_type": "execute_result"
    }
   ],
   "source": [
    "df_results"
   ]
  },
  {
   "cell_type": "code",
   "execution_count": 50,
   "metadata": {},
   "outputs": [],
   "source": [
    "action, _ = model.predict(obs, deterministic = True)\n",
    "obs, reward, done, hidden_state = env.step(action)"
   ]
  },
  {
   "cell_type": "code",
   "execution_count": 46,
   "metadata": {},
   "outputs": [
    {
     "data": {
      "text/plain": [
       "{'portfolio_volatility': 0.0009162610978275228,\n",
       " 'stock_volatility': 0.012409072890145388,\n",
       " 'stock_prediction': 0.00149919418618083,\n",
       " 'available_notional': 0.9459195919334888,\n",
       " 'stock_notional': 0.0}"
      ]
     },
     "execution_count": 46,
     "metadata": {},
     "output_type": "execute_result"
    }
   ],
   "source": [
    "env.state_to_features(True)"
   ]
  },
  {
   "cell_type": "code",
   "execution_count": 51,
   "metadata": {},
   "outputs": [
    {
     "data": {
      "text/plain": [
       "array([0.41854703], dtype=float32)"
      ]
     },
     "execution_count": 51,
     "metadata": {},
     "output_type": "execute_result"
    }
   ],
   "source": [
    "action"
   ]
  },
  {
   "cell_type": "code",
   "execution_count": 56,
   "metadata": {},
   "outputs": [
    {
     "data": {
      "text/plain": [
       "5.265160101418453"
      ]
     },
     "execution_count": 56,
     "metadata": {},
     "output_type": "execute_result"
    }
   ],
   "source": [
    "df_results['pnl'].sum()*30"
   ]
  },
  {
   "cell_type": "code",
   "execution_count": null,
   "metadata": {},
   "outputs": [],
   "source": [
    "hidden_state = pd.concat(list_hidden_state)\n",
    "return list_actions, hidden_state, env"
   ]
  }
 ],
 "metadata": {
  "kernelspec": {
   "display_name": "Python 3",
   "language": "python",
   "name": "python3"
  },
  "language_info": {
   "codemirror_mode": {
    "name": "ipython",
    "version": 3
   },
   "file_extension": ".py",
   "mimetype": "text/x-python",
   "name": "python",
   "nbconvert_exporter": "python",
   "pygments_lexer": "ipython3",
   "version": "3.8.5"
  }
 },
 "nbformat": 4,
 "nbformat_minor": 4
}
