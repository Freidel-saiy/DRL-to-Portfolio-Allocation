{
 "cells": [
  {
   "cell_type": "code",
   "execution_count": 1,
   "metadata": {},
   "outputs": [],
   "source": [
    "%load_ext autoreload\n",
    "%autoreload 2"
   ]
  },
  {
   "cell_type": "code",
   "execution_count": 2,
   "metadata": {},
   "outputs": [],
   "source": [
    "import pandas as pd\n",
    "import numpy as np\n",
    "import matplotlib.pyplot as plt\n",
    "plt.style.use('dark_background')\n",
    "%matplotlib inline\n",
    "from stable_baselines3 import PPO, A2C\n",
    "from IPython.display import clear_output"
   ]
  },
  {
   "cell_type": "code",
   "execution_count": 3,
   "metadata": {},
   "outputs": [],
   "source": [
    "import sys\n",
    "sys.path.append(r\"C:\\Users\\fidel\\OneDrive\\Documentos\\Mestrado\\code\")\n",
    "from RL_trading_envs import StockWithVolHold\n"
   ]
  },
  {
   "cell_type": "code",
   "execution_count": 4,
   "metadata": {},
   "outputs": [],
   "source": [
    "def pnl_metric(y, yhat):\n",
    "    return sum(y * yhat)"
   ]
  },
  {
   "cell_type": "code",
   "execution_count": 5,
   "metadata": {},
   "outputs": [],
   "source": [
    "# agent_parameters = dict(learning_rate=0.0003,\n",
    "#                         n_steps=2048,\n",
    "#                         batch_size=64,\n",
    "#                         n_epochs=10)\n",
    "# agent_parameters = dict(learning_rate=0.0003,\n",
    "#                         n_steps=2048,\n",
    "#                         batch_size=2048,\n",
    "#                         n_epochs=1)\n",
    "agent_parameters = {}\n",
    "def fit_rl(df_valid, agent_parameters):\n",
    "    env   = StockWithVolHold(df_valid)\n",
    "    model = PPO('MlpPolicy', env, verbose=0, **agent_parameters)\n",
    "    list_results = []\n",
    "    for i in range(10):\n",
    "        clear_output(wait=True)\n",
    "        model.learn(total_timesteps=len(df_valid), reset_num_timesteps = False)\n",
    "#         yhat = get_actions(df_valid, model).reshape(-1)\n",
    "#         list_results.append(pnl_metric(y, yhat))\n",
    "#         plt.plot(list_results)\n",
    "#         plt.show()\n",
    "#         plt.hist(yhat)\n",
    "#         plt.show()\n",
    "        print(i)\n",
    "    return model\n"
   ]
  },
  {
   "cell_type": "code",
   "execution_count": 6,
   "metadata": {},
   "outputs": [],
   "source": [
    "%matplotlib inline"
   ]
  },
  {
   "cell_type": "code",
   "execution_count": 25,
   "metadata": {},
   "outputs": [
    {
     "data": {
      "text/plain": [
       "(60, 7)"
      ]
     },
     "execution_count": 25,
     "metadata": {},
     "output_type": "execute_result"
    }
   ],
   "source": [
    "cell1 = dict(asset_identifier = [0, 1],\n",
    "                         date = [0, 0],\n",
    "                   volatility = [0.01, 0.01],\n",
    "                         yhat = [1e-3, -1e-3],\n",
    "                target_return = [0.01, -0.01],\n",
    "              realized_return = [0, 0])\n",
    "\n",
    "cell2 = dict(asset_identifier = [0, 1],\n",
    "                         date = [0, 0],\n",
    "                   volatility = [0.01, 0.01],\n",
    "                         yhat = [-1e-3, 1e-3],\n",
    "                target_return = [-0.01, 0.01],\n",
    "              realized_return = [0, 0])\n",
    "\n",
    "list_df_valid = []\n",
    "np.random.seed(0)\n",
    "for date in range(30):\n",
    "    if np.random.uniform() > 0.5:\n",
    "        cell = cell1\n",
    "    else:\n",
    "        cell = cell2\n",
    "    df_valid_cell = pd.DataFrame(cell)\n",
    "    df_valid_cell.loc[:, 'date'] = date\n",
    "    list_df_valid.append(df_valid_cell)\n",
    "df_valid = pd.concat(list_df_valid).reset_index()\n",
    "df_valid.shape"
   ]
  },
  {
   "cell_type": "code",
   "execution_count": 26,
   "metadata": {
    "scrolled": true
   },
   "outputs": [
    {
     "name": "stdout",
     "output_type": "stream",
     "text": [
      "NEW DAY: 7\n",
      "NEW DAY: 8\n",
      "NEW DAY: 9\n",
      "NEW DAY: 10\n",
      "NEW DAY: 11\n",
      "NEW DAY: 12\n",
      "NEW DAY: 13\n",
      "NEW DAY: 14\n",
      "NEW DAY: 15\n",
      "NEW DAY: 16\n",
      "NEW DAY: 17\n",
      "NEW DAY: 18\n",
      "NEW DAY: 19\n",
      "NEW DAY: 20\n",
      "NEW DAY: 21\n",
      "NEW DAY: 22\n",
      "NEW DAY: 23\n",
      "NEW DAY: 24\n",
      "NEW DAY: 25\n",
      "NEW DAY: 26\n",
      "NEW DAY: 27\n",
      "NEW DAY: 28\n",
      "NEW DAY: 29\n",
      "NEW DAY: 1\n",
      "NEW DAY: 2\n",
      "NEW DAY: 3\n",
      "NEW DAY: 4\n",
      "NEW DAY: 5\n",
      "NEW DAY: 6\n",
      "NEW DAY: 7\n",
      "NEW DAY: 8\n",
      "NEW DAY: 9\n",
      "NEW DAY: 10\n",
      "NEW DAY: 11\n",
      "NEW DAY: 12\n",
      "NEW DAY: 13\n",
      "NEW DAY: 14\n",
      "NEW DAY: 15\n",
      "NEW DAY: 16\n",
      "NEW DAY: 17\n",
      "NEW DAY: 18\n",
      "NEW DAY: 19\n",
      "NEW DAY: 20\n",
      "NEW DAY: 21\n",
      "NEW DAY: 22\n",
      "NEW DAY: 23\n",
      "NEW DAY: 24\n",
      "NEW DAY: 25\n",
      "NEW DAY: 26\n",
      "NEW DAY: 27\n",
      "NEW DAY: 28\n",
      "NEW DAY: 29\n",
      "NEW DAY: 1\n",
      "NEW DAY: 2\n",
      "NEW DAY: 3\n",
      "NEW DAY: 4\n",
      "NEW DAY: 5\n",
      "NEW DAY: 6\n",
      "NEW DAY: 7\n",
      "NEW DAY: 8\n",
      "NEW DAY: 9\n",
      "NEW DAY: 10\n",
      "NEW DAY: 11\n",
      "NEW DAY: 12\n",
      "NEW DAY: 13\n",
      "NEW DAY: 14\n",
      "NEW DAY: 15\n",
      "NEW DAY: 16\n",
      "NEW DAY: 17\n",
      "NEW DAY: 18\n",
      "NEW DAY: 19\n",
      "NEW DAY: 20\n",
      "NEW DAY: 21\n",
      "NEW DAY: 22\n",
      "NEW DAY: 23\n",
      "NEW DAY: 24\n",
      "NEW DAY: 25\n",
      "NEW DAY: 26\n",
      "NEW DAY: 27\n",
      "NEW DAY: 28\n",
      "NEW DAY: 29\n",
      "NEW DAY: 1\n",
      "NEW DAY: 2\n",
      "NEW DAY: 3\n",
      "NEW DAY: 4\n",
      "NEW DAY: 5\n",
      "NEW DAY: 6\n",
      "NEW DAY: 7\n",
      "NEW DAY: 8\n",
      "NEW DAY: 9\n",
      "NEW DAY: 10\n",
      "NEW DAY: 11\n",
      "NEW DAY: 12\n",
      "NEW DAY: 13\n",
      "NEW DAY: 14\n",
      "NEW DAY: 15\n",
      "NEW DAY: 16\n",
      "NEW DAY: 17\n",
      "NEW DAY: 18\n",
      "NEW DAY: 19\n",
      "NEW DAY: 20\n",
      "NEW DAY: 21\n",
      "NEW DAY: 22\n",
      "NEW DAY: 23\n",
      "NEW DAY: 24\n",
      "NEW DAY: 25\n",
      "NEW DAY: 26\n",
      "NEW DAY: 27\n",
      "NEW DAY: 28\n",
      "NEW DAY: 29\n",
      "NEW DAY: 1\n",
      "NEW DAY: 2\n",
      "NEW DAY: 3\n",
      "NEW DAY: 4\n",
      "NEW DAY: 5\n",
      "NEW DAY: 6\n",
      "NEW DAY: 7\n",
      "NEW DAY: 8\n",
      "NEW DAY: 9\n",
      "NEW DAY: 10\n",
      "NEW DAY: 11\n",
      "NEW DAY: 12\n",
      "NEW DAY: 13\n",
      "NEW DAY: 14\n",
      "NEW DAY: 15\n",
      "NEW DAY: 16\n",
      "NEW DAY: 17\n",
      "NEW DAY: 18\n",
      "NEW DAY: 19\n",
      "NEW DAY: 20\n",
      "NEW DAY: 21\n",
      "NEW DAY: 22\n",
      "NEW DAY: 23\n",
      "NEW DAY: 24\n",
      "NEW DAY: 25\n",
      "NEW DAY: 26\n",
      "NEW DAY: 27\n",
      "NEW DAY: 28\n",
      "NEW DAY: 29\n",
      "NEW DAY: 1\n",
      "NEW DAY: 2\n",
      "NEW DAY: 3\n",
      "NEW DAY: 4\n",
      "NEW DAY: 5\n",
      "NEW DAY: 6\n",
      "NEW DAY: 7\n",
      "NEW DAY: 8\n",
      "NEW DAY: 9\n",
      "NEW DAY: 10\n",
      "NEW DAY: 11\n",
      "NEW DAY: 12\n",
      "NEW DAY: 13\n",
      "NEW DAY: 14\n",
      "NEW DAY: 15\n"
     ]
    },
    {
     "name": "stderr",
     "output_type": "stream",
     "text": [
      "C:\\Users\\fidel\\OneDrive\\Documentos\\Mestrado\\code\\RL_trading_envs.py:517: RuntimeWarning: invalid value encountered in double_scalars\n",
      "  portfolio_volatility = (portfolio_volatility**2 - (initial_stock_notional * stock_volatility)**2 + (stock_notional * stock_volatility)**2)**0.5\n",
      "C:\\Users\\fidel\\OneDrive\\Documentos\\Mestrado\\code\\RL_trading_envs.py:612: RuntimeWarning: invalid value encountered in double_scalars\n",
      "  portfolio_volatility = (portfolio_volatility ** 2 - (initial_stock_notional * stock_volatility)**2 + (stock_notional * stock_volatility)**2) **0.5\n"
     ]
    },
    {
     "name": "stdout",
     "output_type": "stream",
     "text": [
      "NEW DAY: 16\n",
      "NEW DAY: 17\n",
      "NEW DAY: 18\n",
      "NEW DAY: 19\n",
      "NEW DAY: 20\n",
      "NEW DAY: 21\n",
      "NEW DAY: 22\n",
      "NEW DAY: 23\n",
      "NEW DAY: 24\n",
      "NEW DAY: 25\n",
      "NEW DAY: 26\n",
      "NEW DAY: 27\n",
      "NEW DAY: 28\n",
      "NEW DAY: 29\n",
      "NEW DAY: 1\n",
      "NEW DAY: 2\n",
      "NEW DAY: 3\n",
      "NEW DAY: 4\n",
      "NEW DAY: 5\n",
      "NEW DAY: 6\n",
      "NEW DAY: 7\n",
      "NEW DAY: 8\n",
      "NEW DAY: 9\n",
      "NEW DAY: 10\n",
      "NEW DAY: 11\n",
      "NEW DAY: 12\n",
      "NEW DAY: 13\n",
      "NEW DAY: 14\n",
      "NEW DAY: 15\n",
      "NEW DAY: 16\n",
      "NEW DAY: 17\n",
      "NEW DAY: 18\n",
      "NEW DAY: 19\n",
      "NEW DAY: 20\n",
      "NEW DAY: 21\n",
      "NEW DAY: 22\n",
      "NEW DAY: 23\n",
      "NEW DAY: 24\n",
      "NEW DAY: 25\n",
      "NEW DAY: 26\n",
      "NEW DAY: 27\n",
      "NEW DAY: 28\n",
      "NEW DAY: 29\n",
      "NEW DAY: 1\n",
      "NEW DAY: 2\n",
      "NEW DAY: 3\n",
      "NEW DAY: 4\n",
      "NEW DAY: 5\n",
      "NEW DAY: 6\n",
      "NEW DAY: 7\n",
      "NEW DAY: 8\n",
      "NEW DAY: 9\n",
      "NEW DAY: 10\n",
      "NEW DAY: 11\n",
      "NEW DAY: 12\n",
      "NEW DAY: 13\n",
      "NEW DAY: 14\n",
      "NEW DAY: 15\n",
      "NEW DAY: 16\n",
      "NEW DAY: 17\n",
      "NEW DAY: 18\n",
      "NEW DAY: 19\n",
      "NEW DAY: 20\n",
      "NEW DAY: 21\n",
      "NEW DAY: 22\n",
      "NEW DAY: 23\n",
      "NEW DAY: 24\n",
      "NEW DAY: 25\n",
      "NEW DAY: 26\n",
      "NEW DAY: 27\n",
      "NEW DAY: 28\n",
      "NEW DAY: 29\n",
      "NEW DAY: 1\n",
      "NEW DAY: 2\n",
      "NEW DAY: 3\n",
      "NEW DAY: 4\n",
      "NEW DAY: 5\n",
      "NEW DAY: 6\n",
      "NEW DAY: 7\n",
      "NEW DAY: 8\n",
      "NEW DAY: 9\n",
      "NEW DAY: 10\n",
      "NEW DAY: 11\n",
      "NEW DAY: 12\n",
      "NEW DAY: 13\n",
      "NEW DAY: 14\n",
      "NEW DAY: 15\n",
      "NEW DAY: 16\n",
      "NEW DAY: 17\n",
      "NEW DAY: 18\n",
      "NEW DAY: 19\n",
      "NEW DAY: 20\n",
      "NEW DAY: 21\n",
      "NEW DAY: 22\n",
      "NEW DAY: 23\n",
      "NEW DAY: 24\n",
      "NEW DAY: 25\n",
      "NEW DAY: 26\n",
      "NEW DAY: 27\n",
      "NEW DAY: 28\n",
      "NEW DAY: 29\n",
      "NEW DAY: 1\n",
      "NEW DAY: 2\n",
      "NEW DAY: 3\n",
      "NEW DAY: 4\n",
      "NEW DAY: 5\n",
      "NEW DAY: 6\n",
      "NEW DAY: 7\n",
      "NEW DAY: 8\n",
      "NEW DAY: 9\n",
      "NEW DAY: 10\n",
      "NEW DAY: 11\n",
      "NEW DAY: 12\n",
      "NEW DAY: 13\n",
      "NEW DAY: 14\n",
      "NEW DAY: 15\n",
      "NEW DAY: 16\n",
      "NEW DAY: 17\n",
      "NEW DAY: 18\n",
      "NEW DAY: 19\n",
      "NEW DAY: 20\n",
      "NEW DAY: 21\n",
      "NEW DAY: 22\n",
      "NEW DAY: 23\n",
      "NEW DAY: 24\n",
      "NEW DAY: 25\n",
      "NEW DAY: 26\n",
      "NEW DAY: 27\n",
      "NEW DAY: 28\n",
      "NEW DAY: 29\n",
      "NEW DAY: 1\n",
      "NEW DAY: 2\n",
      "NEW DAY: 3\n",
      "NEW DAY: 4\n",
      "NEW DAY: 5\n",
      "NEW DAY: 6\n",
      "NEW DAY: 7\n",
      "NEW DAY: 8\n",
      "NEW DAY: 9\n",
      "NEW DAY: 10\n",
      "NEW DAY: 11\n",
      "NEW DAY: 12\n",
      "NEW DAY: 13\n",
      "NEW DAY: 14\n",
      "NEW DAY: 15\n",
      "NEW DAY: 16\n",
      "NEW DAY: 17\n",
      "NEW DAY: 18\n",
      "NEW DAY: 19\n",
      "NEW DAY: 20\n",
      "NEW DAY: 21\n",
      "NEW DAY: 22\n",
      "NEW DAY: 23\n",
      "NEW DAY: 24\n",
      "NEW DAY: 25\n",
      "NEW DAY: 26\n",
      "NEW DAY: 27\n",
      "NEW DAY: 28\n",
      "NEW DAY: 29\n",
      "NEW DAY: 1\n",
      "NEW DAY: 2\n",
      "NEW DAY: 3\n",
      "NEW DAY: 4\n",
      "NEW DAY: 5\n",
      "NEW DAY: 6\n",
      "NEW DAY: 7\n",
      "NEW DAY: 8\n",
      "NEW DAY: 9\n",
      "NEW DAY: 10\n",
      "NEW DAY: 11\n",
      "NEW DAY: 12\n",
      "NEW DAY: 13\n",
      "NEW DAY: 14\n",
      "NEW DAY: 15\n",
      "NEW DAY: 16\n",
      "NEW DAY: 17\n",
      "NEW DAY: 18\n",
      "NEW DAY: 19\n",
      "NEW DAY: 20\n",
      "NEW DAY: 21\n",
      "NEW DAY: 22\n",
      "NEW DAY: 23\n",
      "NEW DAY: 24\n",
      "NEW DAY: 25\n",
      "NEW DAY: 26\n",
      "NEW DAY: 27\n",
      "NEW DAY: 28\n",
      "NEW DAY: 29\n",
      "NEW DAY: 1\n",
      "NEW DAY: 2\n",
      "NEW DAY: 3\n",
      "NEW DAY: 4\n",
      "NEW DAY: 5\n",
      "NEW DAY: 6\n",
      "NEW DAY: 7\n",
      "NEW DAY: 8\n",
      "NEW DAY: 9\n",
      "NEW DAY: 10\n",
      "NEW DAY: 11\n",
      "NEW DAY: 12\n",
      "NEW DAY: 13\n",
      "NEW DAY: 14\n",
      "NEW DAY: 15\n",
      "NEW DAY: 16\n",
      "NEW DAY: 17\n",
      "NEW DAY: 18\n",
      "NEW DAY: 19\n",
      "NEW DAY: 20\n",
      "NEW DAY: 21\n",
      "NEW DAY: 22\n",
      "NEW DAY: 23\n",
      "NEW DAY: 24\n",
      "NEW DAY: 25\n",
      "NEW DAY: 26\n",
      "NEW DAY: 27\n",
      "NEW DAY: 28\n",
      "NEW DAY: 29\n",
      "NEW DAY: 1\n",
      "NEW DAY: 2\n",
      "NEW DAY: 3\n",
      "NEW DAY: 4\n",
      "NEW DAY: 5\n",
      "NEW DAY: 6\n",
      "NEW DAY: 7\n",
      "NEW DAY: 8\n",
      "NEW DAY: 9\n",
      "NEW DAY: 10\n",
      "NEW DAY: 11\n",
      "NEW DAY: 12\n",
      "NEW DAY: 13\n",
      "NEW DAY: 14\n",
      "NEW DAY: 15\n",
      "NEW DAY: 16\n",
      "NEW DAY: 17\n",
      "NEW DAY: 18\n",
      "NEW DAY: 19\n",
      "NEW DAY: 20\n",
      "NEW DAY: 21\n",
      "NEW DAY: 22\n",
      "NEW DAY: 23\n",
      "NEW DAY: 24\n",
      "NEW DAY: 25\n",
      "NEW DAY: 26\n",
      "NEW DAY: 27\n",
      "NEW DAY: 28\n",
      "NEW DAY: 29\n",
      "NEW DAY: 1\n",
      "NEW DAY: 2\n",
      "NEW DAY: 3\n",
      "NEW DAY: 4\n",
      "NEW DAY: 5\n",
      "NEW DAY: 6\n",
      "NEW DAY: 7\n",
      "NEW DAY: 8\n",
      "NEW DAY: 9\n",
      "NEW DAY: 10\n",
      "NEW DAY: 11\n",
      "NEW DAY: 12\n",
      "NEW DAY: 13\n",
      "NEW DAY: 14\n",
      "NEW DAY: 15\n",
      "NEW DAY: 16\n",
      "NEW DAY: 17\n",
      "NEW DAY: 18\n",
      "NEW DAY: 19\n",
      "NEW DAY: 20\n",
      "NEW DAY: 21\n",
      "NEW DAY: 22\n",
      "NEW DAY: 23\n",
      "NEW DAY: 24\n",
      "NEW DAY: 25\n",
      "NEW DAY: 26\n",
      "NEW DAY: 27\n",
      "NEW DAY: 28\n",
      "NEW DAY: 29\n",
      "NEW DAY: 1\n",
      "NEW DAY: 2\n",
      "NEW DAY: 3\n",
      "NEW DAY: 4\n",
      "NEW DAY: 5\n",
      "NEW DAY: 6\n",
      "NEW DAY: 7\n",
      "NEW DAY: 8\n",
      "NEW DAY: 9\n",
      "NEW DAY: 10\n",
      "NEW DAY: 11\n",
      "NEW DAY: 12\n",
      "NEW DAY: 13\n",
      "NEW DAY: 14\n",
      "NEW DAY: 15\n",
      "NEW DAY: 16\n",
      "NEW DAY: 17\n",
      "NEW DAY: 18\n",
      "NEW DAY: 19\n",
      "NEW DAY: 20\n",
      "NEW DAY: 21\n",
      "NEW DAY: 22\n",
      "NEW DAY: 23\n",
      "NEW DAY: 24\n",
      "NEW DAY: 25\n",
      "NEW DAY: 26\n",
      "NEW DAY: 27\n",
      "NEW DAY: 28\n",
      "NEW DAY: 29\n",
      "NEW DAY: 1\n"
     ]
    },
    {
     "name": "stderr",
     "output_type": "stream",
     "text": [
      "C:\\Users\\fidel\\OneDrive\\Documentos\\Mestrado\\code\\RL_trading_envs.py:517: RuntimeWarning: invalid value encountered in double_scalars\n",
      "  portfolio_volatility = (portfolio_volatility**2 - (initial_stock_notional * stock_volatility)**2 + (stock_notional * stock_volatility)**2)**0.5\n",
      "C:\\Users\\fidel\\OneDrive\\Documentos\\Mestrado\\code\\RL_trading_envs.py:612: RuntimeWarning: invalid value encountered in double_scalars\n",
      "  portfolio_volatility = (portfolio_volatility ** 2 - (initial_stock_notional * stock_volatility)**2 + (stock_notional * stock_volatility)**2) **0.5\n",
      "C:\\Users\\fidel\\OneDrive\\Documentos\\Mestrado\\code\\RL_trading_envs.py:517: RuntimeWarning: invalid value encountered in double_scalars\n",
      "  portfolio_volatility = (portfolio_volatility**2 - (initial_stock_notional * stock_volatility)**2 + (stock_notional * stock_volatility)**2)**0.5\n",
      "C:\\Users\\fidel\\OneDrive\\Documentos\\Mestrado\\code\\RL_trading_envs.py:612: RuntimeWarning: invalid value encountered in double_scalars\n",
      "  portfolio_volatility = (portfolio_volatility ** 2 - (initial_stock_notional * stock_volatility)**2 + (stock_notional * stock_volatility)**2) **0.5\n",
      "C:\\Users\\fidel\\OneDrive\\Documentos\\Mestrado\\code\\RL_trading_envs.py:517: RuntimeWarning: invalid value encountered in double_scalars\n",
      "  portfolio_volatility = (portfolio_volatility**2 - (initial_stock_notional * stock_volatility)**2 + (stock_notional * stock_volatility)**2)**0.5\n",
      "C:\\Users\\fidel\\OneDrive\\Documentos\\Mestrado\\code\\RL_trading_envs.py:612: RuntimeWarning: invalid value encountered in double_scalars\n",
      "  portfolio_volatility = (portfolio_volatility ** 2 - (initial_stock_notional * stock_volatility)**2 + (stock_notional * stock_volatility)**2) **0.5\n"
     ]
    },
    {
     "name": "stdout",
     "output_type": "stream",
     "text": [
      "NEW DAY: 2\n",
      "NEW DAY: 3\n",
      "NEW DAY: 4\n",
      "NEW DAY: 5\n",
      "NEW DAY: 6\n",
      "NEW DAY: 7\n",
      "NEW DAY: 8\n",
      "NEW DAY: 9\n",
      "NEW DAY: 10\n",
      "NEW DAY: 11\n",
      "NEW DAY: 12\n",
      "NEW DAY: 13\n",
      "NEW DAY: 14\n",
      "NEW DAY: 15\n",
      "NEW DAY: 16\n",
      "NEW DAY: 17\n",
      "NEW DAY: 18\n",
      "NEW DAY: 19\n",
      "NEW DAY: 20\n",
      "NEW DAY: 21\n",
      "NEW DAY: 22\n",
      "NEW DAY: 23\n",
      "NEW DAY: 24\n",
      "NEW DAY: 25\n",
      "NEW DAY: 26\n",
      "NEW DAY: 27\n",
      "NEW DAY: 28\n",
      "NEW DAY: 29\n",
      "NEW DAY: 1\n",
      "NEW DAY: 2\n",
      "NEW DAY: 3\n",
      "NEW DAY: 4\n",
      "NEW DAY: 5\n",
      "NEW DAY: 6\n",
      "NEW DAY: 7\n",
      "NEW DAY: 8\n",
      "NEW DAY: 9\n",
      "NEW DAY: 10\n",
      "NEW DAY: 11\n",
      "NEW DAY: 12\n",
      "NEW DAY: 13\n",
      "NEW DAY: 14\n",
      "NEW DAY: 15\n",
      "NEW DAY: 16\n",
      "NEW DAY: 17\n",
      "NEW DAY: 18\n",
      "NEW DAY: 19\n",
      "NEW DAY: 20\n",
      "NEW DAY: 21\n",
      "NEW DAY: 22\n",
      "NEW DAY: 23\n",
      "NEW DAY: 24\n",
      "NEW DAY: 25\n",
      "NEW DAY: 26\n",
      "NEW DAY: 27\n",
      "NEW DAY: 28\n",
      "NEW DAY: 29\n",
      "NEW DAY: 1\n",
      "NEW DAY: 2\n",
      "NEW DAY: 3\n",
      "NEW DAY: 4\n",
      "NEW DAY: 5\n",
      "NEW DAY: 6\n",
      "NEW DAY: 7\n",
      "NEW DAY: 8\n",
      "NEW DAY: 9\n",
      "NEW DAY: 10\n",
      "NEW DAY: 11\n",
      "NEW DAY: 12\n",
      "NEW DAY: 13\n",
      "NEW DAY: 14\n",
      "NEW DAY: 15\n",
      "NEW DAY: 16\n",
      "NEW DAY: 17\n",
      "NEW DAY: 18\n",
      "NEW DAY: 19\n",
      "NEW DAY: 20\n",
      "NEW DAY: 21\n",
      "NEW DAY: 22\n",
      "NEW DAY: 23\n",
      "NEW DAY: 24\n",
      "NEW DAY: 25\n",
      "NEW DAY: 26\n",
      "NEW DAY: 27\n",
      "NEW DAY: 28\n",
      "NEW DAY: 29\n",
      "NEW DAY: 1\n",
      "NEW DAY: 2\n",
      "NEW DAY: 3\n",
      "NEW DAY: 4\n",
      "NEW DAY: 5\n",
      "NEW DAY: 6\n",
      "NEW DAY: 7\n",
      "NEW DAY: 8\n",
      "NEW DAY: 9\n",
      "NEW DAY: 10\n",
      "NEW DAY: 11\n",
      "NEW DAY: 12\n",
      "NEW DAY: 13\n",
      "NEW DAY: 14\n",
      "NEW DAY: 15\n",
      "NEW DAY: 16\n",
      "NEW DAY: 17\n",
      "NEW DAY: 18\n"
     ]
    },
    {
     "name": "stderr",
     "output_type": "stream",
     "text": [
      "C:\\Users\\fidel\\OneDrive\\Documentos\\Mestrado\\code\\RL_trading_envs.py:517: RuntimeWarning: invalid value encountered in double_scalars\n",
      "  portfolio_volatility = (portfolio_volatility**2 - (initial_stock_notional * stock_volatility)**2 + (stock_notional * stock_volatility)**2)**0.5\n",
      "C:\\Users\\fidel\\OneDrive\\Documentos\\Mestrado\\code\\RL_trading_envs.py:612: RuntimeWarning: invalid value encountered in double_scalars\n",
      "  portfolio_volatility = (portfolio_volatility ** 2 - (initial_stock_notional * stock_volatility)**2 + (stock_notional * stock_volatility)**2) **0.5\n"
     ]
    },
    {
     "name": "stdout",
     "output_type": "stream",
     "text": [
      "NEW DAY: 19\n",
      "NEW DAY: 20\n",
      "NEW DAY: 21\n",
      "NEW DAY: 22\n",
      "NEW DAY: 23\n",
      "NEW DAY: 24\n",
      "NEW DAY: 25\n",
      "NEW DAY: 26\n",
      "NEW DAY: 27\n",
      "NEW DAY: 28\n",
      "NEW DAY: 29\n",
      "NEW DAY: 1\n",
      "NEW DAY: 2\n",
      "NEW DAY: 3\n",
      "NEW DAY: 4\n",
      "NEW DAY: 5\n",
      "NEW DAY: 6\n",
      "NEW DAY: 7\n",
      "NEW DAY: 8\n",
      "NEW DAY: 9\n",
      "NEW DAY: 10\n",
      "NEW DAY: 11\n",
      "NEW DAY: 12\n",
      "NEW DAY: 13\n",
      "NEW DAY: 14\n",
      "NEW DAY: 15\n",
      "NEW DAY: 16\n",
      "NEW DAY: 17\n",
      "NEW DAY: 18\n",
      "NEW DAY: 19\n",
      "NEW DAY: 20\n",
      "NEW DAY: 21\n",
      "NEW DAY: 22\n",
      "NEW DAY: 23\n",
      "NEW DAY: 24\n",
      "NEW DAY: 25\n",
      "NEW DAY: 26\n",
      "NEW DAY: 27\n",
      "NEW DAY: 28\n",
      "NEW DAY: 29\n",
      "NEW DAY: 1\n",
      "NEW DAY: 2\n",
      "NEW DAY: 3\n",
      "NEW DAY: 4\n",
      "NEW DAY: 5\n",
      "NEW DAY: 6\n",
      "NEW DAY: 7\n",
      "NEW DAY: 8\n",
      "NEW DAY: 9\n",
      "NEW DAY: 10\n",
      "NEW DAY: 11\n",
      "NEW DAY: 12\n",
      "NEW DAY: 13\n",
      "NEW DAY: 14\n",
      "NEW DAY: 15\n",
      "NEW DAY: 16\n",
      "NEW DAY: 17\n",
      "NEW DAY: 18\n",
      "NEW DAY: 19\n",
      "NEW DAY: 20\n",
      "NEW DAY: 21\n",
      "NEW DAY: 22\n",
      "NEW DAY: 23\n",
      "NEW DAY: 24\n",
      "NEW DAY: 25\n",
      "NEW DAY: 26\n",
      "NEW DAY: 27\n",
      "NEW DAY: 28\n",
      "NEW DAY: 29\n"
     ]
    },
    {
     "name": "stderr",
     "output_type": "stream",
     "text": [
      "C:\\Users\\fidel\\OneDrive\\Documentos\\Mestrado\\code\\RL_trading_envs.py:517: RuntimeWarning: invalid value encountered in double_scalars\n",
      "  portfolio_volatility = (portfolio_volatility**2 - (initial_stock_notional * stock_volatility)**2 + (stock_notional * stock_volatility)**2)**0.5\n",
      "C:\\Users\\fidel\\OneDrive\\Documentos\\Mestrado\\code\\RL_trading_envs.py:612: RuntimeWarning: invalid value encountered in double_scalars\n",
      "  portfolio_volatility = (portfolio_volatility ** 2 - (initial_stock_notional * stock_volatility)**2 + (stock_notional * stock_volatility)**2) **0.5\n",
      "C:\\Users\\fidel\\OneDrive\\Documentos\\Mestrado\\code\\RL_trading_envs.py:517: RuntimeWarning: invalid value encountered in double_scalars\n",
      "  portfolio_volatility = (portfolio_volatility**2 - (initial_stock_notional * stock_volatility)**2 + (stock_notional * stock_volatility)**2)**0.5\n",
      "C:\\Users\\fidel\\OneDrive\\Documentos\\Mestrado\\code\\RL_trading_envs.py:612: RuntimeWarning: invalid value encountered in double_scalars\n",
      "  portfolio_volatility = (portfolio_volatility ** 2 - (initial_stock_notional * stock_volatility)**2 + (stock_notional * stock_volatility)**2) **0.5\n",
      "C:\\Users\\fidel\\OneDrive\\Documentos\\Mestrado\\code\\RL_trading_envs.py:517: RuntimeWarning: invalid value encountered in double_scalars\n",
      "  portfolio_volatility = (portfolio_volatility**2 - (initial_stock_notional * stock_volatility)**2 + (stock_notional * stock_volatility)**2)**0.5\n",
      "C:\\Users\\fidel\\OneDrive\\Documentos\\Mestrado\\code\\RL_trading_envs.py:612: RuntimeWarning: invalid value encountered in double_scalars\n",
      "  portfolio_volatility = (portfolio_volatility ** 2 - (initial_stock_notional * stock_volatility)**2 + (stock_notional * stock_volatility)**2) **0.5\n",
      "C:\\Users\\fidel\\OneDrive\\Documentos\\Mestrado\\code\\RL_trading_envs.py:517: RuntimeWarning: invalid value encountered in double_scalars\n",
      "  portfolio_volatility = (portfolio_volatility**2 - (initial_stock_notional * stock_volatility)**2 + (stock_notional * stock_volatility)**2)**0.5\n",
      "C:\\Users\\fidel\\OneDrive\\Documentos\\Mestrado\\code\\RL_trading_envs.py:612: RuntimeWarning: invalid value encountered in double_scalars\n",
      "  portfolio_volatility = (portfolio_volatility ** 2 - (initial_stock_notional * stock_volatility)**2 + (stock_notional * stock_volatility)**2) **0.5\n",
      "C:\\Users\\fidel\\OneDrive\\Documentos\\Mestrado\\code\\RL_trading_envs.py:517: RuntimeWarning: invalid value encountered in double_scalars\n",
      "  portfolio_volatility = (portfolio_volatility**2 - (initial_stock_notional * stock_volatility)**2 + (stock_notional * stock_volatility)**2)**0.5\n",
      "C:\\Users\\fidel\\OneDrive\\Documentos\\Mestrado\\code\\RL_trading_envs.py:612: RuntimeWarning: invalid value encountered in double_scalars\n",
      "  portfolio_volatility = (portfolio_volatility ** 2 - (initial_stock_notional * stock_volatility)**2 + (stock_notional * stock_volatility)**2) **0.5\n"
     ]
    },
    {
     "name": "stdout",
     "output_type": "stream",
     "text": [
      "NEW DAY: 1\n",
      "NEW DAY: 2\n",
      "NEW DAY: 3\n",
      "NEW DAY: 4\n",
      "NEW DAY: 5\n",
      "NEW DAY: 6\n",
      "NEW DAY: 7\n",
      "NEW DAY: 8\n",
      "NEW DAY: 9\n",
      "NEW DAY: 10\n",
      "NEW DAY: 11\n",
      "NEW DAY: 12\n",
      "NEW DAY: 13\n",
      "NEW DAY: 14\n",
      "NEW DAY: 15\n",
      "NEW DAY: 16\n",
      "NEW DAY: 17\n",
      "NEW DAY: 18\n",
      "NEW DAY: 19\n",
      "NEW DAY: 20\n",
      "NEW DAY: 21\n",
      "NEW DAY: 22\n",
      "NEW DAY: 23\n",
      "NEW DAY: 24\n",
      "NEW DAY: 25\n",
      "NEW DAY: 26\n",
      "NEW DAY: 27\n",
      "NEW DAY: 28\n",
      "NEW DAY: 29\n",
      "NEW DAY: 1\n",
      "NEW DAY: 2\n",
      "NEW DAY: 3\n",
      "NEW DAY: 4\n",
      "NEW DAY: 5\n",
      "NEW DAY: 6\n",
      "NEW DAY: 7\n",
      "NEW DAY: 8\n",
      "NEW DAY: 9\n",
      "NEW DAY: 10\n",
      "NEW DAY: 11\n",
      "NEW DAY: 12\n",
      "NEW DAY: 13\n",
      "NEW DAY: 14\n",
      "NEW DAY: 15\n",
      "NEW DAY: 16\n",
      "NEW DAY: 17\n",
      "NEW DAY: 18\n",
      "NEW DAY: 19\n",
      "NEW DAY: 20\n",
      "NEW DAY: 21\n",
      "NEW DAY: 22\n",
      "NEW DAY: 23\n",
      "NEW DAY: 24\n",
      "NEW DAY: 25\n",
      "NEW DAY: 26\n",
      "NEW DAY: 27\n",
      "NEW DAY: 28\n",
      "NEW DAY: 29\n",
      "NEW DAY: 1\n",
      "NEW DAY: 2\n",
      "NEW DAY: 3\n",
      "NEW DAY: 4\n",
      "NEW DAY: 5\n",
      "NEW DAY: 6\n",
      "NEW DAY: 7\n",
      "NEW DAY: 8\n",
      "NEW DAY: 9\n",
      "NEW DAY: 10\n",
      "NEW DAY: 11\n",
      "NEW DAY: 12\n",
      "NEW DAY: 13\n",
      "NEW DAY: 14\n",
      "NEW DAY: 15\n",
      "NEW DAY: 16\n",
      "NEW DAY: 17\n"
     ]
    },
    {
     "name": "stderr",
     "output_type": "stream",
     "text": [
      "C:\\Users\\fidel\\OneDrive\\Documentos\\Mestrado\\code\\RL_trading_envs.py:517: RuntimeWarning: invalid value encountered in double_scalars\n",
      "  portfolio_volatility = (portfolio_volatility**2 - (initial_stock_notional * stock_volatility)**2 + (stock_notional * stock_volatility)**2)**0.5\n",
      "C:\\Users\\fidel\\OneDrive\\Documentos\\Mestrado\\code\\RL_trading_envs.py:612: RuntimeWarning: invalid value encountered in double_scalars\n",
      "  portfolio_volatility = (portfolio_volatility ** 2 - (initial_stock_notional * stock_volatility)**2 + (stock_notional * stock_volatility)**2) **0.5\n",
      "C:\\Users\\fidel\\OneDrive\\Documentos\\Mestrado\\code\\RL_trading_envs.py:517: RuntimeWarning: invalid value encountered in double_scalars\n",
      "  portfolio_volatility = (portfolio_volatility**2 - (initial_stock_notional * stock_volatility)**2 + (stock_notional * stock_volatility)**2)**0.5\n",
      "C:\\Users\\fidel\\OneDrive\\Documentos\\Mestrado\\code\\RL_trading_envs.py:612: RuntimeWarning: invalid value encountered in double_scalars\n",
      "  portfolio_volatility = (portfolio_volatility ** 2 - (initial_stock_notional * stock_volatility)**2 + (stock_notional * stock_volatility)**2) **0.5\n",
      "C:\\Users\\fidel\\OneDrive\\Documentos\\Mestrado\\code\\RL_trading_envs.py:517: RuntimeWarning: invalid value encountered in double_scalars\n",
      "  portfolio_volatility = (portfolio_volatility**2 - (initial_stock_notional * stock_volatility)**2 + (stock_notional * stock_volatility)**2)**0.5\n",
      "C:\\Users\\fidel\\OneDrive\\Documentos\\Mestrado\\code\\RL_trading_envs.py:612: RuntimeWarning: invalid value encountered in double_scalars\n",
      "  portfolio_volatility = (portfolio_volatility ** 2 - (initial_stock_notional * stock_volatility)**2 + (stock_notional * stock_volatility)**2) **0.5\n",
      "C:\\Users\\fidel\\OneDrive\\Documentos\\Mestrado\\code\\RL_trading_envs.py:517: RuntimeWarning: invalid value encountered in double_scalars\n",
      "  portfolio_volatility = (portfolio_volatility**2 - (initial_stock_notional * stock_volatility)**2 + (stock_notional * stock_volatility)**2)**0.5\n",
      "C:\\Users\\fidel\\OneDrive\\Documentos\\Mestrado\\code\\RL_trading_envs.py:612: RuntimeWarning: invalid value encountered in double_scalars\n",
      "  portfolio_volatility = (portfolio_volatility ** 2 - (initial_stock_notional * stock_volatility)**2 + (stock_notional * stock_volatility)**2) **0.5\n",
      "C:\\Users\\fidel\\OneDrive\\Documentos\\Mestrado\\code\\RL_trading_envs.py:517: RuntimeWarning: invalid value encountered in double_scalars\n",
      "  portfolio_volatility = (portfolio_volatility**2 - (initial_stock_notional * stock_volatility)**2 + (stock_notional * stock_volatility)**2)**0.5\n",
      "C:\\Users\\fidel\\OneDrive\\Documentos\\Mestrado\\code\\RL_trading_envs.py:612: RuntimeWarning: invalid value encountered in double_scalars\n",
      "  portfolio_volatility = (portfolio_volatility ** 2 - (initial_stock_notional * stock_volatility)**2 + (stock_notional * stock_volatility)**2) **0.5\n",
      "C:\\Users\\fidel\\OneDrive\\Documentos\\Mestrado\\code\\RL_trading_envs.py:517: RuntimeWarning: invalid value encountered in double_scalars\n",
      "  portfolio_volatility = (portfolio_volatility**2 - (initial_stock_notional * stock_volatility)**2 + (stock_notional * stock_volatility)**2)**0.5\n",
      "C:\\Users\\fidel\\OneDrive\\Documentos\\Mestrado\\code\\RL_trading_envs.py:612: RuntimeWarning: invalid value encountered in double_scalars\n",
      "  portfolio_volatility = (portfolio_volatility ** 2 - (initial_stock_notional * stock_volatility)**2 + (stock_notional * stock_volatility)**2) **0.5\n"
     ]
    },
    {
     "name": "stdout",
     "output_type": "stream",
     "text": [
      "NEW DAY: 18\n",
      "NEW DAY: 19\n",
      "NEW DAY: 20\n",
      "NEW DAY: 21\n",
      "NEW DAY: 22\n",
      "NEW DAY: 23\n",
      "NEW DAY: 24\n",
      "NEW DAY: 25\n",
      "NEW DAY: 26\n",
      "NEW DAY: 27\n",
      "NEW DAY: 28\n",
      "NEW DAY: 29\n",
      "NEW DAY: 1\n",
      "NEW DAY: 2\n",
      "NEW DAY: 3\n",
      "NEW DAY: 4\n",
      "NEW DAY: 5\n",
      "NEW DAY: 6\n",
      "NEW DAY: 7\n",
      "NEW DAY: 8\n",
      "NEW DAY: 9\n",
      "NEW DAY: 10\n",
      "NEW DAY: 11\n",
      "NEW DAY: 12\n",
      "NEW DAY: 13\n",
      "NEW DAY: 14\n",
      "NEW DAY: 15\n",
      "NEW DAY: 16\n",
      "NEW DAY: 17\n",
      "NEW DAY: 18\n",
      "NEW DAY: 19\n",
      "NEW DAY: 20\n",
      "NEW DAY: 21\n",
      "NEW DAY: 22\n",
      "NEW DAY: 23\n",
      "NEW DAY: 24\n",
      "NEW DAY: 25\n",
      "NEW DAY: 26\n",
      "NEW DAY: 27\n",
      "NEW DAY: 28\n",
      "NEW DAY: 29\n",
      "NEW DAY: 1\n",
      "NEW DAY: 2\n",
      "NEW DAY: 3\n",
      "NEW DAY: 4\n",
      "NEW DAY: 5\n",
      "NEW DAY: 6\n",
      "NEW DAY: 7\n",
      "NEW DAY: 8\n",
      "NEW DAY: 9\n",
      "NEW DAY: 10\n",
      "NEW DAY: 11\n",
      "NEW DAY: 12\n",
      "NEW DAY: 13\n",
      "NEW DAY: 14\n",
      "NEW DAY: 15\n",
      "NEW DAY: 16\n",
      "NEW DAY: 17\n",
      "NEW DAY: 18\n",
      "NEW DAY: 19\n",
      "NEW DAY: 20\n",
      "NEW DAY: 21\n",
      "NEW DAY: 22\n",
      "NEW DAY: 23\n",
      "NEW DAY: 24\n",
      "NEW DAY: 25\n",
      "NEW DAY: 26\n",
      "NEW DAY: 27\n",
      "NEW DAY: 28\n",
      "NEW DAY: 29\n",
      "NEW DAY: 1\n",
      "NEW DAY: 2\n",
      "NEW DAY: 3\n",
      "NEW DAY: 4\n",
      "NEW DAY: 5\n",
      "NEW DAY: 6\n",
      "NEW DAY: 7\n",
      "NEW DAY: 8\n",
      "NEW DAY: 9\n",
      "NEW DAY: 10\n",
      "NEW DAY: 11\n",
      "NEW DAY: 12\n",
      "NEW DAY: 13\n",
      "NEW DAY: 14\n",
      "NEW DAY: 15\n",
      "NEW DAY: 16\n",
      "NEW DAY: 17\n",
      "NEW DAY: 18\n",
      "NEW DAY: 19\n",
      "NEW DAY: 20\n",
      "NEW DAY: 21\n",
      "NEW DAY: 22\n",
      "NEW DAY: 23\n",
      "NEW DAY: 24\n",
      "NEW DAY: 25\n",
      "NEW DAY: 26\n",
      "NEW DAY: 27\n",
      "NEW DAY: 28\n",
      "NEW DAY: 29\n",
      "NEW DAY: 1\n",
      "NEW DAY: 2\n",
      "NEW DAY: 3\n",
      "NEW DAY: 4\n",
      "NEW DAY: 5\n",
      "NEW DAY: 6\n",
      "NEW DAY: 7\n",
      "NEW DAY: 8\n",
      "NEW DAY: 9\n",
      "NEW DAY: 10\n",
      "NEW DAY: 11\n",
      "NEW DAY: 12\n",
      "NEW DAY: 13\n",
      "NEW DAY: 14\n",
      "NEW DAY: 15\n",
      "NEW DAY: 16\n",
      "NEW DAY: 17\n",
      "NEW DAY: 18\n",
      "NEW DAY: 19\n",
      "NEW DAY: 20\n",
      "NEW DAY: 21\n",
      "NEW DAY: 22\n",
      "NEW DAY: 23\n",
      "NEW DAY: 24\n",
      "NEW DAY: 25\n",
      "NEW DAY: 26\n",
      "NEW DAY: 27\n",
      "NEW DAY: 28\n",
      "NEW DAY: 29\n",
      "NEW DAY: 1\n",
      "NEW DAY: 2\n",
      "NEW DAY: 3\n",
      "NEW DAY: 4\n",
      "NEW DAY: 5\n",
      "NEW DAY: 6\n",
      "NEW DAY: 7\n",
      "NEW DAY: 8\n",
      "NEW DAY: 9\n",
      "NEW DAY: 10\n",
      "NEW DAY: 11\n"
     ]
    },
    {
     "name": "stderr",
     "output_type": "stream",
     "text": [
      "C:\\Users\\fidel\\OneDrive\\Documentos\\Mestrado\\code\\RL_trading_envs.py:517: RuntimeWarning: invalid value encountered in double_scalars\n",
      "  portfolio_volatility = (portfolio_volatility**2 - (initial_stock_notional * stock_volatility)**2 + (stock_notional * stock_volatility)**2)**0.5\n",
      "C:\\Users\\fidel\\OneDrive\\Documentos\\Mestrado\\code\\RL_trading_envs.py:612: RuntimeWarning: invalid value encountered in double_scalars\n",
      "  portfolio_volatility = (portfolio_volatility ** 2 - (initial_stock_notional * stock_volatility)**2 + (stock_notional * stock_volatility)**2) **0.5\n",
      "C:\\Users\\fidel\\OneDrive\\Documentos\\Mestrado\\code\\RL_trading_envs.py:517: RuntimeWarning: invalid value encountered in double_scalars\n",
      "  portfolio_volatility = (portfolio_volatility**2 - (initial_stock_notional * stock_volatility)**2 + (stock_notional * stock_volatility)**2)**0.5\n",
      "C:\\Users\\fidel\\OneDrive\\Documentos\\Mestrado\\code\\RL_trading_envs.py:612: RuntimeWarning: invalid value encountered in double_scalars\n",
      "  portfolio_volatility = (portfolio_volatility ** 2 - (initial_stock_notional * stock_volatility)**2 + (stock_notional * stock_volatility)**2) **0.5\n",
      "C:\\Users\\fidel\\OneDrive\\Documentos\\Mestrado\\code\\RL_trading_envs.py:517: RuntimeWarning: invalid value encountered in double_scalars\n",
      "  portfolio_volatility = (portfolio_volatility**2 - (initial_stock_notional * stock_volatility)**2 + (stock_notional * stock_volatility)**2)**0.5\n",
      "C:\\Users\\fidel\\OneDrive\\Documentos\\Mestrado\\code\\RL_trading_envs.py:612: RuntimeWarning: invalid value encountered in double_scalars\n",
      "  portfolio_volatility = (portfolio_volatility ** 2 - (initial_stock_notional * stock_volatility)**2 + (stock_notional * stock_volatility)**2) **0.5\n"
     ]
    },
    {
     "name": "stdout",
     "output_type": "stream",
     "text": [
      "NEW DAY: 12\n",
      "NEW DAY: 13\n",
      "NEW DAY: 14\n",
      "NEW DAY: 15\n",
      "NEW DAY: 16\n",
      "NEW DAY: 17\n",
      "NEW DAY: 18\n",
      "NEW DAY: 19\n",
      "NEW DAY: 20\n",
      "NEW DAY: 21\n",
      "NEW DAY: 22\n",
      "NEW DAY: 23\n",
      "NEW DAY: 24\n",
      "NEW DAY: 25\n",
      "NEW DAY: 26\n",
      "NEW DAY: 27\n",
      "NEW DAY: 28\n",
      "NEW DAY: 29\n",
      "NEW DAY: 1\n",
      "NEW DAY: 2\n",
      "NEW DAY: 3\n",
      "NEW DAY: 4\n",
      "NEW DAY: 5\n",
      "NEW DAY: 6\n",
      "NEW DAY: 7\n",
      "NEW DAY: 8\n",
      "NEW DAY: 9\n",
      "NEW DAY: 10\n",
      "NEW DAY: 11\n",
      "NEW DAY: 12\n",
      "NEW DAY: 13\n",
      "NEW DAY: 14\n",
      "NEW DAY: 15\n",
      "NEW DAY: 16\n",
      "NEW DAY: 17\n",
      "NEW DAY: 18\n"
     ]
    },
    {
     "name": "stderr",
     "output_type": "stream",
     "text": [
      "C:\\Users\\fidel\\OneDrive\\Documentos\\Mestrado\\code\\RL_trading_envs.py:517: RuntimeWarning: invalid value encountered in double_scalars\n",
      "  portfolio_volatility = (portfolio_volatility**2 - (initial_stock_notional * stock_volatility)**2 + (stock_notional * stock_volatility)**2)**0.5\n",
      "C:\\Users\\fidel\\OneDrive\\Documentos\\Mestrado\\code\\RL_trading_envs.py:612: RuntimeWarning: invalid value encountered in double_scalars\n",
      "  portfolio_volatility = (portfolio_volatility ** 2 - (initial_stock_notional * stock_volatility)**2 + (stock_notional * stock_volatility)**2) **0.5\n",
      "C:\\Users\\fidel\\OneDrive\\Documentos\\Mestrado\\code\\RL_trading_envs.py:517: RuntimeWarning: invalid value encountered in double_scalars\n",
      "  portfolio_volatility = (portfolio_volatility**2 - (initial_stock_notional * stock_volatility)**2 + (stock_notional * stock_volatility)**2)**0.5\n",
      "C:\\Users\\fidel\\OneDrive\\Documentos\\Mestrado\\code\\RL_trading_envs.py:612: RuntimeWarning: invalid value encountered in double_scalars\n",
      "  portfolio_volatility = (portfolio_volatility ** 2 - (initial_stock_notional * stock_volatility)**2 + (stock_notional * stock_volatility)**2) **0.5\n",
      "C:\\Users\\fidel\\OneDrive\\Documentos\\Mestrado\\code\\RL_trading_envs.py:517: RuntimeWarning: invalid value encountered in double_scalars\n",
      "  portfolio_volatility = (portfolio_volatility**2 - (initial_stock_notional * stock_volatility)**2 + (stock_notional * stock_volatility)**2)**0.5\n",
      "C:\\Users\\fidel\\OneDrive\\Documentos\\Mestrado\\code\\RL_trading_envs.py:612: RuntimeWarning: invalid value encountered in double_scalars\n",
      "  portfolio_volatility = (portfolio_volatility ** 2 - (initial_stock_notional * stock_volatility)**2 + (stock_notional * stock_volatility)**2) **0.5\n"
     ]
    },
    {
     "name": "stdout",
     "output_type": "stream",
     "text": [
      "NEW DAY: 19\n",
      "NEW DAY: 20\n",
      "NEW DAY: 21\n",
      "NEW DAY: 22\n",
      "NEW DAY: 23\n",
      "NEW DAY: 24\n",
      "NEW DAY: 25\n",
      "NEW DAY: 26\n",
      "NEW DAY: 27\n",
      "NEW DAY: 28\n",
      "NEW DAY: 29\n",
      "NEW DAY: 1\n",
      "NEW DAY: 2\n",
      "NEW DAY: 3\n",
      "NEW DAY: 4\n",
      "NEW DAY: 5\n",
      "NEW DAY: 6\n",
      "NEW DAY: 7\n",
      "NEW DAY: 8\n",
      "NEW DAY: 9\n",
      "NEW DAY: 10\n",
      "NEW DAY: 11\n",
      "NEW DAY: 12\n",
      "NEW DAY: 13\n",
      "NEW DAY: 14\n",
      "NEW DAY: 15\n",
      "NEW DAY: 16\n",
      "NEW DAY: 17\n",
      "NEW DAY: 18\n",
      "NEW DAY: 19\n",
      "NEW DAY: 20\n",
      "NEW DAY: 21\n",
      "NEW DAY: 22\n",
      "NEW DAY: 23\n",
      "NEW DAY: 24\n",
      "NEW DAY: 25\n",
      "NEW DAY: 26\n",
      "NEW DAY: 27\n",
      "NEW DAY: 28\n",
      "NEW DAY: 29\n",
      "NEW DAY: 1\n",
      "NEW DAY: 2\n",
      "NEW DAY: 3\n",
      "NEW DAY: 4\n",
      "NEW DAY: 5\n",
      "NEW DAY: 6\n",
      "NEW DAY: 7\n",
      "NEW DAY: 8\n",
      "NEW DAY: 9\n",
      "NEW DAY: 10\n",
      "NEW DAY: 11\n",
      "NEW DAY: 12\n",
      "NEW DAY: 13\n",
      "NEW DAY: 14\n",
      "NEW DAY: 15\n",
      "NEW DAY: 16\n",
      "NEW DAY: 17\n",
      "NEW DAY: 18\n",
      "NEW DAY: 19\n",
      "NEW DAY: 20\n",
      "NEW DAY: 21\n",
      "NEW DAY: 22\n",
      "NEW DAY: 23\n",
      "NEW DAY: 24\n",
      "NEW DAY: 25\n",
      "NEW DAY: 26\n",
      "NEW DAY: 27\n",
      "NEW DAY: 28\n",
      "NEW DAY: 29\n",
      "NEW DAY: 1\n",
      "NEW DAY: 2\n",
      "NEW DAY: 3\n",
      "NEW DAY: 4\n",
      "NEW DAY: 5\n",
      "NEW DAY: 6\n",
      "NEW DAY: 7\n",
      "NEW DAY: 8\n",
      "NEW DAY: 9\n",
      "NEW DAY: 10\n",
      "NEW DAY: 11\n",
      "NEW DAY: 12\n",
      "NEW DAY: 13\n",
      "NEW DAY: 14\n",
      "NEW DAY: 15\n",
      "NEW DAY: 16\n",
      "NEW DAY: 17\n",
      "NEW DAY: 18\n",
      "NEW DAY: 19\n",
      "NEW DAY: 20\n",
      "NEW DAY: 21\n",
      "NEW DAY: 22\n",
      "NEW DAY: 23\n",
      "NEW DAY: 24\n",
      "NEW DAY: 25\n",
      "NEW DAY: 26\n",
      "NEW DAY: 27\n",
      "NEW DAY: 28\n",
      "NEW DAY: 29\n",
      "NEW DAY: 1\n",
      "NEW DAY: 2\n",
      "NEW DAY: 3\n",
      "NEW DAY: 4\n",
      "NEW DAY: 5\n",
      "NEW DAY: 6\n",
      "NEW DAY: 7\n",
      "NEW DAY: 8\n",
      "NEW DAY: 9\n",
      "NEW DAY: 10\n",
      "9\n",
      "Wall time: 1min 7s\n"
     ]
    }
   ],
   "source": [
    "%%time\n",
    "model = fit_rl(df_valid, agent_parameters)"
   ]
  },
  {
   "cell_type": "code",
   "execution_count": 27,
   "metadata": {},
   "outputs": [],
   "source": [
    "#See curves of action as function of the features\n",
    "env = StockWithVolHold(df_valid)\n",
    "list_feature = np.linspace(-0.01, 0.01, 20)\n",
    "list_action = []\n",
    "for stock_prediction in list_feature:\n",
    "    features = {'portfolio_volatility': 0.005,\n",
    "          'stock_volatility': 0.01,\n",
    "          'stock_prediction': stock_prediction,\n",
    "          'available_notional': 0.8,\n",
    "          'stock_notional': 0.2}\n",
    "    obs = env.features_to_state(**features)\n",
    "    action, _ = model.predict(obs, deterministic = True)\n",
    "    list_action.append(action.item())"
   ]
  },
  {
   "cell_type": "code",
   "execution_count": 28,
   "metadata": {},
   "outputs": [
    {
     "data": {
      "image/png": "[encoded data removed]",
      "text/plain": [
       "<Figure size 432x288 with 1 Axes>"
      ]
     },
     "metadata": {
      "needs_background": "dark"
     },
     "output_type": "display_data"
    }
   ],
   "source": [
    "plt.plot(list_feature, list_action)\n",
    "plt.grid()"
   ]
  },
  {
   "cell_type": "code",
   "execution_count": 29,
   "metadata": {},
   "outputs": [],
   "source": [
    "# model.save('model')\n",
    "# env = StockWithVolHold(df_valid)\n",
    "# model = PPO.load('model.zip', env=env)"
   ]
  },
  {
   "cell_type": "code",
   "execution_count": 30,
   "metadata": {
    "scrolled": true
   },
   "outputs": [
    {
     "name": "stdout",
     "output_type": "stream",
     "text": [
      "NEW DAY: 1\n",
      "NEW DAY: 2\n",
      "NEW DAY: 3\n",
      "NEW DAY: 4\n",
      "NEW DAY: 5\n",
      "NEW DAY: 6\n",
      "NEW DAY: 7\n",
      "NEW DAY: 8\n",
      "NEW DAY: 9\n",
      "NEW DAY: 10\n",
      "NEW DAY: 11\n",
      "NEW DAY: 12\n",
      "NEW DAY: 13\n",
      "NEW DAY: 14\n",
      "NEW DAY: 15\n",
      "NEW DAY: 16\n",
      "NEW DAY: 17\n",
      "NEW DAY: 18\n",
      "NEW DAY: 19\n",
      "NEW DAY: 20\n",
      "NEW DAY: 21\n",
      "NEW DAY: 22\n",
      "NEW DAY: 23\n",
      "NEW DAY: 24\n",
      "NEW DAY: 25\n",
      "NEW DAY: 26\n",
      "NEW DAY: 27\n",
      "NEW DAY: 28\n",
      "NEW DAY: 29\n"
     ]
    }
   ],
   "source": [
    "#Run on df_valid\n",
    "env = StockWithVolHold(df_valid)\n",
    "done = False\n",
    "obs = env.reset()\n",
    "list_hidden_state = []\n",
    "day = 0\n",
    "while not done:#not done:\n",
    "    action, _ = model.predict(obs, deterministic = True)\n",
    "    obs, reward, done, hidden_state = env.step(action)\n",
    "    if hidden_state:\n",
    "        hidden_state = pd.DataFrame(hidden_state).T.reset_index()\n",
    "        hidden_state.columns = ['asset_identifier', 'notional', 'vol']\n",
    "        hidden_state.loc[:, 'date'] = day\n",
    "        day += 1\n",
    "        list_hidden_state.append(hidden_state)\n",
    "hidden_state = pd.concat(list_hidden_state)\n",
    "hidden_state.to_pickle('hidden_state.pkl')"
   ]
  },
  {
   "cell_type": "code",
   "execution_count": 31,
   "metadata": {},
   "outputs": [
    {
     "data": {
      "text/plain": [
       "0.0"
      ]
     },
     "execution_count": 31,
     "metadata": {},
     "output_type": "execute_result"
    }
   ],
   "source": [
    "(np.array(env.rewards_memory) == 0).mean()"
   ]
  },
  {
   "cell_type": "code",
   "execution_count": 32,
   "metadata": {},
   "outputs": [
    {
     "data": {
      "text/plain": [
       "0.00412144479578582"
      ]
     },
     "execution_count": 32,
     "metadata": {},
     "output_type": "execute_result"
    }
   ],
   "source": [
    "(np.array(env.rewards_memory)).mean()"
   ]
  },
  {
   "cell_type": "code",
   "execution_count": 33,
   "metadata": {},
   "outputs": [],
   "source": [
    "port_vol = [value['portfolio_volatility'] for value in env.state_memory]"
   ]
  },
  {
   "cell_type": "code",
   "execution_count": 34,
   "metadata": {},
   "outputs": [],
   "source": [
    "%matplotlib inline"
   ]
  },
  {
   "cell_type": "code",
   "execution_count": 35,
   "metadata": {},
   "outputs": [
    {
     "data": {
      "image/png": "[encoded data removed]",
      "text/plain": [
       "<Figure size 432x288 with 1 Axes>"
      ]
     },
     "metadata": {
      "needs_background": "dark"
     },
     "output_type": "display_data"
    }
   ],
   "source": [
    "plt.plot(port_vol)\n",
    "plt.grid()"
   ]
  },
  {
   "cell_type": "code",
   "execution_count": 36,
   "metadata": {},
   "outputs": [],
   "source": [
    "hidden_state = pd.concat(list_hidden_state)"
   ]
  },
  {
   "cell_type": "code",
   "execution_count": 37,
   "metadata": {},
   "outputs": [],
   "source": [
    "df_merge = hidden_state.merge(df_valid, on = ['asset_identifier', 'date'])"
   ]
  },
  {
   "cell_type": "code",
   "execution_count": 38,
   "metadata": {},
   "outputs": [
    {
     "data": {
      "text/html": [
       "<div>\n",
       "<style scoped>\n",
       "    .dataframe tbody tr th:only-of-type {\n",
       "        vertical-align: middle;\n",
       "    }\n",
       "\n",
       "    .dataframe tbody tr th {\n",
       "        vertical-align: top;\n",
       "    }\n",
       "\n",
       "    .dataframe thead th {\n",
       "        text-align: right;\n",
       "    }\n",
       "</style>\n",
       "<table border=\"1\" class=\"dataframe\">\n",
       "  <thead>\n",
       "    <tr style=\"text-align: right;\">\n",
       "      <th></th>\n",
       "      <th>notional</th>\n",
       "      <th>yhat</th>\n",
       "    </tr>\n",
       "  </thead>\n",
       "  <tbody>\n",
       "    <tr>\n",
       "      <th>notional</th>\n",
       "      <td>1.000000</td>\n",
       "      <td>0.142074</td>\n",
       "    </tr>\n",
       "    <tr>\n",
       "      <th>yhat</th>\n",
       "      <td>0.142074</td>\n",
       "      <td>1.000000</td>\n",
       "    </tr>\n",
       "  </tbody>\n",
       "</table>\n",
       "</div>"
      ],
      "text/plain": [
       "          notional      yhat\n",
       "notional  1.000000  0.142074\n",
       "yhat      0.142074  1.000000"
      ]
     },
     "execution_count": 38,
     "metadata": {},
     "output_type": "execute_result"
    }
   ],
   "source": [
    "df_merge[['notional', 'yhat']].corr(method = 'spearman')"
   ]
  },
  {
   "cell_type": "code",
   "execution_count": 39,
   "metadata": {},
   "outputs": [
    {
     "data": {
      "text/html": [
       "<div>\n",
       "<style scoped>\n",
       "    .dataframe tbody tr th:only-of-type {\n",
       "        vertical-align: middle;\n",
       "    }\n",
       "\n",
       "    .dataframe tbody tr th {\n",
       "        vertical-align: top;\n",
       "    }\n",
       "\n",
       "    .dataframe thead th {\n",
       "        text-align: right;\n",
       "    }\n",
       "</style>\n",
       "<table border=\"1\" class=\"dataframe\">\n",
       "  <thead>\n",
       "    <tr style=\"text-align: right;\">\n",
       "      <th></th>\n",
       "      <th>notional</th>\n",
       "      <th>yhat</th>\n",
       "    </tr>\n",
       "  </thead>\n",
       "  <tbody>\n",
       "    <tr>\n",
       "      <th>notional</th>\n",
       "      <td>1.000000</td>\n",
       "      <td>0.120808</td>\n",
       "    </tr>\n",
       "    <tr>\n",
       "      <th>yhat</th>\n",
       "      <td>0.120808</td>\n",
       "      <td>1.000000</td>\n",
       "    </tr>\n",
       "  </tbody>\n",
       "</table>\n",
       "</div>"
      ],
      "text/plain": [
       "          notional      yhat\n",
       "notional  1.000000  0.120808\n",
       "yhat      0.120808  1.000000"
      ]
     },
     "execution_count": 39,
     "metadata": {},
     "output_type": "execute_result"
    }
   ],
   "source": [
    "df_merge[['notional', 'yhat']].corr()"
   ]
  },
  {
   "cell_type": "code",
   "execution_count": 24,
   "metadata": {},
   "outputs": [
    {
     "data": {
      "text/html": [
       "<div>\n",
       "<style scoped>\n",
       "    .dataframe tbody tr th:only-of-type {\n",
       "        vertical-align: middle;\n",
       "    }\n",
       "\n",
       "    .dataframe tbody tr th {\n",
       "        vertical-align: top;\n",
       "    }\n",
       "\n",
       "    .dataframe thead th {\n",
       "        text-align: right;\n",
       "    }\n",
       "</style>\n",
       "<table border=\"1\" class=\"dataframe\">\n",
       "  <thead>\n",
       "    <tr style=\"text-align: right;\">\n",
       "      <th></th>\n",
       "      <th>notional</th>\n",
       "      <th>target_return</th>\n",
       "    </tr>\n",
       "  </thead>\n",
       "  <tbody>\n",
       "    <tr>\n",
       "      <th>notional</th>\n",
       "      <td>1.000000</td>\n",
       "      <td>-0.369594</td>\n",
       "    </tr>\n",
       "    <tr>\n",
       "      <th>target_return</th>\n",
       "      <td>-0.369594</td>\n",
       "      <td>1.000000</td>\n",
       "    </tr>\n",
       "  </tbody>\n",
       "</table>\n",
       "</div>"
      ],
      "text/plain": [
       "               notional  target_return\n",
       "notional       1.000000      -0.369594\n",
       "target_return -0.369594       1.000000"
      ]
     },
     "execution_count": 24,
     "metadata": {},
     "output_type": "execute_result"
    }
   ],
   "source": [
    "df_merge[['notional', 'target_return']].corr()"
   ]
  },
  {
   "cell_type": "code",
   "execution_count": 24,
   "metadata": {},
   "outputs": [],
   "source": [
    "if hidden_state:\n",
    "    print('a')"
   ]
  },
  {
   "cell_type": "code",
   "execution_count": 21,
   "metadata": {},
   "outputs": [
    {
     "name": "stdout",
     "output_type": "stream",
     "text": [
      "Wall time: 40 s\n"
     ]
    }
   ],
   "source": [
    "%%time\n",
    "yhat = get_actions(df_valid, model).reshape(-1)"
   ]
  },
  {
   "cell_type": "code",
   "execution_count": 22,
   "metadata": {},
   "outputs": [
    {
     "data": {
      "text/plain": [
       "array([[1.        , 0.00390731],\n",
       "       [0.00390731, 1.        ]])"
      ]
     },
     "execution_count": 22,
     "metadata": {},
     "output_type": "execute_result"
    }
   ],
   "source": [
    "np.corrcoef(df_valid['target_return'].values, yhat)"
   ]
  },
  {
   "cell_type": "code",
   "execution_count": 23,
   "metadata": {},
   "outputs": [
    {
     "data": {
      "text/plain": [
       "array([[1.       , 0.7496184],\n",
       "       [0.7496184, 1.       ]])"
      ]
     },
     "execution_count": 23,
     "metadata": {},
     "output_type": "execute_result"
    }
   ],
   "source": [
    "np.corrcoef(df_valid['yhat'].values, yhat)"
   ]
  },
  {
   "cell_type": "code",
   "execution_count": 25,
   "metadata": {},
   "outputs": [
    {
     "data": {
      "text/plain": [
       "<matplotlib.collections.PathCollection at 0x16d2af0bc70>"
      ]
     },
     "execution_count": 25,
     "metadata": {},
     "output_type": "execute_result"
    },
    {
     "data": {
      "image/png": "[encoded data removed]",
      "text/plain": [
       "<Figure size 432x288 with 1 Axes>"
      ]
     },
     "metadata": {
      "needs_background": "dark"
     },
     "output_type": "display_data"
    }
   ],
   "source": [
    "plt.scatter(yhat, df_valid['yhat'].values, s = 0.2)"
   ]
  },
  {
   "cell_type": "code",
   "execution_count": 32,
   "metadata": {},
   "outputs": [],
   "source": [
    "df_valid.loc[:, 'pnl'] = yhat * df_valid['target_return']\n",
    "df_valid.loc[:, 'pnl_naive'] = np.mean(yhat) * df_valid['target_return']"
   ]
  },
  {
   "cell_type": "code",
   "execution_count": 33,
   "metadata": {},
   "outputs": [],
   "source": [
    "pnl = df_valid.groupby('date')['pnl'].sum()\n",
    "pnl_naive = df_valid.groupby('date')['pnl_naive'].sum()"
   ]
  },
  {
   "cell_type": "code",
   "execution_count": 34,
   "metadata": {},
   "outputs": [
    {
     "data": {
      "text/plain": [
       "<AxesSubplot:xlabel='date'>"
      ]
     },
     "execution_count": 34,
     "metadata": {},
     "output_type": "execute_result"
    },
    {
     "data": {
      "image/png": "[encoded data removed]",
      "text/plain": [
       "<Figure size 432x288 with 1 Axes>"
      ]
     },
     "metadata": {
      "needs_background": "dark"
     },
     "output_type": "display_data"
    }
   ],
   "source": [
    "pnl.cumsum().plot()\n",
    "pnl_naive.cumsum().plot()"
   ]
  },
  {
   "cell_type": "code",
   "execution_count": 35,
   "metadata": {},
   "outputs": [],
   "source": [
    "df_valid = df_test"
   ]
  },
  {
   "cell_type": "code",
   "execution_count": 36,
   "metadata": {},
   "outputs": [
    {
     "name": "stdout",
     "output_type": "stream",
     "text": [
      "Wall time: 1min 3s\n"
     ]
    }
   ],
   "source": [
    "%%time\n",
    "yhat = get_actions(df_valid, model).reshape(-1)"
   ]
  },
  {
   "cell_type": "code",
   "execution_count": 37,
   "metadata": {},
   "outputs": [
    {
     "data": {
      "text/plain": [
       "array([[1.        , 0.01157254],\n",
       "       [0.01157254, 1.        ]])"
      ]
     },
     "execution_count": 37,
     "metadata": {},
     "output_type": "execute_result"
    }
   ],
   "source": [
    "np.corrcoef(df_valid['target_return'].values, yhat)"
   ]
  },
  {
   "cell_type": "code",
   "execution_count": 38,
   "metadata": {},
   "outputs": [
    {
     "data": {
      "text/plain": [
       "array([[1.        , 0.73667683],\n",
       "       [0.73667683, 1.        ]])"
      ]
     },
     "execution_count": 38,
     "metadata": {},
     "output_type": "execute_result"
    }
   ],
   "source": [
    "np.corrcoef(df_valid['yhat'].values, yhat)"
   ]
  },
  {
   "cell_type": "code",
   "execution_count": 39,
   "metadata": {},
   "outputs": [
    {
     "data": {
      "text/plain": [
       "(200714, 5)"
      ]
     },
     "execution_count": 39,
     "metadata": {},
     "output_type": "execute_result"
    }
   ],
   "source": [
    "df_valid.shape"
   ]
  },
  {
   "cell_type": "code",
   "execution_count": 40,
   "metadata": {},
   "outputs": [
    {
     "data": {
      "text/plain": [
       "<matplotlib.collections.PathCollection at 0x16d28717340>"
      ]
     },
     "execution_count": 40,
     "metadata": {},
     "output_type": "execute_result"
    },
    {
     "data": {
      "image/png": "[encoded data removed]",
      "text/plain": [
       "<Figure size 432x288 with 1 Axes>"
      ]
     },
     "metadata": {
      "needs_background": "dark"
     },
     "output_type": "display_data"
    }
   ],
   "source": [
    "plt.scatter(yhat, df_valid['yhat'].values, s = 0.2)"
   ]
  },
  {
   "cell_type": "code",
   "execution_count": 41,
   "metadata": {},
   "outputs": [],
   "source": [
    "df_valid.loc[:, 'pnl'] = yhat * df_valid['target_return']\n",
    "df_valid.loc[:, 'pnl_naive'] = np.mean(yhat) * df_valid['target_return']"
   ]
  },
  {
   "cell_type": "code",
   "execution_count": 42,
   "metadata": {},
   "outputs": [],
   "source": [
    "pnl = df_valid.groupby('date')['pnl'].sum()\n",
    "pnl_naive = df_valid.groupby('date')['pnl_naive'].sum()"
   ]
  },
  {
   "cell_type": "code",
   "execution_count": 43,
   "metadata": {},
   "outputs": [
    {
     "data": {
      "text/plain": [
       "<AxesSubplot:xlabel='date'>"
      ]
     },
     "execution_count": 43,
     "metadata": {},
     "output_type": "execute_result"
    },
    {
     "data": {
      "image/png": "[encoded data removed]",
      "text/plain": [
       "<Figure size 432x288 with 1 Axes>"
      ]
     },
     "metadata": {
      "needs_background": "dark"
     },
     "output_type": "display_data"
    }
   ],
   "source": [
    "pnl.cumsum().plot()\n",
    "pnl_naive.cumsum().plot()"
   ]
  },
  {
   "cell_type": "code",
   "execution_count": 44,
   "metadata": {},
   "outputs": [
    {
     "data": {
      "text/plain": [
       "<AxesSubplot:xlabel='date'>"
      ]
     },
     "execution_count": 44,
     "metadata": {},
     "output_type": "execute_result"
    },
    {
     "data": {
      "image/png": "[encoded data removed]",
      "text/plain": [
       "<Figure size 432x288 with 1 Axes>"
      ]
     },
     "metadata": {
      "needs_background": "dark"
     },
     "output_type": "display_data"
    }
   ],
   "source": [
    "pnl.rolling(20).std().plot()"
   ]
  },
  {
   "cell_type": "code",
   "execution_count": 23,
   "metadata": {},
   "outputs": [
    {
     "data": {
      "text/plain": [
       "92.759"
      ]
     },
     "execution_count": 23,
     "metadata": {},
     "output_type": "execute_result"
    }
   ],
   "source": [
    "pnl_metric(y = df_valid['target_return'], yhat = yhat)"
   ]
  },
  {
   "cell_type": "code",
   "execution_count": 26,
   "metadata": {},
   "outputs": [
    {
     "data": {
      "text/plain": [
       "96.1021471619606"
      ]
     },
     "execution_count": 26,
     "metadata": {},
     "output_type": "execute_result"
    }
   ],
   "source": [
    "pnl_metric(y = df_valid['target_return'], yhat = 2*((df_valid['yhat'] > 0 )-0.5))"
   ]
  },
  {
   "cell_type": "code",
   "execution_count": null,
   "metadata": {},
   "outputs": [],
   "source": []
  }
 ],
 "metadata": {
  "kernelspec": {
   "display_name": "Python 3",
   "language": "python",
   "name": "python3"
  },
  "language_info": {
   "codemirror_mode": {
    "name": "ipython",
    "version": 3
   },
   "file_extension": ".py",
   "mimetype": "text/x-python",
   "name": "python",
   "nbconvert_exporter": "python",
   "pygments_lexer": "ipython3",
   "version": "3.8.5"
  }
 },
 "nbformat": 4,
 "nbformat_minor": 4
}
