{
 "cells": [
  {
   "cell_type": "code",
   "execution_count": 1,
   "metadata": {},
   "outputs": [],
   "source": [
    "import pandas as pd\n",
    "import numpy as np\n",
    "import matplotlib.pyplot as plt\n",
    "plt.style.use('dark_background')\n",
    "import riskfolio as rp\n",
    "from tqdm import tqdm"
   ]
  },
  {
   "cell_type": "code",
   "execution_count": 2,
   "metadata": {},
   "outputs": [],
   "source": [
    "# df = pd.read_pickle(r\"D:\\Datasets\\TwoSigmaDataSetBr_2022_03_04\\Papertrade_br\\models\\MlpVarianceSwap\\trained_model\\model_MlpVarianceSwap_2022-03-03\\full_market_data_final.pkl\")\n",
    "# df_test = pd.read_pickle(r\"D:\\Datasets\\TwoSigmaDataSetBr_2022_03_04\\Papertrade_br\\models\\MlpVarianceSwap\\trained_model\\model_MlpVarianceSwap_2022-03-03\\df_test_mestrado.pkl\")"
   ]
  },
  {
   "cell_type": "code",
   "execution_count": 3,
   "metadata": {},
   "outputs": [],
   "source": [
    "def split_sequence(sequence, n_steps):\n",
    "    list_subsequences = []\n",
    "    empty_subsequence = [np.nan] * n_steps\n",
    "    # Fill the initial subsequences with nan\n",
    "    for i in range(min(n_steps, len(sequence))):\n",
    "        list_subsequences.append(empty_subsequence)\n",
    "    if len(sequence) <= n_steps:\n",
    "        return list_subsequences\n",
    "    # Fill the remaining subsequences\n",
    "    for i in range(n_steps, len(sequence)):\n",
    "        subsequence = sequence[i - n_steps:i]\n",
    "        list_subsequences.append(subsequence)\n",
    "    return list_subsequences"
   ]
  },
  {
   "cell_type": "code",
   "execution_count": 4,
   "metadata": {},
   "outputs": [],
   "source": [
    "df = pd.read_pickle(r\"D:\\Datasets\\TwoSigmaDataSetBr_2022_03_04\\Papertrade_br\\models\\MlpVarianceSwap\\trained_model\\model_MlpVarianceSwap_2022-03-03\\full_market_data_final.pkl\")\n",
    "df = df[['asset_identifier', 'date', 'close', 'universe', 'min_fin_volume']]\n",
    "df.loc[:, 'ret'] = df.groupby('asset_identifier')['close'].pct_change()\n",
    "df.loc[:, 'target'] = df.groupby('asset_identifier')['ret'].shift(-1)\n",
    "\n",
    "df_test = pd.read_pickle(r\"D:\\Datasets\\TwoSigmaDataSetBr_2022_03_04\\Papertrade_br\\models\\MlpVarianceSwap\\trained_model\\model_MlpVarianceSwap_2022-03-03\\df_test_mestrado.pkl\")\n",
    "df_test = df_test[['asset_identifier', 'date', 'yhat']]\n",
    "df = df.merge(df_test, on = ['asset_identifier', 'date'], how = 'left')\n"
   ]
  },
  {
   "cell_type": "code",
   "execution_count": 5,
   "metadata": {},
   "outputs": [],
   "source": [
    "n_steps = 60\n",
    "return_columns = ['t_minus_{}'.format(n_steps - i) for i in range(n_steps)]"
   ]
  },
  {
   "cell_type": "code",
   "execution_count": 6,
   "metadata": {},
   "outputs": [
    {
     "name": "stdout",
     "output_type": "stream",
     "text": [
      "Wall time: 4.83 s\n"
     ]
    }
   ],
   "source": [
    "%%time\n",
    "list_df = []\n",
    "for asset, data in df.groupby('asset_identifier'):\n",
    "    ret_shift_as_seq = split_sequence(data.loc[:, 'ret'].to_list(), n_steps)\n",
    "    ret_shift_as_seq = pd.DataFrame(ret_shift_as_seq, index = data.index, columns = return_columns)\n",
    "    data = data.join(ret_shift_as_seq)\n",
    "    list_df.append(data)"
   ]
  },
  {
   "cell_type": "code",
   "execution_count": 7,
   "metadata": {},
   "outputs": [],
   "source": [
    "df = pd.concat(list_df)\n",
    "df.query(\"date > '2015-01-01' & universe\", inplace = True)"
   ]
  },
  {
   "cell_type": "code",
   "execution_count": 8,
   "metadata": {},
   "outputs": [],
   "source": [
    "df.loc[:, 'rank_pred']  = df.groupby('date')['yhat'].rank(pct = False, ascending = False)\n",
    "df.loc[:, 'stdev'] = df[return_columns].std(axis = 1)\n",
    "df = df.query(\"stdev != 0\").dropna()"
   ]
  },
  {
   "cell_type": "markdown",
   "metadata": {},
   "source": [
    "### Compute HPR Allocation"
   ]
  },
  {
   "cell_type": "code",
   "execution_count": 21,
   "metadata": {},
   "outputs": [],
   "source": [
    "def rp_allocation(data, portfolio_parameters, return_columns):\n",
    "    data = data[['asset_identifier'] + return_columns]\n",
    "    Y = data.set_index('asset_identifier').T\n",
    "    if 'inverse_vol' in portfolio_parameters:\n",
    "        stdev = data.set_index('asset_identifier').std(axis = 1)\n",
    "        w = 1/stdev\n",
    "        w = w/w.sum()\n",
    "        return w\n",
    "    else:\n",
    "        port = rp.HCPortfolio(returns=Y)\n",
    "        w = port.optimization(**portfolio_parameters)\n",
    "        return w['weights']\n",
    "\n",
    "def compute_rp_allocations(df, return_columns, portfolio_parameters, steps_by_update = 10):\n",
    "    list_df = []\n",
    "    for i, (date, data) in tqdm(enumerate(df.groupby('date')), total=len(df['date'].unique())):\n",
    "        data = data[['asset_identifier', 'date'] + return_columns].dropna()\n",
    "        if i%steps_by_update == 0:\n",
    "            weights = rp_allocation(data, portfolio_parameters, return_columns)\n",
    "        data = data.set_index('asset_identifier')[['date']]\n",
    "        data.loc[:, 'weights'] = weights\n",
    "        list_df.append(data)\n",
    "    df_weights = pd.concat(list_df).reset_index()\n",
    "    return df_weights\n",
    "\n",
    "def evaluate_rp_allocation(df, return_columns, portfolio_parameters, steps_by_update):\n",
    "    df_weights = compute_rp_allocations(df, return_columns, portfolio_parameters, steps_by_update) \n",
    "    df_merge = df.merge(df_weights, on = ['asset_identifier', 'date'])\n",
    "\n",
    "    #Debug\n",
    "    df_merge.loc[:, 'stdev_rank'] = df_merge.groupby('date')['stdev'].rank(pct = True)\n",
    "    weights_std_corr = df_merge[['stdev_rank', 'weights']].corr().iloc[0, 1]\n",
    "    print(f'weights_std_corr: {weights_std_corr}')\n",
    "\n",
    "    #Evaluate\n",
    "    df_merge.eval(\"pnl = weights * target\", inplace = True)\n",
    "\n",
    "    pnl = df_merge.groupby('date')['pnl'].sum()\n",
    "    sharpe = pnl.mean()/pnl.std() * 252**0.5\n",
    "\n",
    "    pnl.cumsum().plot()\n",
    "    print(f'sharpe: {sharpe}')\n",
    "    return df_merge"
   ]
  },
  {
   "cell_type": "code",
   "execution_count": 10,
   "metadata": {},
   "outputs": [
    {
     "name": "stdout",
     "output_type": "stream",
     "text": [
      "Wall time: 0 ns\n"
     ]
    }
   ],
   "source": [
    "%%time\n",
    "portfolio_parameters = dict(model='HRP',\n",
    "                            codependence = 'pearson',\n",
    "                            rm = 'MV',\n",
    "                            rf = 0,\n",
    "                            linkage = 'single',\n",
    "                            max_k = 10,\n",
    "                            leaf_order = True)"
   ]
  },
  {
   "cell_type": "code",
   "execution_count": 14,
   "metadata": {},
   "outputs": [
    {
     "name": "stderr",
     "output_type": "stream",
     "text": [
      "100%|██████████████████████████████████████████████████████████████████████████████| 1771/1771 [01:50<00:00, 15.98it/s]\n"
     ]
    },
    {
     "name": "stdout",
     "output_type": "stream",
     "text": [
      "weights_std_corr: -0.25223435167333547\n",
      "sharpe: 0.4951946429703976\n",
      "Wall time: 1min 51s\n"
     ]
    },
    {
     "data": {
      "image/png": "[encoded data removed]",
      "text/plain": [
       "<Figure size 432x288 with 1 Axes>"
      ]
     },
     "metadata": {},
     "output_type": "display_data"
    }
   ],
   "source": [
    "steps_by_update = 10\n",
    "_ = evaluate_rp_allocation(df, return_columns, portfolio_parameters, steps_by_update)"
   ]
  },
  {
   "cell_type": "code",
   "execution_count": 18,
   "metadata": {},
   "outputs": [
    {
     "name": "stderr",
     "output_type": "stream",
     "text": [
      "100%|██████████████████████████████████████████████████████████████████████████████| 1771/1771 [03:17<00:00,  8.97it/s]\n"
     ]
    },
    {
     "name": "stdout",
     "output_type": "stream",
     "text": [
      "weights_std_corr: -0.5516537055255089\n",
      "sharpe: 0.9359545250304856\n",
      "Wall time: 3min 18s\n"
     ]
    },
    {
     "data": {
      "image/png": "[encoded data removed]",
      "text/plain": [
       "<Figure size 432x288 with 1 Axes>"
      ]
     },
     "metadata": {},
     "output_type": "display_data"
    }
   ],
   "source": [
    "%%time\n",
    "steps_by_update = 1\n",
    "_ = evaluate_rp_allocation(df.query(\"rank_pred < 20\"), return_columns, portfolio_parameters, steps_by_update)"
   ]
  },
  {
   "cell_type": "code",
   "execution_count": 19,
   "metadata": {},
   "outputs": [
    {
     "name": "stdout",
     "output_type": "stream",
     "text": [
      "Wall time: 0 ns\n"
     ]
    }
   ],
   "source": [
    "%%time\n",
    "portfolio_parameters = dict(inverse_vol=True)"
   ]
  },
  {
   "cell_type": "code",
   "execution_count": 16,
   "metadata": {},
   "outputs": [
    {
     "name": "stderr",
     "output_type": "stream",
     "text": [
      "100%|█████████████████████████████████████████████████████████████████████████████| 1771/1771 [00:07<00:00, 240.30it/s]\n"
     ]
    },
    {
     "name": "stdout",
     "output_type": "stream",
     "text": [
      "weights_std_corr: -0.6457788563474818\n",
      "sharpe: 0.690767745729287\n"
     ]
    },
    {
     "data": {
      "image/png": "[encoded data removed]",
      "text/plain": [
       "<Figure size 432x288 with 1 Axes>"
      ]
     },
     "metadata": {},
     "output_type": "display_data"
    }
   ],
   "source": [
    "steps_by_update = 10\n",
    "_ = evaluate_rp_allocation(df, return_columns, portfolio_parameters, steps_by_update)"
   ]
  },
  {
   "cell_type": "code",
   "execution_count": 22,
   "metadata": {},
   "outputs": [
    {
     "name": "stderr",
     "output_type": "stream",
     "text": [
      "100%|█████████████████████████████████████████████████████████████████████████████| 1771/1771 [00:09<00:00, 184.66it/s]\n"
     ]
    },
    {
     "name": "stdout",
     "output_type": "stream",
     "text": [
      "weights_std_corr: -0.698007931766652\n",
      "sharpe: 0.9453573799765881\n",
      "Wall time: 10.5 s\n"
     ]
    },
    {
     "data": {
      "image/png": "[encoded data removed]",
      "text/plain": [
       "<Figure size 432x288 with 1 Axes>"
      ]
     },
     "metadata": {},
     "output_type": "display_data"
    }
   ],
   "source": [
    "%%time\n",
    "steps_by_update = 1\n",
    "_ = evaluate_rp_allocation(df.query(\"rank_pred < 20\"), return_columns, portfolio_parameters, steps_by_update)"
   ]
  },
  {
   "cell_type": "markdown",
   "metadata": {},
   "source": [
    "### Allocations with custom  mu"
   ]
  },
  {
   "cell_type": "code",
   "execution_count": null,
   "metadata": {},
   "outputs": [],
   "source": []
  },
  {
   "cell_type": "markdown",
   "metadata": {},
   "source": [
    "<hr />"
   ]
  },
  {
   "cell_type": "markdown",
   "metadata": {},
   "source": [
    "### Compute covariance matrices"
   ]
  },
  {
   "cell_type": "code",
   "execution_count": 4,
   "metadata": {},
   "outputs": [],
   "source": [
    "def split_sequence(sequence, n_steps, drop_zeros = True):\n",
    "    list_subsequences = []\n",
    "    empty_subsequence = [np.nan] * n_steps\n",
    "    # Fill the initial subsequences with nan\n",
    "    for i in range(min(n_steps, len(sequence))):\n",
    "        list_subsequences.append(empty_subsequence)\n",
    "    if len(sequence) <= n_steps:\n",
    "        return list_subsequences\n",
    "    # Fill the remaining subsequences\n",
    "    for i in range(n_steps, len(sequence)):\n",
    "        subsequence = sequence[i - n_steps:i]\n",
    "        if len(np.unique(subsequence) == 1) & drop_zeros:\n",
    "            subsequence = empty_subsequence\n",
    "        list_subsequences.append(subsequence)\n",
    "    return list_subsequences"
   ]
  },
  {
   "cell_type": "code",
   "execution_count": 5,
   "metadata": {},
   "outputs": [
    {
     "name": "stdout",
     "output_type": "stream",
     "text": [
      "Wall time: 15.1 s\n"
     ]
    }
   ],
   "source": [
    "%%time\n",
    "n_steps = 60\n",
    "columns = ['t_minus_{}'.format(n_steps - i) for i in range(n_steps)]\n",
    "list_df = []\n",
    "for asset, data in df.groupby('asset_identifier'):\n",
    "    ret_shift_as_seq = split_sequence(data.loc[:, 'ret'].to_list(), n_steps)\n",
    "    ret_shift_as_seq = pd.DataFrame(ret_shift_as_seq, index = data.index, columns = columns)\n",
    "    data = data.join(ret_shift_as_seq)\n",
    "    list_df.append(data)\n",
    "df = pd.concat(list_df)\n",
    "df = df[['asset_identifier', 'date'] + columns].query(\"date > '2007-12-31'\").reset_index(drop = True)"
   ]
  },
  {
   "cell_type": "code",
   "execution_count": 6,
   "metadata": {},
   "outputs": [],
   "source": [
    "dict_covariances_by_date = {}"
   ]
  },
  {
   "cell_type": "code",
   "execution_count": 7,
   "metadata": {},
   "outputs": [
    {
     "name": "stdout",
     "output_type": "stream",
     "text": [
      "Wall time: 11.1 s\n"
     ]
    }
   ],
   "source": [
    "%%time\n",
    "for date, data in df.groupby('date'):\n",
    "    cov = data.drop(columns = ['date']).set_index('asset_identifier').T.cov()\n",
    "    dict_covariances_by_date[date] = cov"
   ]
  },
  {
   "cell_type": "markdown",
   "metadata": {},
   "source": [
    "<hr />"
   ]
  }
 ],
 "metadata": {
  "kernelspec": {
   "display_name": "Python 3",
   "language": "python",
   "name": "python3"
  },
  "language_info": {
   "codemirror_mode": {
    "name": "ipython",
    "version": 3
   },
   "file_extension": ".py",
   "mimetype": "text/x-python",
   "name": "python",
   "nbconvert_exporter": "python",
   "pygments_lexer": "ipython3",
   "version": "3.8.5"
  }
 },
 "nbformat": 4,
 "nbformat_minor": 4
}
