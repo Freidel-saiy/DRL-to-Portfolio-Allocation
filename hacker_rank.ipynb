{
 "cells": [
  {
   "cell_type": "code",
   "execution_count": 29,
   "metadata": {},
   "outputs": [],
   "source": [
    "dna = 'aacacaaaacaa'\n",
    "genes = ['aac']\n",
    "health = [10]"
   ]
  },
  {
   "cell_type": "code",
   "execution_count": 30,
   "metadata": {},
   "outputs": [
    {
     "data": {
      "text/plain": [
       "2"
      ]
     },
     "execution_count": 30,
     "metadata": {},
     "output_type": "execute_result"
    }
   ],
   "source": [
    "gene = genes[0]\n",
    "def n_apparithions_brute_force(gene, dna):\n",
    "    #Brute force\n",
    "    n = len(dna)\n",
    "    m = len(gene)\n",
    "    number_apparithions = 0\n",
    "    for i in range(n - m + 1):\n",
    "        for j in range(m):\n",
    "            if dna[i + j] != gene[j]: \n",
    "                break\n",
    "            if j == m - 1:\n",
    "                number_apparithions += 1\n",
    "    return number_apparithions\n",
    "n_apparithions(gene, dna)"
   ]
  },
  {
   "cell_type": "code",
   "execution_count": 33,
   "metadata": {},
   "outputs": [
    {
     "data": {
      "text/plain": [
       "2"
      ]
     },
     "execution_count": 33,
     "metadata": {},
     "output_type": "execute_result"
    }
   ],
   "source": [
    "gene = genes[0]\n",
    "def n_apparithions_minor_improvement(gene, dna):\n",
    "    #Brute force\n",
    "    n = len(dna)\n",
    "    m = len(gene)\n",
    "    number_apparithions = 0\n",
    "    while i < n - m + 1:\n",
    "        for j in range(m):\n",
    "            if dna[i + j] != gene[j]: \n",
    "                break\n",
    "            if j == m - 1:\n",
    "                number_apparithions += 1\n",
    "        i += 1\n",
    "    return number_apparithions\n",
    "n_apparithions(gene, dna)"
   ]
  },
  {
   "cell_type": "code",
   "execution_count": 34,
   "metadata": {},
   "outputs": [
    {
     "data": {
      "text/plain": [
       "1"
      ]
     },
     "execution_count": 34,
     "metadata": {},
     "output_type": "execute_result"
    }
   ],
   "source": [
    "n_apparithions('ABABCABAB', 'ABABDABACDABABCABAB')"
   ]
  },
  {
   "cell_type": "code",
   "execution_count": 22,
   "metadata": {},
   "outputs": [
    {
     "data": {
      "text/plain": [
       "3"
      ]
     },
     "execution_count": 22,
     "metadata": {},
     "output_type": "execute_result"
    }
   ],
   "source": [
    "number_apparithions"
   ]
  },
  {
   "cell_type": "code",
   "execution_count": 32,
   "metadata": {},
   "outputs": [
    {
     "name": "stdout",
     "output_type": "stream",
     "text": [
      "0\n",
      "1\n",
      "9\n",
      "3\n",
      "4\n",
      "5\n",
      "6\n",
      "7\n",
      "8\n",
      "9\n"
     ]
    }
   ],
   "source": [
    "for i in range(10):\n",
    "    if i == 2:\n",
    "        i = 9\n",
    "    print(i)"
   ]
  },
  {
   "cell_type": "code",
   "execution_count": null,
   "metadata": {},
   "outputs": [],
   "source": []
  }
 ],
 "metadata": {
  "kernelspec": {
   "display_name": "Python 3",
   "language": "python",
   "name": "python3"
  },
  "language_info": {
   "codemirror_mode": {
    "name": "ipython",
    "version": 3
   },
   "file_extension": ".py",
   "mimetype": "text/x-python",
   "name": "python",
   "nbconvert_exporter": "python",
   "pygments_lexer": "ipython3",
   "version": "3.8.5"
  }
 },
 "nbformat": 4,
 "nbformat_minor": 4
}
